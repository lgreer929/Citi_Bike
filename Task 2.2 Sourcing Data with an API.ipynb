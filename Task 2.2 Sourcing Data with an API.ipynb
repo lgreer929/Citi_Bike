{
 "cells": [
  {
   "cell_type": "markdown",
   "id": "5f906fb6-b96c-4036-a2b9-9060512fe267",
   "metadata": {},
   "source": [
    "# Task 2.2 Sourcing Data with an API"
   ]
  },
  {
   "cell_type": "code",
   "execution_count": 3,
   "id": "7dffeaf6-8e99-4116-98b3-3b0369187bdc",
   "metadata": {},
   "outputs": [],
   "source": [
    "# import libraries\n",
    "import pandas as pd \n",
    "import numpy as np\n",
    "import os \n",
    "import requests\n",
    "import json\n",
    "from datetime import datetime"
   ]
  },
  {
   "cell_type": "markdown",
   "id": "10a6a63b-4247-431d-bdbc-9766f0d71b69",
   "metadata": {},
   "source": [
    "## Concatenate Data"
   ]
  },
  {
   "cell_type": "code",
   "execution_count": 11,
   "id": "2be3d321-14bf-417e-8a1b-704f6d450673",
   "metadata": {},
   "outputs": [],
   "source": [
    "# create a list with all files in the folder using a list compehension\n",
    "folderpath = r\"2022-citibike-tripdata\"\n",
    "filepaths  = [os.path.join(folderpath, name) for name in os.listdir(folderpath)]"
   ]
  },
  {
   "cell_type": "code",
   "execution_count": 13,
   "id": "4f004212-437a-41f3-866d-481973c81e81",
   "metadata": {
    "scrolled": true
   },
   "outputs": [
    {
     "data": {
      "text/plain": [
       "['2022-citibike-tripdata\\\\202201-citibike-tripdata_1.csv',\n",
       " '2022-citibike-tripdata\\\\202201-citibike-tripdata_2.csv',\n",
       " '2022-citibike-tripdata\\\\202202-citibike-tripdata_1.csv',\n",
       " '2022-citibike-tripdata\\\\202202-citibike-tripdata_2.csv',\n",
       " '2022-citibike-tripdata\\\\202203-citibike-tripdata_1.csv',\n",
       " '2022-citibike-tripdata\\\\202203-citibike-tripdata_2.csv',\n",
       " '2022-citibike-tripdata\\\\202204-citibike-tripdata_1.csv',\n",
       " '2022-citibike-tripdata\\\\202204-citibike-tripdata_2.csv',\n",
       " '2022-citibike-tripdata\\\\202204-citibike-tripdata_3.csv',\n",
       " '2022-citibike-tripdata\\\\202205-citibike-tripdata_1.csv',\n",
       " '2022-citibike-tripdata\\\\202205-citibike-tripdata_2.csv',\n",
       " '2022-citibike-tripdata\\\\202205-citibike-tripdata_3.csv',\n",
       " '2022-citibike-tripdata\\\\202206-citibike-tripdata_1.csv',\n",
       " '2022-citibike-tripdata\\\\202206-citibike-tripdata_2.csv',\n",
       " '2022-citibike-tripdata\\\\202206-citibike-tripdata_3.csv',\n",
       " '2022-citibike-tripdata\\\\202206-citibike-tripdata_4.csv',\n",
       " '2022-citibike-tripdata\\\\202207-citibike-tripdata_1.csv',\n",
       " '2022-citibike-tripdata\\\\202207-citibike-tripdata_2.csv',\n",
       " '2022-citibike-tripdata\\\\202207-citibike-tripdata_3.csv',\n",
       " '2022-citibike-tripdata\\\\202207-citibike-tripdata_4.csv',\n",
       " '2022-citibike-tripdata\\\\202208-citibike-tripdata_1.csv',\n",
       " '2022-citibike-tripdata\\\\202208-citibike-tripdata_2.csv',\n",
       " '2022-citibike-tripdata\\\\202208-citibike-tripdata_3.csv',\n",
       " '2022-citibike-tripdata\\\\202208-citibike-tripdata_4.csv',\n",
       " '2022-citibike-tripdata\\\\202209-citibike-tripdata_1.csv',\n",
       " '2022-citibike-tripdata\\\\202209-citibike-tripdata_2.csv',\n",
       " '2022-citibike-tripdata\\\\202209-citibike-tripdata_3.csv',\n",
       " '2022-citibike-tripdata\\\\202209-citibike-tripdata_4.csv',\n",
       " '2022-citibike-tripdata\\\\202210-citibike-tripdata_1.csv',\n",
       " '2022-citibike-tripdata\\\\202210-citibike-tripdata_2.csv',\n",
       " '2022-citibike-tripdata\\\\202210-citibike-tripdata_3.csv',\n",
       " '2022-citibike-tripdata\\\\202211-citibike-tripdata_1.csv',\n",
       " '2022-citibike-tripdata\\\\202211-citibike-tripdata_2.csv',\n",
       " '2022-citibike-tripdata\\\\202211-citibike-tripdata_3.csv',\n",
       " '2022-citibike-tripdata\\\\202212-citibike-tripdata_1.csv',\n",
       " '2022-citibike-tripdata\\\\202212-citibike-tripdata_2.csv']"
      ]
     },
     "execution_count": 13,
     "metadata": {},
     "output_type": "execute_result"
    }
   ],
   "source": [
    "filepaths"
   ]
  },
  {
   "cell_type": "code",
   "execution_count": 18,
   "id": "05cabd9a-a873-4983-88b2-7837df4bd219",
   "metadata": {
    "scrolled": true
   },
   "outputs": [
    {
     "name": "stderr",
     "output_type": "stream",
     "text": [
      "C:\\Users\\lisag\\AppData\\Local\\Temp\\ipykernel_12484\\1438696561.py:4: DtypeWarning: Columns (5,7) have mixed types. Specify dtype option on import or set low_memory=False.\n",
      "  temp_df = pd.read_csv(f)\n"
     ]
    },
    {
     "name": "stdout",
     "output_type": "stream",
     "text": [
      "ride_id                object\n",
      "rideable_type          object\n",
      "started_at             object\n",
      "ended_at               object\n",
      "start_station_name     object\n",
      "start_station_id       object\n",
      "end_station_name       object\n",
      "end_station_id         object\n",
      "start_lat             float64\n",
      "start_lng             float64\n",
      "end_lat               float64\n",
      "end_lng               float64\n",
      "member_casual          object\n",
      "dtype: object\n",
      "ride_id                object\n",
      "rideable_type          object\n",
      "started_at             object\n",
      "ended_at               object\n",
      "start_station_name     object\n",
      "start_station_id      float64\n",
      "end_station_name       object\n",
      "end_station_id        float64\n",
      "start_lat             float64\n",
      "start_lng             float64\n",
      "end_lat               float64\n",
      "end_lng               float64\n",
      "member_casual          object\n",
      "dtype: object\n"
     ]
    },
    {
     "name": "stderr",
     "output_type": "stream",
     "text": [
      "C:\\Users\\lisag\\AppData\\Local\\Temp\\ipykernel_12484\\1438696561.py:4: DtypeWarning: Columns (5,7) have mixed types. Specify dtype option on import or set low_memory=False.\n",
      "  temp_df = pd.read_csv(f)\n"
     ]
    },
    {
     "name": "stdout",
     "output_type": "stream",
     "text": [
      "ride_id                object\n",
      "rideable_type          object\n",
      "started_at             object\n",
      "ended_at               object\n",
      "start_station_name     object\n",
      "start_station_id       object\n",
      "end_station_name       object\n",
      "end_station_id         object\n",
      "start_lat             float64\n",
      "start_lng             float64\n",
      "end_lat               float64\n",
      "end_lng               float64\n",
      "member_casual          object\n",
      "dtype: object\n"
     ]
    },
    {
     "name": "stderr",
     "output_type": "stream",
     "text": [
      "C:\\Users\\lisag\\AppData\\Local\\Temp\\ipykernel_12484\\1438696561.py:4: DtypeWarning: Columns (7) have mixed types. Specify dtype option on import or set low_memory=False.\n",
      "  temp_df = pd.read_csv(f)\n"
     ]
    },
    {
     "name": "stdout",
     "output_type": "stream",
     "text": [
      "ride_id                object\n",
      "rideable_type          object\n",
      "started_at             object\n",
      "ended_at               object\n",
      "start_station_name     object\n",
      "start_station_id      float64\n",
      "end_station_name       object\n",
      "end_station_id         object\n",
      "start_lat             float64\n",
      "start_lng             float64\n",
      "end_lat               float64\n",
      "end_lng               float64\n",
      "member_casual          object\n",
      "dtype: object\n"
     ]
    },
    {
     "name": "stderr",
     "output_type": "stream",
     "text": [
      "C:\\Users\\lisag\\AppData\\Local\\Temp\\ipykernel_12484\\1438696561.py:4: DtypeWarning: Columns (5,7) have mixed types. Specify dtype option on import or set low_memory=False.\n",
      "  temp_df = pd.read_csv(f)\n"
     ]
    },
    {
     "name": "stdout",
     "output_type": "stream",
     "text": [
      "ride_id                object\n",
      "rideable_type          object\n",
      "started_at             object\n",
      "ended_at               object\n",
      "start_station_name     object\n",
      "start_station_id       object\n",
      "end_station_name       object\n",
      "end_station_id         object\n",
      "start_lat             float64\n",
      "start_lng             float64\n",
      "end_lat               float64\n",
      "end_lng               float64\n",
      "member_casual          object\n",
      "dtype: object\n"
     ]
    },
    {
     "name": "stderr",
     "output_type": "stream",
     "text": [
      "C:\\Users\\lisag\\AppData\\Local\\Temp\\ipykernel_12484\\1438696561.py:4: DtypeWarning: Columns (5,7) have mixed types. Specify dtype option on import or set low_memory=False.\n",
      "  temp_df = pd.read_csv(f)\n"
     ]
    },
    {
     "name": "stdout",
     "output_type": "stream",
     "text": [
      "ride_id                object\n",
      "rideable_type          object\n",
      "started_at             object\n",
      "ended_at               object\n",
      "start_station_name     object\n",
      "start_station_id       object\n",
      "end_station_name       object\n",
      "end_station_id         object\n",
      "start_lat             float64\n",
      "start_lng             float64\n",
      "end_lat               float64\n",
      "end_lng               float64\n",
      "member_casual          object\n",
      "dtype: object\n"
     ]
    },
    {
     "name": "stderr",
     "output_type": "stream",
     "text": [
      "C:\\Users\\lisag\\AppData\\Local\\Temp\\ipykernel_12484\\1438696561.py:4: DtypeWarning: Columns (5,7) have mixed types. Specify dtype option on import or set low_memory=False.\n",
      "  temp_df = pd.read_csv(f)\n"
     ]
    },
    {
     "name": "stdout",
     "output_type": "stream",
     "text": [
      "ride_id                object\n",
      "rideable_type          object\n",
      "started_at             object\n",
      "ended_at               object\n",
      "start_station_name     object\n",
      "start_station_id       object\n",
      "end_station_name       object\n",
      "end_station_id         object\n",
      "start_lat             float64\n",
      "start_lng             float64\n",
      "end_lat               float64\n",
      "end_lng               float64\n",
      "member_casual          object\n",
      "dtype: object\n"
     ]
    },
    {
     "name": "stderr",
     "output_type": "stream",
     "text": [
      "C:\\Users\\lisag\\AppData\\Local\\Temp\\ipykernel_12484\\1438696561.py:4: DtypeWarning: Columns (5,7) have mixed types. Specify dtype option on import or set low_memory=False.\n",
      "  temp_df = pd.read_csv(f)\n"
     ]
    },
    {
     "name": "stdout",
     "output_type": "stream",
     "text": [
      "ride_id                object\n",
      "rideable_type          object\n",
      "started_at             object\n",
      "ended_at               object\n",
      "start_station_name     object\n",
      "start_station_id       object\n",
      "end_station_name       object\n",
      "end_station_id         object\n",
      "start_lat             float64\n",
      "start_lng             float64\n",
      "end_lat               float64\n",
      "end_lng               float64\n",
      "member_casual          object\n",
      "dtype: object\n"
     ]
    },
    {
     "name": "stderr",
     "output_type": "stream",
     "text": [
      "C:\\Users\\lisag\\AppData\\Local\\Temp\\ipykernel_12484\\1438696561.py:4: DtypeWarning: Columns (5,7) have mixed types. Specify dtype option on import or set low_memory=False.\n",
      "  temp_df = pd.read_csv(f)\n"
     ]
    },
    {
     "name": "stdout",
     "output_type": "stream",
     "text": [
      "ride_id                object\n",
      "rideable_type          object\n",
      "started_at             object\n",
      "ended_at               object\n",
      "start_station_name     object\n",
      "start_station_id       object\n",
      "end_station_name       object\n",
      "end_station_id         object\n",
      "start_lat             float64\n",
      "start_lng             float64\n",
      "end_lat               float64\n",
      "end_lng               float64\n",
      "member_casual          object\n",
      "dtype: object\n"
     ]
    },
    {
     "name": "stderr",
     "output_type": "stream",
     "text": [
      "C:\\Users\\lisag\\AppData\\Local\\Temp\\ipykernel_12484\\1438696561.py:4: DtypeWarning: Columns (5,7) have mixed types. Specify dtype option on import or set low_memory=False.\n",
      "  temp_df = pd.read_csv(f)\n"
     ]
    },
    {
     "name": "stdout",
     "output_type": "stream",
     "text": [
      "ride_id                object\n",
      "rideable_type          object\n",
      "started_at             object\n",
      "ended_at               object\n",
      "start_station_name     object\n",
      "start_station_id       object\n",
      "end_station_name       object\n",
      "end_station_id         object\n",
      "start_lat             float64\n",
      "start_lng             float64\n",
      "end_lat               float64\n",
      "end_lng               float64\n",
      "member_casual          object\n",
      "dtype: object\n"
     ]
    },
    {
     "name": "stderr",
     "output_type": "stream",
     "text": [
      "C:\\Users\\lisag\\AppData\\Local\\Temp\\ipykernel_12484\\1438696561.py:4: DtypeWarning: Columns (5,7) have mixed types. Specify dtype option on import or set low_memory=False.\n",
      "  temp_df = pd.read_csv(f)\n"
     ]
    },
    {
     "name": "stdout",
     "output_type": "stream",
     "text": [
      "ride_id                object\n",
      "rideable_type          object\n",
      "started_at             object\n",
      "ended_at               object\n",
      "start_station_name     object\n",
      "start_station_id       object\n",
      "end_station_name       object\n",
      "end_station_id         object\n",
      "start_lat             float64\n",
      "start_lng             float64\n",
      "end_lat               float64\n",
      "end_lng               float64\n",
      "member_casual          object\n",
      "dtype: object\n"
     ]
    },
    {
     "name": "stderr",
     "output_type": "stream",
     "text": [
      "C:\\Users\\lisag\\AppData\\Local\\Temp\\ipykernel_12484\\1438696561.py:4: DtypeWarning: Columns (5,7) have mixed types. Specify dtype option on import or set low_memory=False.\n",
      "  temp_df = pd.read_csv(f)\n"
     ]
    },
    {
     "name": "stdout",
     "output_type": "stream",
     "text": [
      "ride_id                object\n",
      "rideable_type          object\n",
      "started_at             object\n",
      "ended_at               object\n",
      "start_station_name     object\n",
      "start_station_id       object\n",
      "end_station_name       object\n",
      "end_station_id         object\n",
      "start_lat             float64\n",
      "start_lng             float64\n",
      "end_lat               float64\n",
      "end_lng               float64\n",
      "member_casual          object\n",
      "dtype: object\n"
     ]
    },
    {
     "name": "stderr",
     "output_type": "stream",
     "text": [
      "C:\\Users\\lisag\\AppData\\Local\\Temp\\ipykernel_12484\\1438696561.py:4: DtypeWarning: Columns (5,7) have mixed types. Specify dtype option on import or set low_memory=False.\n",
      "  temp_df = pd.read_csv(f)\n"
     ]
    },
    {
     "name": "stdout",
     "output_type": "stream",
     "text": [
      "ride_id                object\n",
      "rideable_type          object\n",
      "started_at             object\n",
      "ended_at               object\n",
      "start_station_name     object\n",
      "start_station_id       object\n",
      "end_station_name       object\n",
      "end_station_id         object\n",
      "start_lat             float64\n",
      "start_lng             float64\n",
      "end_lat               float64\n",
      "end_lng               float64\n",
      "member_casual          object\n",
      "dtype: object\n"
     ]
    },
    {
     "name": "stderr",
     "output_type": "stream",
     "text": [
      "C:\\Users\\lisag\\AppData\\Local\\Temp\\ipykernel_12484\\1438696561.py:4: DtypeWarning: Columns (5,7) have mixed types. Specify dtype option on import or set low_memory=False.\n",
      "  temp_df = pd.read_csv(f)\n"
     ]
    },
    {
     "name": "stdout",
     "output_type": "stream",
     "text": [
      "ride_id                object\n",
      "rideable_type          object\n",
      "started_at             object\n",
      "ended_at               object\n",
      "start_station_name     object\n",
      "start_station_id       object\n",
      "end_station_name       object\n",
      "end_station_id         object\n",
      "start_lat             float64\n",
      "start_lng             float64\n",
      "end_lat               float64\n",
      "end_lng               float64\n",
      "member_casual          object\n",
      "dtype: object\n"
     ]
    },
    {
     "name": "stderr",
     "output_type": "stream",
     "text": [
      "C:\\Users\\lisag\\AppData\\Local\\Temp\\ipykernel_12484\\1438696561.py:4: DtypeWarning: Columns (5,7) have mixed types. Specify dtype option on import or set low_memory=False.\n",
      "  temp_df = pd.read_csv(f)\n"
     ]
    },
    {
     "name": "stdout",
     "output_type": "stream",
     "text": [
      "ride_id                object\n",
      "rideable_type          object\n",
      "started_at             object\n",
      "ended_at               object\n",
      "start_station_name     object\n",
      "start_station_id       object\n",
      "end_station_name       object\n",
      "end_station_id         object\n",
      "start_lat             float64\n",
      "start_lng             float64\n",
      "end_lat               float64\n",
      "end_lng               float64\n",
      "member_casual          object\n",
      "dtype: object\n"
     ]
    },
    {
     "name": "stderr",
     "output_type": "stream",
     "text": [
      "C:\\Users\\lisag\\AppData\\Local\\Temp\\ipykernel_12484\\1438696561.py:4: DtypeWarning: Columns (5,7) have mixed types. Specify dtype option on import or set low_memory=False.\n",
      "  temp_df = pd.read_csv(f)\n"
     ]
    },
    {
     "name": "stdout",
     "output_type": "stream",
     "text": [
      "ride_id                object\n",
      "rideable_type          object\n",
      "started_at             object\n",
      "ended_at               object\n",
      "start_station_name     object\n",
      "start_station_id       object\n",
      "end_station_name       object\n",
      "end_station_id         object\n",
      "start_lat             float64\n",
      "start_lng             float64\n",
      "end_lat               float64\n",
      "end_lng               float64\n",
      "member_casual          object\n",
      "dtype: object\n"
     ]
    },
    {
     "name": "stderr",
     "output_type": "stream",
     "text": [
      "C:\\Users\\lisag\\AppData\\Local\\Temp\\ipykernel_12484\\1438696561.py:4: DtypeWarning: Columns (5,7) have mixed types. Specify dtype option on import or set low_memory=False.\n",
      "  temp_df = pd.read_csv(f)\n"
     ]
    },
    {
     "name": "stdout",
     "output_type": "stream",
     "text": [
      "ride_id                object\n",
      "rideable_type          object\n",
      "started_at             object\n",
      "ended_at               object\n",
      "start_station_name     object\n",
      "start_station_id       object\n",
      "end_station_name       object\n",
      "end_station_id         object\n",
      "start_lat             float64\n",
      "start_lng             float64\n",
      "end_lat               float64\n",
      "end_lng               float64\n",
      "member_casual          object\n",
      "dtype: object\n"
     ]
    },
    {
     "name": "stderr",
     "output_type": "stream",
     "text": [
      "C:\\Users\\lisag\\AppData\\Local\\Temp\\ipykernel_12484\\1438696561.py:4: DtypeWarning: Columns (5,7) have mixed types. Specify dtype option on import or set low_memory=False.\n",
      "  temp_df = pd.read_csv(f)\n"
     ]
    },
    {
     "name": "stdout",
     "output_type": "stream",
     "text": [
      "ride_id                object\n",
      "rideable_type          object\n",
      "started_at             object\n",
      "ended_at               object\n",
      "start_station_name     object\n",
      "start_station_id       object\n",
      "end_station_name       object\n",
      "end_station_id         object\n",
      "start_lat             float64\n",
      "start_lng             float64\n",
      "end_lat               float64\n",
      "end_lng               float64\n",
      "member_casual          object\n",
      "dtype: object\n"
     ]
    },
    {
     "name": "stderr",
     "output_type": "stream",
     "text": [
      "C:\\Users\\lisag\\AppData\\Local\\Temp\\ipykernel_12484\\1438696561.py:4: DtypeWarning: Columns (5,7) have mixed types. Specify dtype option on import or set low_memory=False.\n",
      "  temp_df = pd.read_csv(f)\n"
     ]
    },
    {
     "name": "stdout",
     "output_type": "stream",
     "text": [
      "ride_id                object\n",
      "rideable_type          object\n",
      "started_at             object\n",
      "ended_at               object\n",
      "start_station_name     object\n",
      "start_station_id       object\n",
      "end_station_name       object\n",
      "end_station_id         object\n",
      "start_lat             float64\n",
      "start_lng             float64\n",
      "end_lat               float64\n",
      "end_lng               float64\n",
      "member_casual          object\n",
      "dtype: object\n"
     ]
    },
    {
     "name": "stderr",
     "output_type": "stream",
     "text": [
      "C:\\Users\\lisag\\AppData\\Local\\Temp\\ipykernel_12484\\1438696561.py:4: DtypeWarning: Columns (5,7) have mixed types. Specify dtype option on import or set low_memory=False.\n",
      "  temp_df = pd.read_csv(f)\n"
     ]
    },
    {
     "name": "stdout",
     "output_type": "stream",
     "text": [
      "ride_id                object\n",
      "rideable_type          object\n",
      "started_at             object\n",
      "ended_at               object\n",
      "start_station_name     object\n",
      "start_station_id       object\n",
      "end_station_name       object\n",
      "end_station_id         object\n",
      "start_lat             float64\n",
      "start_lng             float64\n",
      "end_lat               float64\n",
      "end_lng               float64\n",
      "member_casual          object\n",
      "dtype: object\n"
     ]
    },
    {
     "name": "stderr",
     "output_type": "stream",
     "text": [
      "C:\\Users\\lisag\\AppData\\Local\\Temp\\ipykernel_12484\\1438696561.py:4: DtypeWarning: Columns (5,7) have mixed types. Specify dtype option on import or set low_memory=False.\n",
      "  temp_df = pd.read_csv(f)\n"
     ]
    },
    {
     "name": "stdout",
     "output_type": "stream",
     "text": [
      "ride_id                object\n",
      "rideable_type          object\n",
      "started_at             object\n",
      "ended_at               object\n",
      "start_station_name     object\n",
      "start_station_id       object\n",
      "end_station_name       object\n",
      "end_station_id         object\n",
      "start_lat             float64\n",
      "start_lng             float64\n",
      "end_lat               float64\n",
      "end_lng               float64\n",
      "member_casual          object\n",
      "dtype: object\n"
     ]
    },
    {
     "name": "stderr",
     "output_type": "stream",
     "text": [
      "C:\\Users\\lisag\\AppData\\Local\\Temp\\ipykernel_12484\\1438696561.py:4: DtypeWarning: Columns (5,7) have mixed types. Specify dtype option on import or set low_memory=False.\n",
      "  temp_df = pd.read_csv(f)\n"
     ]
    },
    {
     "name": "stdout",
     "output_type": "stream",
     "text": [
      "ride_id                object\n",
      "rideable_type          object\n",
      "started_at             object\n",
      "ended_at               object\n",
      "start_station_name     object\n",
      "start_station_id       object\n",
      "end_station_name       object\n",
      "end_station_id         object\n",
      "start_lat             float64\n",
      "start_lng             float64\n",
      "end_lat               float64\n",
      "end_lng               float64\n",
      "member_casual          object\n",
      "dtype: object\n"
     ]
    },
    {
     "name": "stderr",
     "output_type": "stream",
     "text": [
      "C:\\Users\\lisag\\AppData\\Local\\Temp\\ipykernel_12484\\1438696561.py:4: DtypeWarning: Columns (5,7) have mixed types. Specify dtype option on import or set low_memory=False.\n",
      "  temp_df = pd.read_csv(f)\n"
     ]
    },
    {
     "name": "stdout",
     "output_type": "stream",
     "text": [
      "ride_id                object\n",
      "rideable_type          object\n",
      "started_at             object\n",
      "ended_at               object\n",
      "start_station_name     object\n",
      "start_station_id       object\n",
      "end_station_name       object\n",
      "end_station_id         object\n",
      "start_lat             float64\n",
      "start_lng             float64\n",
      "end_lat               float64\n",
      "end_lng               float64\n",
      "member_casual          object\n",
      "dtype: object\n"
     ]
    },
    {
     "name": "stderr",
     "output_type": "stream",
     "text": [
      "C:\\Users\\lisag\\AppData\\Local\\Temp\\ipykernel_12484\\1438696561.py:4: DtypeWarning: Columns (5,7) have mixed types. Specify dtype option on import or set low_memory=False.\n",
      "  temp_df = pd.read_csv(f)\n"
     ]
    },
    {
     "name": "stdout",
     "output_type": "stream",
     "text": [
      "ride_id                object\n",
      "rideable_type          object\n",
      "started_at             object\n",
      "ended_at               object\n",
      "start_station_name     object\n",
      "start_station_id       object\n",
      "end_station_name       object\n",
      "end_station_id         object\n",
      "start_lat             float64\n",
      "start_lng             float64\n",
      "end_lat               float64\n",
      "end_lng               float64\n",
      "member_casual          object\n",
      "dtype: object\n"
     ]
    },
    {
     "name": "stderr",
     "output_type": "stream",
     "text": [
      "C:\\Users\\lisag\\AppData\\Local\\Temp\\ipykernel_12484\\1438696561.py:4: DtypeWarning: Columns (5,7) have mixed types. Specify dtype option on import or set low_memory=False.\n",
      "  temp_df = pd.read_csv(f)\n"
     ]
    },
    {
     "name": "stdout",
     "output_type": "stream",
     "text": [
      "ride_id                object\n",
      "rideable_type          object\n",
      "started_at             object\n",
      "ended_at               object\n",
      "start_station_name     object\n",
      "start_station_id       object\n",
      "end_station_name       object\n",
      "end_station_id         object\n",
      "start_lat             float64\n",
      "start_lng             float64\n",
      "end_lat               float64\n",
      "end_lng               float64\n",
      "member_casual          object\n",
      "dtype: object\n"
     ]
    },
    {
     "name": "stderr",
     "output_type": "stream",
     "text": [
      "C:\\Users\\lisag\\AppData\\Local\\Temp\\ipykernel_12484\\1438696561.py:4: DtypeWarning: Columns (5,7) have mixed types. Specify dtype option on import or set low_memory=False.\n",
      "  temp_df = pd.read_csv(f)\n"
     ]
    },
    {
     "name": "stdout",
     "output_type": "stream",
     "text": [
      "ride_id                object\n",
      "rideable_type          object\n",
      "started_at             object\n",
      "ended_at               object\n",
      "start_station_name     object\n",
      "start_station_id       object\n",
      "end_station_name       object\n",
      "end_station_id         object\n",
      "start_lat             float64\n",
      "start_lng             float64\n",
      "end_lat               float64\n",
      "end_lng               float64\n",
      "member_casual          object\n",
      "dtype: object\n"
     ]
    },
    {
     "name": "stderr",
     "output_type": "stream",
     "text": [
      "C:\\Users\\lisag\\AppData\\Local\\Temp\\ipykernel_12484\\1438696561.py:4: DtypeWarning: Columns (5,7) have mixed types. Specify dtype option on import or set low_memory=False.\n",
      "  temp_df = pd.read_csv(f)\n"
     ]
    },
    {
     "name": "stdout",
     "output_type": "stream",
     "text": [
      "ride_id                object\n",
      "rideable_type          object\n",
      "started_at             object\n",
      "ended_at               object\n",
      "start_station_name     object\n",
      "start_station_id       object\n",
      "end_station_name       object\n",
      "end_station_id         object\n",
      "start_lat             float64\n",
      "start_lng             float64\n",
      "end_lat               float64\n",
      "end_lng               float64\n",
      "member_casual          object\n",
      "dtype: object\n"
     ]
    },
    {
     "name": "stderr",
     "output_type": "stream",
     "text": [
      "C:\\Users\\lisag\\AppData\\Local\\Temp\\ipykernel_12484\\1438696561.py:4: DtypeWarning: Columns (5,7) have mixed types. Specify dtype option on import or set low_memory=False.\n",
      "  temp_df = pd.read_csv(f)\n"
     ]
    },
    {
     "name": "stdout",
     "output_type": "stream",
     "text": [
      "ride_id                object\n",
      "rideable_type          object\n",
      "started_at             object\n",
      "ended_at               object\n",
      "start_station_name     object\n",
      "start_station_id       object\n",
      "end_station_name       object\n",
      "end_station_id         object\n",
      "start_lat             float64\n",
      "start_lng             float64\n",
      "end_lat               float64\n",
      "end_lng               float64\n",
      "member_casual          object\n",
      "dtype: object\n"
     ]
    },
    {
     "name": "stderr",
     "output_type": "stream",
     "text": [
      "C:\\Users\\lisag\\AppData\\Local\\Temp\\ipykernel_12484\\1438696561.py:4: DtypeWarning: Columns (5,7) have mixed types. Specify dtype option on import or set low_memory=False.\n",
      "  temp_df = pd.read_csv(f)\n"
     ]
    },
    {
     "name": "stdout",
     "output_type": "stream",
     "text": [
      "ride_id                object\n",
      "rideable_type          object\n",
      "started_at             object\n",
      "ended_at               object\n",
      "start_station_name     object\n",
      "start_station_id       object\n",
      "end_station_name       object\n",
      "end_station_id         object\n",
      "start_lat             float64\n",
      "start_lng             float64\n",
      "end_lat               float64\n",
      "end_lng               float64\n",
      "member_casual          object\n",
      "dtype: object\n"
     ]
    },
    {
     "name": "stderr",
     "output_type": "stream",
     "text": [
      "C:\\Users\\lisag\\AppData\\Local\\Temp\\ipykernel_12484\\1438696561.py:4: DtypeWarning: Columns (5,7) have mixed types. Specify dtype option on import or set low_memory=False.\n",
      "  temp_df = pd.read_csv(f)\n"
     ]
    },
    {
     "name": "stdout",
     "output_type": "stream",
     "text": [
      "ride_id                object\n",
      "rideable_type          object\n",
      "started_at             object\n",
      "ended_at               object\n",
      "start_station_name     object\n",
      "start_station_id       object\n",
      "end_station_name       object\n",
      "end_station_id         object\n",
      "start_lat             float64\n",
      "start_lng             float64\n",
      "end_lat               float64\n",
      "end_lng               float64\n",
      "member_casual          object\n",
      "dtype: object\n"
     ]
    },
    {
     "name": "stderr",
     "output_type": "stream",
     "text": [
      "C:\\Users\\lisag\\AppData\\Local\\Temp\\ipykernel_12484\\1438696561.py:4: DtypeWarning: Columns (5,7) have mixed types. Specify dtype option on import or set low_memory=False.\n",
      "  temp_df = pd.read_csv(f)\n"
     ]
    },
    {
     "name": "stdout",
     "output_type": "stream",
     "text": [
      "ride_id                object\n",
      "rideable_type          object\n",
      "started_at             object\n",
      "ended_at               object\n",
      "start_station_name     object\n",
      "start_station_id       object\n",
      "end_station_name       object\n",
      "end_station_id         object\n",
      "start_lat             float64\n",
      "start_lng             float64\n",
      "end_lat               float64\n",
      "end_lng               float64\n",
      "member_casual          object\n",
      "dtype: object\n"
     ]
    },
    {
     "name": "stderr",
     "output_type": "stream",
     "text": [
      "C:\\Users\\lisag\\AppData\\Local\\Temp\\ipykernel_12484\\1438696561.py:4: DtypeWarning: Columns (5,7) have mixed types. Specify dtype option on import or set low_memory=False.\n",
      "  temp_df = pd.read_csv(f)\n"
     ]
    },
    {
     "name": "stdout",
     "output_type": "stream",
     "text": [
      "ride_id                object\n",
      "rideable_type          object\n",
      "started_at             object\n",
      "ended_at               object\n",
      "start_station_name     object\n",
      "start_station_id       object\n",
      "end_station_name       object\n",
      "end_station_id         object\n",
      "start_lat             float64\n",
      "start_lng             float64\n",
      "end_lat               float64\n",
      "end_lng               float64\n",
      "member_casual          object\n",
      "dtype: object\n"
     ]
    },
    {
     "name": "stderr",
     "output_type": "stream",
     "text": [
      "C:\\Users\\lisag\\AppData\\Local\\Temp\\ipykernel_12484\\1438696561.py:4: DtypeWarning: Columns (5,7) have mixed types. Specify dtype option on import or set low_memory=False.\n",
      "  temp_df = pd.read_csv(f)\n"
     ]
    },
    {
     "name": "stdout",
     "output_type": "stream",
     "text": [
      "ride_id                object\n",
      "rideable_type          object\n",
      "started_at             object\n",
      "ended_at               object\n",
      "start_station_name     object\n",
      "start_station_id       object\n",
      "end_station_name       object\n",
      "end_station_id         object\n",
      "start_lat             float64\n",
      "start_lng             float64\n",
      "end_lat               float64\n",
      "end_lng               float64\n",
      "member_casual          object\n",
      "dtype: object\n"
     ]
    },
    {
     "name": "stderr",
     "output_type": "stream",
     "text": [
      "C:\\Users\\lisag\\AppData\\Local\\Temp\\ipykernel_12484\\1438696561.py:4: DtypeWarning: Columns (7) have mixed types. Specify dtype option on import or set low_memory=False.\n",
      "  temp_df = pd.read_csv(f)\n"
     ]
    },
    {
     "name": "stdout",
     "output_type": "stream",
     "text": [
      "ride_id                object\n",
      "rideable_type          object\n",
      "started_at             object\n",
      "ended_at               object\n",
      "start_station_name     object\n",
      "start_station_id      float64\n",
      "end_station_name       object\n",
      "end_station_id         object\n",
      "start_lat             float64\n",
      "start_lng             float64\n",
      "end_lat               float64\n",
      "end_lng               float64\n",
      "member_casual          object\n",
      "dtype: object\n"
     ]
    },
    {
     "name": "stderr",
     "output_type": "stream",
     "text": [
      "C:\\Users\\lisag\\AppData\\Local\\Temp\\ipykernel_12484\\1438696561.py:4: DtypeWarning: Columns (5,7) have mixed types. Specify dtype option on import or set low_memory=False.\n",
      "  temp_df = pd.read_csv(f)\n"
     ]
    },
    {
     "name": "stdout",
     "output_type": "stream",
     "text": [
      "ride_id                object\n",
      "rideable_type          object\n",
      "started_at             object\n",
      "ended_at               object\n",
      "start_station_name     object\n",
      "start_station_id       object\n",
      "end_station_name       object\n",
      "end_station_id         object\n",
      "start_lat             float64\n",
      "start_lng             float64\n",
      "end_lat               float64\n",
      "end_lng               float64\n",
      "member_casual          object\n",
      "dtype: object\n"
     ]
    },
    {
     "name": "stderr",
     "output_type": "stream",
     "text": [
      "C:\\Users\\lisag\\AppData\\Local\\Temp\\ipykernel_12484\\1438696561.py:4: DtypeWarning: Columns (5,7) have mixed types. Specify dtype option on import or set low_memory=False.\n",
      "  temp_df = pd.read_csv(f)\n"
     ]
    },
    {
     "name": "stdout",
     "output_type": "stream",
     "text": [
      "ride_id                object\n",
      "rideable_type          object\n",
      "started_at             object\n",
      "ended_at               object\n",
      "start_station_name     object\n",
      "start_station_id       object\n",
      "end_station_name       object\n",
      "end_station_id         object\n",
      "start_lat             float64\n",
      "start_lng             float64\n",
      "end_lat               float64\n",
      "end_lng               float64\n",
      "member_casual          object\n",
      "dtype: object\n"
     ]
    }
   ],
   "source": [
    "# figuring out data types\n",
    "dfs = []\n",
    "for f in filepaths:\n",
    "    temp_df = pd.read_csv(f)\n",
    "    print(temp_df.dtypes)  # check column types\n",
    "    dfs.append(temp_df)"
   ]
  },
  {
   "cell_type": "code",
   "execution_count": 20,
   "id": "b2a641ee-85ad-4e78-8602-a1278ea65821",
   "metadata": {},
   "outputs": [],
   "source": [
    "# read and concatenate all files simultaneously\n",
    "dtype_mapping = {5: str, 7: str}  # force columns 5 and 7 as strings because originally mixed\n",
    "df = pd.concat((pd.read_csv(f, dtype=dtype_mapping) for f in filepaths), ignore_index=True)"
   ]
  },
  {
   "cell_type": "markdown",
   "id": "c43da870-37ab-4d52-9cb1-2b3b3a090a15",
   "metadata": {},
   "source": [
    "#### The above code uses pandas and the concat function to merge all the csv files since they all have matching columns, it essentially continues the chain based on the column title and data within. Because columns 5 and 7 contain mixed data types it had to be specified which data type to use (ie. string/object because is a station name)."
   ]
  },
  {
   "cell_type": "code",
   "execution_count": 25,
   "id": "568be56d-1b40-4aff-8d49-22dbb6223eab",
   "metadata": {},
   "outputs": [
    {
     "data": {
      "text/plain": [
       "(29838806, 13)"
      ]
     },
     "execution_count": 25,
     "metadata": {},
     "output_type": "execute_result"
    }
   ],
   "source": [
    "df.shape"
   ]
  },
  {
   "cell_type": "code",
   "execution_count": 30,
   "id": "f30bc9fd-e7bf-45b9-8263-ffa53bb9e900",
   "metadata": {},
   "outputs": [
    {
     "data": {
      "text/html": [
       "<div>\n",
       "<style scoped>\n",
       "    .dataframe tbody tr th:only-of-type {\n",
       "        vertical-align: middle;\n",
       "    }\n",
       "\n",
       "    .dataframe tbody tr th {\n",
       "        vertical-align: top;\n",
       "    }\n",
       "\n",
       "    .dataframe thead th {\n",
       "        text-align: right;\n",
       "    }\n",
       "</style>\n",
       "<table border=\"1\" class=\"dataframe\">\n",
       "  <thead>\n",
       "    <tr style=\"text-align: right;\">\n",
       "      <th></th>\n",
       "      <th>ride_id</th>\n",
       "      <th>rideable_type</th>\n",
       "      <th>started_at</th>\n",
       "      <th>ended_at</th>\n",
       "      <th>start_station_name</th>\n",
       "      <th>start_station_id</th>\n",
       "      <th>end_station_name</th>\n",
       "      <th>end_station_id</th>\n",
       "      <th>start_lat</th>\n",
       "      <th>start_lng</th>\n",
       "      <th>end_lat</th>\n",
       "      <th>end_lng</th>\n",
       "      <th>member_casual</th>\n",
       "    </tr>\n",
       "  </thead>\n",
       "  <tbody>\n",
       "    <tr>\n",
       "      <th>0</th>\n",
       "      <td>BFD29218AB271154</td>\n",
       "      <td>electric_bike</td>\n",
       "      <td>2022-01-21 13:13:43.392</td>\n",
       "      <td>2022-01-21 13:22:31.463</td>\n",
       "      <td>West End Ave &amp; W 107 St</td>\n",
       "      <td>7650.05</td>\n",
       "      <td>Mt Morris Park W &amp; W 120 St</td>\n",
       "      <td>7685.14</td>\n",
       "      <td>40.802117</td>\n",
       "      <td>-73.968181</td>\n",
       "      <td>40.804038</td>\n",
       "      <td>-73.945925</td>\n",
       "      <td>member</td>\n",
       "    </tr>\n",
       "    <tr>\n",
       "      <th>1</th>\n",
       "      <td>7C953F2FD7BE1302</td>\n",
       "      <td>classic_bike</td>\n",
       "      <td>2022-01-10 11:30:54.162</td>\n",
       "      <td>2022-01-10 11:41:43.422</td>\n",
       "      <td>4 Ave &amp; 3 St</td>\n",
       "      <td>4028.04</td>\n",
       "      <td>Boerum Pl\\t&amp; Pacific St</td>\n",
       "      <td>4488.09</td>\n",
       "      <td>40.673746</td>\n",
       "      <td>-73.985649</td>\n",
       "      <td>40.688489</td>\n",
       "      <td>-73.991160</td>\n",
       "      <td>member</td>\n",
       "    </tr>\n",
       "    <tr>\n",
       "      <th>2</th>\n",
       "      <td>95893ABD40CED4B8</td>\n",
       "      <td>electric_bike</td>\n",
       "      <td>2022-01-26 10:52:43.096</td>\n",
       "      <td>2022-01-26 11:06:35.227</td>\n",
       "      <td>1 Ave &amp; E 62 St</td>\n",
       "      <td>6753.08</td>\n",
       "      <td>5 Ave &amp; E 29 St</td>\n",
       "      <td>6248.06</td>\n",
       "      <td>40.761227</td>\n",
       "      <td>-73.960940</td>\n",
       "      <td>40.745168</td>\n",
       "      <td>-73.986831</td>\n",
       "      <td>member</td>\n",
       "    </tr>\n",
       "    <tr>\n",
       "      <th>3</th>\n",
       "      <td>F853B50772137378</td>\n",
       "      <td>classic_bike</td>\n",
       "      <td>2022-01-03 08:35:48.247</td>\n",
       "      <td>2022-01-03 09:10:50.475</td>\n",
       "      <td>2 Ave &amp; E 96 St</td>\n",
       "      <td>7338.02</td>\n",
       "      <td>5 Ave &amp; E 29 St</td>\n",
       "      <td>6248.06</td>\n",
       "      <td>40.783964</td>\n",
       "      <td>-73.947167</td>\n",
       "      <td>40.745168</td>\n",
       "      <td>-73.986831</td>\n",
       "      <td>member</td>\n",
       "    </tr>\n",
       "    <tr>\n",
       "      <th>4</th>\n",
       "      <td>7590ADF834797B4B</td>\n",
       "      <td>classic_bike</td>\n",
       "      <td>2022-01-22 14:14:23.043</td>\n",
       "      <td>2022-01-22 14:34:57.474</td>\n",
       "      <td>6 Ave &amp; W 34 St</td>\n",
       "      <td>6364.10</td>\n",
       "      <td>5 Ave &amp; E 29 St</td>\n",
       "      <td>6248.06</td>\n",
       "      <td>40.749640</td>\n",
       "      <td>-73.988050</td>\n",
       "      <td>40.745168</td>\n",
       "      <td>-73.986831</td>\n",
       "      <td>member</td>\n",
       "    </tr>\n",
       "    <tr>\n",
       "      <th>5</th>\n",
       "      <td>F803F9593CEDBB39</td>\n",
       "      <td>electric_bike</td>\n",
       "      <td>2022-01-05 15:37:37.276</td>\n",
       "      <td>2022-01-05 15:54:06.286</td>\n",
       "      <td>Cleveland Pl &amp; Spring St</td>\n",
       "      <td>5492.05</td>\n",
       "      <td>5 Ave &amp; E 29 St</td>\n",
       "      <td>6248.06</td>\n",
       "      <td>40.722104</td>\n",
       "      <td>-73.997249</td>\n",
       "      <td>40.745168</td>\n",
       "      <td>-73.986831</td>\n",
       "      <td>member</td>\n",
       "    </tr>\n",
       "    <tr>\n",
       "      <th>6</th>\n",
       "      <td>DD92C2F27FF265D0</td>\n",
       "      <td>classic_bike</td>\n",
       "      <td>2022-01-25 16:44:22.863</td>\n",
       "      <td>2022-01-25 16:48:07.593</td>\n",
       "      <td>Cleveland Pl &amp; Spring St</td>\n",
       "      <td>5492.05</td>\n",
       "      <td>Allen St &amp; Rivington St</td>\n",
       "      <td>5414.06</td>\n",
       "      <td>40.722104</td>\n",
       "      <td>-73.997249</td>\n",
       "      <td>40.720196</td>\n",
       "      <td>-73.989978</td>\n",
       "      <td>member</td>\n",
       "    </tr>\n",
       "    <tr>\n",
       "      <th>7</th>\n",
       "      <td>621225A86D88489F</td>\n",
       "      <td>electric_bike</td>\n",
       "      <td>2022-01-06 15:08:37.036</td>\n",
       "      <td>2022-01-06 15:26:01.858</td>\n",
       "      <td>6 Ave &amp; W 34 St</td>\n",
       "      <td>6364.10</td>\n",
       "      <td>Allen St &amp; Rivington St</td>\n",
       "      <td>5414.06</td>\n",
       "      <td>40.749640</td>\n",
       "      <td>-73.988050</td>\n",
       "      <td>40.720196</td>\n",
       "      <td>-73.989978</td>\n",
       "      <td>member</td>\n",
       "    </tr>\n",
       "    <tr>\n",
       "      <th>8</th>\n",
       "      <td>F3D0C298E2EBC08A</td>\n",
       "      <td>classic_bike</td>\n",
       "      <td>2022-01-17 16:16:37.930</td>\n",
       "      <td>2022-01-17 16:20:59.671</td>\n",
       "      <td>6 Ave &amp; W 34 St</td>\n",
       "      <td>6364.10</td>\n",
       "      <td>5 Ave &amp; E 29 St</td>\n",
       "      <td>6248.06</td>\n",
       "      <td>40.749640</td>\n",
       "      <td>-73.988050</td>\n",
       "      <td>40.745168</td>\n",
       "      <td>-73.986831</td>\n",
       "      <td>member</td>\n",
       "    </tr>\n",
       "    <tr>\n",
       "      <th>9</th>\n",
       "      <td>B54404E792CF854A</td>\n",
       "      <td>classic_bike</td>\n",
       "      <td>2022-01-10 17:56:14.004</td>\n",
       "      <td>2022-01-10 18:01:58.560</td>\n",
       "      <td>1 Ave &amp; E 44 St</td>\n",
       "      <td>6379.03</td>\n",
       "      <td>E 55 St &amp; 2 Ave</td>\n",
       "      <td>6650.07</td>\n",
       "      <td>40.750020</td>\n",
       "      <td>-73.969053</td>\n",
       "      <td>40.757973</td>\n",
       "      <td>-73.966033</td>\n",
       "      <td>member</td>\n",
       "    </tr>\n",
       "  </tbody>\n",
       "</table>\n",
       "</div>"
      ],
      "text/plain": [
       "            ride_id  rideable_type               started_at  \\\n",
       "0  BFD29218AB271154  electric_bike  2022-01-21 13:13:43.392   \n",
       "1  7C953F2FD7BE1302   classic_bike  2022-01-10 11:30:54.162   \n",
       "2  95893ABD40CED4B8  electric_bike  2022-01-26 10:52:43.096   \n",
       "3  F853B50772137378   classic_bike  2022-01-03 08:35:48.247   \n",
       "4  7590ADF834797B4B   classic_bike  2022-01-22 14:14:23.043   \n",
       "5  F803F9593CEDBB39  electric_bike  2022-01-05 15:37:37.276   \n",
       "6  DD92C2F27FF265D0   classic_bike  2022-01-25 16:44:22.863   \n",
       "7  621225A86D88489F  electric_bike  2022-01-06 15:08:37.036   \n",
       "8  F3D0C298E2EBC08A   classic_bike  2022-01-17 16:16:37.930   \n",
       "9  B54404E792CF854A   classic_bike  2022-01-10 17:56:14.004   \n",
       "\n",
       "                  ended_at        start_station_name start_station_id  \\\n",
       "0  2022-01-21 13:22:31.463   West End Ave & W 107 St          7650.05   \n",
       "1  2022-01-10 11:41:43.422              4 Ave & 3 St          4028.04   \n",
       "2  2022-01-26 11:06:35.227           1 Ave & E 62 St          6753.08   \n",
       "3  2022-01-03 09:10:50.475           2 Ave & E 96 St          7338.02   \n",
       "4  2022-01-22 14:34:57.474           6 Ave & W 34 St          6364.10   \n",
       "5  2022-01-05 15:54:06.286  Cleveland Pl & Spring St          5492.05   \n",
       "6  2022-01-25 16:48:07.593  Cleveland Pl & Spring St          5492.05   \n",
       "7  2022-01-06 15:26:01.858           6 Ave & W 34 St          6364.10   \n",
       "8  2022-01-17 16:20:59.671           6 Ave & W 34 St          6364.10   \n",
       "9  2022-01-10 18:01:58.560           1 Ave & E 44 St          6379.03   \n",
       "\n",
       "              end_station_name end_station_id  start_lat  start_lng  \\\n",
       "0  Mt Morris Park W & W 120 St        7685.14  40.802117 -73.968181   \n",
       "1      Boerum Pl\\t& Pacific St        4488.09  40.673746 -73.985649   \n",
       "2              5 Ave & E 29 St        6248.06  40.761227 -73.960940   \n",
       "3              5 Ave & E 29 St        6248.06  40.783964 -73.947167   \n",
       "4              5 Ave & E 29 St        6248.06  40.749640 -73.988050   \n",
       "5              5 Ave & E 29 St        6248.06  40.722104 -73.997249   \n",
       "6      Allen St & Rivington St        5414.06  40.722104 -73.997249   \n",
       "7      Allen St & Rivington St        5414.06  40.749640 -73.988050   \n",
       "8              5 Ave & E 29 St        6248.06  40.749640 -73.988050   \n",
       "9              E 55 St & 2 Ave        6650.07  40.750020 -73.969053   \n",
       "\n",
       "     end_lat    end_lng member_casual  \n",
       "0  40.804038 -73.945925        member  \n",
       "1  40.688489 -73.991160        member  \n",
       "2  40.745168 -73.986831        member  \n",
       "3  40.745168 -73.986831        member  \n",
       "4  40.745168 -73.986831        member  \n",
       "5  40.745168 -73.986831        member  \n",
       "6  40.720196 -73.989978        member  \n",
       "7  40.720196 -73.989978        member  \n",
       "8  40.745168 -73.986831        member  \n",
       "9  40.757973 -73.966033        member  "
      ]
     },
     "execution_count": 30,
     "metadata": {},
     "output_type": "execute_result"
    }
   ],
   "source": [
    "df.head(10)"
   ]
  },
  {
   "cell_type": "code",
   "execution_count": 32,
   "id": "8f952447-9c02-4cc3-8dfb-19e03bac2384",
   "metadata": {},
   "outputs": [
    {
     "data": {
      "text/html": [
       "<div>\n",
       "<style scoped>\n",
       "    .dataframe tbody tr th:only-of-type {\n",
       "        vertical-align: middle;\n",
       "    }\n",
       "\n",
       "    .dataframe tbody tr th {\n",
       "        vertical-align: top;\n",
       "    }\n",
       "\n",
       "    .dataframe thead th {\n",
       "        text-align: right;\n",
       "    }\n",
       "</style>\n",
       "<table border=\"1\" class=\"dataframe\">\n",
       "  <thead>\n",
       "    <tr style=\"text-align: right;\">\n",
       "      <th></th>\n",
       "      <th>ride_id</th>\n",
       "      <th>rideable_type</th>\n",
       "      <th>started_at</th>\n",
       "      <th>ended_at</th>\n",
       "      <th>start_station_name</th>\n",
       "      <th>start_station_id</th>\n",
       "      <th>end_station_name</th>\n",
       "      <th>end_station_id</th>\n",
       "      <th>start_lat</th>\n",
       "      <th>start_lng</th>\n",
       "      <th>end_lat</th>\n",
       "      <th>end_lng</th>\n",
       "      <th>member_casual</th>\n",
       "    </tr>\n",
       "  </thead>\n",
       "  <tbody>\n",
       "    <tr>\n",
       "      <th>29838796</th>\n",
       "      <td>8EA1816EE0DDCDF0</td>\n",
       "      <td>electric_bike</td>\n",
       "      <td>2022-12-04 11:31:42.950</td>\n",
       "      <td>2022-12-04 11:42:17.621</td>\n",
       "      <td>Montague St &amp; Clinton St</td>\n",
       "      <td>4677.06</td>\n",
       "      <td>Centre St &amp; Chambers St</td>\n",
       "      <td>5207.01</td>\n",
       "      <td>40.693959</td>\n",
       "      <td>-73.992274</td>\n",
       "      <td>40.712733</td>\n",
       "      <td>-74.004607</td>\n",
       "      <td>member</td>\n",
       "    </tr>\n",
       "    <tr>\n",
       "      <th>29838797</th>\n",
       "      <td>F76BAE76C3928427</td>\n",
       "      <td>electric_bike</td>\n",
       "      <td>2022-12-10 23:09:59.919</td>\n",
       "      <td>2022-12-10 23:14:43.709</td>\n",
       "      <td>48 Ave &amp; 41 St</td>\n",
       "      <td>6101.11</td>\n",
       "      <td>39 Ave &amp; 45 St</td>\n",
       "      <td>6401.03</td>\n",
       "      <td>40.739860</td>\n",
       "      <td>-73.924003</td>\n",
       "      <td>40.749478</td>\n",
       "      <td>-73.918265</td>\n",
       "      <td>member</td>\n",
       "    </tr>\n",
       "    <tr>\n",
       "      <th>29838798</th>\n",
       "      <td>6AFD8AB641EB939F</td>\n",
       "      <td>electric_bike</td>\n",
       "      <td>2022-12-30 13:38:20.617</td>\n",
       "      <td>2022-12-30 13:52:54.713</td>\n",
       "      <td>Avenue D &amp; E 3 St</td>\n",
       "      <td>5436.09</td>\n",
       "      <td>Bleecker St &amp; Crosby St</td>\n",
       "      <td>5679.08</td>\n",
       "      <td>40.720828</td>\n",
       "      <td>-73.977932</td>\n",
       "      <td>40.726156</td>\n",
       "      <td>-73.995102</td>\n",
       "      <td>member</td>\n",
       "    </tr>\n",
       "    <tr>\n",
       "      <th>29838799</th>\n",
       "      <td>F656611595BFABF8</td>\n",
       "      <td>classic_bike</td>\n",
       "      <td>2022-12-19 17:10:11.196</td>\n",
       "      <td>2022-12-19 17:36:58.997</td>\n",
       "      <td>W 30 St &amp; 10 Ave</td>\n",
       "      <td>6459.07</td>\n",
       "      <td>Stanton St &amp; Chrystie St</td>\n",
       "      <td>5523.02</td>\n",
       "      <td>40.752694</td>\n",
       "      <td>-74.002353</td>\n",
       "      <td>40.722293</td>\n",
       "      <td>-73.991475</td>\n",
       "      <td>member</td>\n",
       "    </tr>\n",
       "    <tr>\n",
       "      <th>29838800</th>\n",
       "      <td>C6D8F8616E8A0DEC</td>\n",
       "      <td>electric_bike</td>\n",
       "      <td>2022-12-05 20:14:51.153</td>\n",
       "      <td>2022-12-05 20:34:37.663</td>\n",
       "      <td>Fulton St &amp; Irving Pl</td>\n",
       "      <td>4263.12</td>\n",
       "      <td>Stanton St &amp; Chrystie St</td>\n",
       "      <td>5523.02</td>\n",
       "      <td>40.681792</td>\n",
       "      <td>-73.959164</td>\n",
       "      <td>40.722293</td>\n",
       "      <td>-73.991475</td>\n",
       "      <td>member</td>\n",
       "    </tr>\n",
       "    <tr>\n",
       "      <th>29838801</th>\n",
       "      <td>1F223EDAFF420AE3</td>\n",
       "      <td>electric_bike</td>\n",
       "      <td>2022-12-01 20:26:45.847</td>\n",
       "      <td>2022-12-01 20:30:46.012</td>\n",
       "      <td>Avenue D &amp; E 3 St</td>\n",
       "      <td>5436.09</td>\n",
       "      <td>Stanton St &amp; Chrystie St</td>\n",
       "      <td>5523.02</td>\n",
       "      <td>40.720701</td>\n",
       "      <td>-73.977939</td>\n",
       "      <td>40.722293</td>\n",
       "      <td>-73.991475</td>\n",
       "      <td>member</td>\n",
       "    </tr>\n",
       "    <tr>\n",
       "      <th>29838802</th>\n",
       "      <td>CFA5C560ACB73B8E</td>\n",
       "      <td>classic_bike</td>\n",
       "      <td>2022-12-26 13:46:34.237</td>\n",
       "      <td>2022-12-26 13:52:43.900</td>\n",
       "      <td>43 Ave &amp; 47 St</td>\n",
       "      <td>6209.05</td>\n",
       "      <td>39 Ave &amp; 45 St</td>\n",
       "      <td>6401.03</td>\n",
       "      <td>40.744806</td>\n",
       "      <td>-73.917290</td>\n",
       "      <td>40.749478</td>\n",
       "      <td>-73.918265</td>\n",
       "      <td>member</td>\n",
       "    </tr>\n",
       "    <tr>\n",
       "      <th>29838803</th>\n",
       "      <td>11C8C5E0DB947B07</td>\n",
       "      <td>classic_bike</td>\n",
       "      <td>2022-12-01 05:56:14.903</td>\n",
       "      <td>2022-12-01 06:06:10.357</td>\n",
       "      <td>Avenue D &amp; E 3 St</td>\n",
       "      <td>5436.09</td>\n",
       "      <td>Bleecker St &amp; Crosby St</td>\n",
       "      <td>5679.08</td>\n",
       "      <td>40.720828</td>\n",
       "      <td>-73.977932</td>\n",
       "      <td>40.726156</td>\n",
       "      <td>-73.995102</td>\n",
       "      <td>member</td>\n",
       "    </tr>\n",
       "    <tr>\n",
       "      <th>29838804</th>\n",
       "      <td>5B9B083C534A5964</td>\n",
       "      <td>classic_bike</td>\n",
       "      <td>2022-12-02 11:54:15.871</td>\n",
       "      <td>2022-12-02 12:01:00.747</td>\n",
       "      <td>Montague St &amp; Clinton St</td>\n",
       "      <td>4677.06</td>\n",
       "      <td>Sands St &amp; Jay St</td>\n",
       "      <td>4821.03</td>\n",
       "      <td>40.694271</td>\n",
       "      <td>-73.992327</td>\n",
       "      <td>40.700119</td>\n",
       "      <td>-73.986200</td>\n",
       "      <td>member</td>\n",
       "    </tr>\n",
       "    <tr>\n",
       "      <th>29838805</th>\n",
       "      <td>91C286C462F89A50</td>\n",
       "      <td>classic_bike</td>\n",
       "      <td>2022-12-18 13:35:22.574</td>\n",
       "      <td>2022-12-18 13:37:27.193</td>\n",
       "      <td>Montague St &amp; Clinton St</td>\n",
       "      <td>4677.06</td>\n",
       "      <td>Cadman Plaza E &amp; Tillary St</td>\n",
       "      <td>4677.01</td>\n",
       "      <td>40.694271</td>\n",
       "      <td>-73.992327</td>\n",
       "      <td>40.695977</td>\n",
       "      <td>-73.990149</td>\n",
       "      <td>member</td>\n",
       "    </tr>\n",
       "  </tbody>\n",
       "</table>\n",
       "</div>"
      ],
      "text/plain": [
       "                   ride_id  rideable_type               started_at  \\\n",
       "29838796  8EA1816EE0DDCDF0  electric_bike  2022-12-04 11:31:42.950   \n",
       "29838797  F76BAE76C3928427  electric_bike  2022-12-10 23:09:59.919   \n",
       "29838798  6AFD8AB641EB939F  electric_bike  2022-12-30 13:38:20.617   \n",
       "29838799  F656611595BFABF8   classic_bike  2022-12-19 17:10:11.196   \n",
       "29838800  C6D8F8616E8A0DEC  electric_bike  2022-12-05 20:14:51.153   \n",
       "29838801  1F223EDAFF420AE3  electric_bike  2022-12-01 20:26:45.847   \n",
       "29838802  CFA5C560ACB73B8E   classic_bike  2022-12-26 13:46:34.237   \n",
       "29838803  11C8C5E0DB947B07   classic_bike  2022-12-01 05:56:14.903   \n",
       "29838804  5B9B083C534A5964   classic_bike  2022-12-02 11:54:15.871   \n",
       "29838805  91C286C462F89A50   classic_bike  2022-12-18 13:35:22.574   \n",
       "\n",
       "                         ended_at        start_station_name start_station_id  \\\n",
       "29838796  2022-12-04 11:42:17.621  Montague St & Clinton St          4677.06   \n",
       "29838797  2022-12-10 23:14:43.709            48 Ave & 41 St          6101.11   \n",
       "29838798  2022-12-30 13:52:54.713         Avenue D & E 3 St          5436.09   \n",
       "29838799  2022-12-19 17:36:58.997          W 30 St & 10 Ave          6459.07   \n",
       "29838800  2022-12-05 20:34:37.663     Fulton St & Irving Pl          4263.12   \n",
       "29838801  2022-12-01 20:30:46.012         Avenue D & E 3 St          5436.09   \n",
       "29838802  2022-12-26 13:52:43.900            43 Ave & 47 St          6209.05   \n",
       "29838803  2022-12-01 06:06:10.357         Avenue D & E 3 St          5436.09   \n",
       "29838804  2022-12-02 12:01:00.747  Montague St & Clinton St          4677.06   \n",
       "29838805  2022-12-18 13:37:27.193  Montague St & Clinton St          4677.06   \n",
       "\n",
       "                     end_station_name end_station_id  start_lat  start_lng  \\\n",
       "29838796      Centre St & Chambers St        5207.01  40.693959 -73.992274   \n",
       "29838797               39 Ave & 45 St        6401.03  40.739860 -73.924003   \n",
       "29838798      Bleecker St & Crosby St        5679.08  40.720828 -73.977932   \n",
       "29838799     Stanton St & Chrystie St        5523.02  40.752694 -74.002353   \n",
       "29838800     Stanton St & Chrystie St        5523.02  40.681792 -73.959164   \n",
       "29838801     Stanton St & Chrystie St        5523.02  40.720701 -73.977939   \n",
       "29838802               39 Ave & 45 St        6401.03  40.744806 -73.917290   \n",
       "29838803      Bleecker St & Crosby St        5679.08  40.720828 -73.977932   \n",
       "29838804            Sands St & Jay St        4821.03  40.694271 -73.992327   \n",
       "29838805  Cadman Plaza E & Tillary St        4677.01  40.694271 -73.992327   \n",
       "\n",
       "            end_lat    end_lng member_casual  \n",
       "29838796  40.712733 -74.004607        member  \n",
       "29838797  40.749478 -73.918265        member  \n",
       "29838798  40.726156 -73.995102        member  \n",
       "29838799  40.722293 -73.991475        member  \n",
       "29838800  40.722293 -73.991475        member  \n",
       "29838801  40.722293 -73.991475        member  \n",
       "29838802  40.749478 -73.918265        member  \n",
       "29838803  40.726156 -73.995102        member  \n",
       "29838804  40.700119 -73.986200        member  \n",
       "29838805  40.695977 -73.990149        member  "
      ]
     },
     "execution_count": 32,
     "metadata": {},
     "output_type": "execute_result"
    }
   ],
   "source": [
    "df.tail(10)"
   ]
  },
  {
   "cell_type": "markdown",
   "id": "aaed5760-3f76-4f3d-b10c-9753857e7fce",
   "metadata": {},
   "source": [
    "# Weather Data Using NOAA's API"
   ]
  },
  {
   "cell_type": "code",
   "execution_count": 37,
   "id": "5986d084-eb00-435c-8e10-86984058ab3a",
   "metadata": {},
   "outputs": [],
   "source": [
    "# define NOAA token\n",
    "Token = 'ZqxFODzsaXvTyflZYKPCzNYMxTGvkvsa' "
   ]
  },
  {
   "cell_type": "code",
   "execution_count": 40,
   "id": "e0c5edc3-fc3b-4567-9d19-4523cbdd4f34",
   "metadata": {},
   "outputs": [],
   "source": [
    "# get API \n",
    "r = requests.get('https://www.ncdc.noaa.gov/cdo-web/api/v2/data?datasetid=GHCND&datatypeid=TAVG&limit=1000&stationid=GHCND:USW00014732&startdate=2022-01-01&enddate=2022-12-31', headers={'token':Token})"
   ]
  },
  {
   "cell_type": "code",
   "execution_count": 53,
   "id": "8ed1c77c-041e-47ad-a327-7f27bde32ec5",
   "metadata": {},
   "outputs": [],
   "source": [
    "# load API response as a json as a dictionary/list\n",
    "weather_data = json.loads(r.text)"
   ]
  },
  {
   "cell_type": "code",
   "execution_count": 57,
   "id": "8bc1a7b3-2fbc-48f0-9e77-23ed3c640fc9",
   "metadata": {
    "scrolled": true
   },
   "outputs": [
    {
     "name": "stdout",
     "output_type": "stream",
     "text": [
      "<class 'dict'>\n",
      "{'metadata': {'resultset': {'offset': 1, 'count': 365, 'limit': 1000}}, 'results': [{'date': '2022-01-01T00:00:00', 'datatype': 'TAVG', 'station': 'GHCND:USW00014732', 'attributes': 'H,,S,', 'value': 116}, {'date': '2022-01-02T00:00:00', 'datatype': 'TAVG', 'station': 'GHCND:USW00014732', 'attributes': 'H,,S,', 'value': 114}, {'date': '2022-01-03T00:00:00', 'datatype': 'TAVG', 'station': 'GHCND:USW00014732', 'attributes': 'H,,S,', 'value': 14}, {'date': '2022-01-04T00:00:00', 'datatype': 'TAVG', 'station': 'GHCND:USW00014732', 'attributes': 'H,,S,', 'value': -27}, {'date': '2022-01-05T00:00:00', 'datatype': 'TAVG', 'station': 'GHCND:USW00014732', 'attributes': 'H,,S,', 'value': 32}, {'date': '2022-01-06T00:00:00', 'datatype': 'TAVG', 'station': 'GHCND:USW00014732', 'attributes': 'H,,S,', 'value': 49}, {'date': '2022-01-07T00:00:00', 'datatype': 'TAVG', 'station': 'GHCND:USW00014732', 'attributes': 'H,,S,', 'value': 7}, {'date': '2022-01-08T00:00:00', 'datatype': 'TAVG', 'station': 'GHCND:USW00014732', 'attributes': 'H,,S,', 'value': -25}, {'date': '2022-01-09T00:00:00', 'datatype': 'TAVG', 'station': 'GHCND:USW00014732', 'attributes': 'H,,S,', 'value': 14}, {'date': '2022-01-10T00:00:00', 'datatype': 'TAVG', 'station': 'GHCND:USW00014732', 'attributes': 'H,,S,', 'value': 16}, {'date': '2022-01-11T00:00:00', 'datatype': 'TAVG', 'station': 'GHCND:USW00014732', 'attributes': 'H,,S,', 'value': -54}, {'date': '2022-01-12T00:00:00', 'datatype': 'TAVG', 'station': 'GHCND:USW00014732', 'attributes': 'H,,S,', 'value': -19}, {'date': '2022-01-13T00:00:00', 'datatype': 'TAVG', 'station': 'GHCND:USW00014732', 'attributes': 'H,,S,', 'value': 40}, {'date': '2022-01-14T00:00:00', 'datatype': 'TAVG', 'station': 'GHCND:USW00014732', 'attributes': 'H,,S,', 'value': 48}, {'date': '2022-01-15T00:00:00', 'datatype': 'TAVG', 'station': 'GHCND:USW00014732', 'attributes': 'H,,S,', 'value': -67}, {'date': '2022-01-16T00:00:00', 'datatype': 'TAVG', 'station': 'GHCND:USW00014732', 'attributes': 'H,,S,', 'value': -80}, {'date': '2022-01-17T00:00:00', 'datatype': 'TAVG', 'station': 'GHCND:USW00014732', 'attributes': 'H,,S,', 'value': 39}, {'date': '2022-01-18T00:00:00', 'datatype': 'TAVG', 'station': 'GHCND:USW00014732', 'attributes': 'H,,S,', 'value': 18}, {'date': '2022-01-19T00:00:00', 'datatype': 'TAVG', 'station': 'GHCND:USW00014732', 'attributes': 'H,,S,', 'value': 32}, {'date': '2022-01-20T00:00:00', 'datatype': 'TAVG', 'station': 'GHCND:USW00014732', 'attributes': 'H,,S,', 'value': 51}, {'date': '2022-01-21T00:00:00', 'datatype': 'TAVG', 'station': 'GHCND:USW00014732', 'attributes': 'H,,S,', 'value': -60}, {'date': '2022-01-22T00:00:00', 'datatype': 'TAVG', 'station': 'GHCND:USW00014732', 'attributes': 'H,,S,', 'value': -59}, {'date': '2022-01-23T00:00:00', 'datatype': 'TAVG', 'station': 'GHCND:USW00014732', 'attributes': 'H,,S,', 'value': -7}, {'date': '2022-01-24T00:00:00', 'datatype': 'TAVG', 'station': 'GHCND:USW00014732', 'attributes': 'H,,S,', 'value': -2}, {'date': '2022-01-25T00:00:00', 'datatype': 'TAVG', 'station': 'GHCND:USW00014732', 'attributes': 'H,,S,', 'value': 36}, {'date': '2022-01-26T00:00:00', 'datatype': 'TAVG', 'station': 'GHCND:USW00014732', 'attributes': 'H,,S,', 'value': -23}, {'date': '2022-01-27T00:00:00', 'datatype': 'TAVG', 'station': 'GHCND:USW00014732', 'attributes': 'H,,S,', 'value': -42}, {'date': '2022-01-28T00:00:00', 'datatype': 'TAVG', 'station': 'GHCND:USW00014732', 'attributes': 'H,,S,', 'value': 1}, {'date': '2022-01-29T00:00:00', 'datatype': 'TAVG', 'station': 'GHCND:USW00014732', 'attributes': 'H,,S,', 'value': -48}, {'date': '2022-01-30T00:00:00', 'datatype': 'TAVG', 'station': 'GHCND:USW00014732', 'attributes': 'H,,S,', 'value': -71}, {'date': '2022-01-31T00:00:00', 'datatype': 'TAVG', 'station': 'GHCND:USW00014732', 'attributes': 'H,,S,', 'value': -34}, {'date': '2022-02-01T00:00:00', 'datatype': 'TAVG', 'station': 'GHCND:USW00014732', 'attributes': 'H,,S,', 'value': -17}, {'date': '2022-02-02T00:00:00', 'datatype': 'TAVG', 'station': 'GHCND:USW00014732', 'attributes': 'H,,S,', 'value': 23}, {'date': '2022-02-03T00:00:00', 'datatype': 'TAVG', 'station': 'GHCND:USW00014732', 'attributes': 'H,,S,', 'value': 64}, {'date': '2022-02-04T00:00:00', 'datatype': 'TAVG', 'station': 'GHCND:USW00014732', 'attributes': 'H,,S,', 'value': 58}, {'date': '2022-02-05T00:00:00', 'datatype': 'TAVG', 'station': 'GHCND:USW00014732', 'attributes': 'H,,S,', 'value': -28}, {'date': '2022-02-06T00:00:00', 'datatype': 'TAVG', 'station': 'GHCND:USW00014732', 'attributes': 'H,,S,', 'value': -48}, {'date': '2022-02-07T00:00:00', 'datatype': 'TAVG', 'station': 'GHCND:USW00014732', 'attributes': 'H,,S,', 'value': 5}, {'date': '2022-02-08T00:00:00', 'datatype': 'TAVG', 'station': 'GHCND:USW00014732', 'attributes': 'H,,S,', 'value': 41}, {'date': '2022-02-09T00:00:00', 'datatype': 'TAVG', 'station': 'GHCND:USW00014732', 'attributes': 'H,,S,', 'value': 28}, {'date': '2022-02-10T00:00:00', 'datatype': 'TAVG', 'station': 'GHCND:USW00014732', 'attributes': 'H,,S,', 'value': 63}, {'date': '2022-02-11T00:00:00', 'datatype': 'TAVG', 'station': 'GHCND:USW00014732', 'attributes': 'H,,S,', 'value': 86}, {'date': '2022-02-12T00:00:00', 'datatype': 'TAVG', 'station': 'GHCND:USW00014732', 'attributes': 'H,,S,', 'value': 118}, {'date': '2022-02-13T00:00:00', 'datatype': 'TAVG', 'station': 'GHCND:USW00014732', 'attributes': 'H,,S,', 'value': 28}, {'date': '2022-02-14T00:00:00', 'datatype': 'TAVG', 'station': 'GHCND:USW00014732', 'attributes': 'H,,S,', 'value': -43}, {'date': '2022-02-15T00:00:00', 'datatype': 'TAVG', 'station': 'GHCND:USW00014732', 'attributes': 'H,,S,', 'value': -47}, {'date': '2022-02-16T00:00:00', 'datatype': 'TAVG', 'station': 'GHCND:USW00014732', 'attributes': 'H,,S,', 'value': 16}, {'date': '2022-02-17T00:00:00', 'datatype': 'TAVG', 'station': 'GHCND:USW00014732', 'attributes': 'H,,S,', 'value': 116}, {'date': '2022-02-18T00:00:00', 'datatype': 'TAVG', 'station': 'GHCND:USW00014732', 'attributes': 'H,,S,', 'value': 99}, {'date': '2022-02-19T00:00:00', 'datatype': 'TAVG', 'station': 'GHCND:USW00014732', 'attributes': 'H,,S,', 'value': 1}, {'date': '2022-02-20T00:00:00', 'datatype': 'TAVG', 'station': 'GHCND:USW00014732', 'attributes': 'H,,S,', 'value': -26}, {'date': '2022-02-21T00:00:00', 'datatype': 'TAVG', 'station': 'GHCND:USW00014732', 'attributes': 'H,,S,', 'value': 41}, {'date': '2022-02-22T00:00:00', 'datatype': 'TAVG', 'station': 'GHCND:USW00014732', 'attributes': 'H,,S,', 'value': 56}, {'date': '2022-02-23T00:00:00', 'datatype': 'TAVG', 'station': 'GHCND:USW00014732', 'attributes': 'H,,S,', 'value': 144}, {'date': '2022-02-24T00:00:00', 'datatype': 'TAVG', 'station': 'GHCND:USW00014732', 'attributes': 'H,,S,', 'value': 11}, {'date': '2022-02-25T00:00:00', 'datatype': 'TAVG', 'station': 'GHCND:USW00014732', 'attributes': 'H,,S,', 'value': 8}, {'date': '2022-02-26T00:00:00', 'datatype': 'TAVG', 'station': 'GHCND:USW00014732', 'attributes': 'H,,S,', 'value': -11}, {'date': '2022-02-27T00:00:00', 'datatype': 'TAVG', 'station': 'GHCND:USW00014732', 'attributes': 'H,,S,', 'value': 24}, {'date': '2022-02-28T00:00:00', 'datatype': 'TAVG', 'station': 'GHCND:USW00014732', 'attributes': 'H,,S,', 'value': 8}, {'date': '2022-03-01T00:00:00', 'datatype': 'TAVG', 'station': 'GHCND:USW00014732', 'attributes': 'H,,S,', 'value': 26}, {'date': '2022-03-02T00:00:00', 'datatype': 'TAVG', 'station': 'GHCND:USW00014732', 'attributes': 'H,,S,', 'value': 77}, {'date': '2022-03-03T00:00:00', 'datatype': 'TAVG', 'station': 'GHCND:USW00014732', 'attributes': 'H,,S,', 'value': 56}, {'date': '2022-03-04T00:00:00', 'datatype': 'TAVG', 'station': 'GHCND:USW00014732', 'attributes': 'H,,S,', 'value': -19}, {'date': '2022-03-05T00:00:00', 'datatype': 'TAVG', 'station': 'GHCND:USW00014732', 'attributes': 'H,,S,', 'value': 31}, {'date': '2022-03-06T00:00:00', 'datatype': 'TAVG', 'station': 'GHCND:USW00014732', 'attributes': 'H,,S,', 'value': 96}, {'date': '2022-03-07T00:00:00', 'datatype': 'TAVG', 'station': 'GHCND:USW00014732', 'attributes': 'H,,S,', 'value': 182}, {'date': '2022-03-08T00:00:00', 'datatype': 'TAVG', 'station': 'GHCND:USW00014732', 'attributes': 'H,,S,', 'value': 87}, {'date': '2022-03-09T00:00:00', 'datatype': 'TAVG', 'station': 'GHCND:USW00014732', 'attributes': 'H,,S,', 'value': 32}, {'date': '2022-03-10T00:00:00', 'datatype': 'TAVG', 'station': 'GHCND:USW00014732', 'attributes': 'H,,S,', 'value': 40}, {'date': '2022-03-11T00:00:00', 'datatype': 'TAVG', 'station': 'GHCND:USW00014732', 'attributes': 'H,,S,', 'value': 72}, {'date': '2022-03-12T00:00:00', 'datatype': 'TAVG', 'station': 'GHCND:USW00014732', 'attributes': 'H,,S,', 'value': 51}, {'date': '2022-03-13T00:00:00', 'datatype': 'TAVG', 'station': 'GHCND:USW00014732', 'attributes': 'H,,S,', 'value': -23}, {'date': '2022-03-14T00:00:00', 'datatype': 'TAVG', 'station': 'GHCND:USW00014732', 'attributes': 'H,,S,', 'value': 53}, {'date': '2022-03-15T00:00:00', 'datatype': 'TAVG', 'station': 'GHCND:USW00014732', 'attributes': 'H,,S,', 'value': 116}, {'date': '2022-03-16T00:00:00', 'datatype': 'TAVG', 'station': 'GHCND:USW00014732', 'attributes': 'H,,S,', 'value': 136}, {'date': '2022-03-17T00:00:00', 'datatype': 'TAVG', 'station': 'GHCND:USW00014732', 'attributes': 'H,,S,', 'value': 82}, {'date': '2022-03-18T00:00:00', 'datatype': 'TAVG', 'station': 'GHCND:USW00014732', 'attributes': 'H,,S,', 'value': 139}, {'date': '2022-03-19T00:00:00', 'datatype': 'TAVG', 'station': 'GHCND:USW00014732', 'attributes': 'H,,S,', 'value': 131}, {'date': '2022-03-20T00:00:00', 'datatype': 'TAVG', 'station': 'GHCND:USW00014732', 'attributes': 'H,,S,', 'value': 143}, {'date': '2022-03-21T00:00:00', 'datatype': 'TAVG', 'station': 'GHCND:USW00014732', 'attributes': 'H,,S,', 'value': 104}, {'date': '2022-03-22T00:00:00', 'datatype': 'TAVG', 'station': 'GHCND:USW00014732', 'attributes': 'H,,S,', 'value': 107}, {'date': '2022-03-23T00:00:00', 'datatype': 'TAVG', 'station': 'GHCND:USW00014732', 'attributes': 'H,,S,', 'value': 72}, {'date': '2022-03-24T00:00:00', 'datatype': 'TAVG', 'station': 'GHCND:USW00014732', 'attributes': 'H,,S,', 'value': 57}, {'date': '2022-03-25T00:00:00', 'datatype': 'TAVG', 'station': 'GHCND:USW00014732', 'attributes': 'H,,S,', 'value': 96}, {'date': '2022-03-26T00:00:00', 'datatype': 'TAVG', 'station': 'GHCND:USW00014732', 'attributes': 'H,,S,', 'value': 104}, {'date': '2022-03-27T00:00:00', 'datatype': 'TAVG', 'station': 'GHCND:USW00014732', 'attributes': 'H,,S,', 'value': 59}, {'date': '2022-03-28T00:00:00', 'datatype': 'TAVG', 'station': 'GHCND:USW00014732', 'attributes': 'H,,S,', 'value': -15}, {'date': '2022-03-29T00:00:00', 'datatype': 'TAVG', 'station': 'GHCND:USW00014732', 'attributes': 'H,,S,', 'value': -12}, {'date': '2022-03-30T00:00:00', 'datatype': 'TAVG', 'station': 'GHCND:USW00014732', 'attributes': 'H,,S,', 'value': 26}, {'date': '2022-03-31T00:00:00', 'datatype': 'TAVG', 'station': 'GHCND:USW00014732', 'attributes': 'H,,S,', 'value': 99}, {'date': '2022-04-01T00:00:00', 'datatype': 'TAVG', 'station': 'GHCND:USW00014732', 'attributes': 'H,,S,', 'value': 131}, {'date': '2022-04-02T00:00:00', 'datatype': 'TAVG', 'station': 'GHCND:USW00014732', 'attributes': 'H,,S,', 'value': 72}, {'date': '2022-04-03T00:00:00', 'datatype': 'TAVG', 'station': 'GHCND:USW00014732', 'attributes': 'H,,S,', 'value': 70}, {'date': '2022-04-04T00:00:00', 'datatype': 'TAVG', 'station': 'GHCND:USW00014732', 'attributes': 'H,,S,', 'value': 76}, {'date': '2022-04-05T00:00:00', 'datatype': 'TAVG', 'station': 'GHCND:USW00014732', 'attributes': 'H,,S,', 'value': 97}, {'date': '2022-04-06T00:00:00', 'datatype': 'TAVG', 'station': 'GHCND:USW00014732', 'attributes': 'H,,S,', 'value': 86}, {'date': '2022-04-07T00:00:00', 'datatype': 'TAVG', 'station': 'GHCND:USW00014732', 'attributes': 'H,,S,', 'value': 91}, {'date': '2022-04-08T00:00:00', 'datatype': 'TAVG', 'station': 'GHCND:USW00014732', 'attributes': 'H,,S,', 'value': 128}, {'date': '2022-04-09T00:00:00', 'datatype': 'TAVG', 'station': 'GHCND:USW00014732', 'attributes': 'H,,S,', 'value': 114}, {'date': '2022-04-10T00:00:00', 'datatype': 'TAVG', 'station': 'GHCND:USW00014732', 'attributes': 'H,,S,', 'value': 86}, {'date': '2022-04-11T00:00:00', 'datatype': 'TAVG', 'station': 'GHCND:USW00014732', 'attributes': 'H,,S,', 'value': 88}, {'date': '2022-04-12T00:00:00', 'datatype': 'TAVG', 'station': 'GHCND:USW00014732', 'attributes': 'H,,S,', 'value': 134}, {'date': '2022-04-13T00:00:00', 'datatype': 'TAVG', 'station': 'GHCND:USW00014732', 'attributes': 'H,,S,', 'value': 154}, {'date': '2022-04-14T00:00:00', 'datatype': 'TAVG', 'station': 'GHCND:USW00014732', 'attributes': 'H,,S,', 'value': 163}, {'date': '2022-04-15T00:00:00', 'datatype': 'TAVG', 'station': 'GHCND:USW00014732', 'attributes': 'H,,S,', 'value': 157}, {'date': '2022-04-16T00:00:00', 'datatype': 'TAVG', 'station': 'GHCND:USW00014732', 'attributes': 'H,,S,', 'value': 157}, {'date': '2022-04-17T00:00:00', 'datatype': 'TAVG', 'station': 'GHCND:USW00014732', 'attributes': 'H,,S,', 'value': 83}, {'date': '2022-04-18T00:00:00', 'datatype': 'TAVG', 'station': 'GHCND:USW00014732', 'attributes': 'H,,S,', 'value': 79}, {'date': '2022-04-19T00:00:00', 'datatype': 'TAVG', 'station': 'GHCND:USW00014732', 'attributes': 'H,,S,', 'value': 76}, {'date': '2022-04-20T00:00:00', 'datatype': 'TAVG', 'station': 'GHCND:USW00014732', 'attributes': 'H,,S,', 'value': 94}, {'date': '2022-04-21T00:00:00', 'datatype': 'TAVG', 'station': 'GHCND:USW00014732', 'attributes': 'H,,S,', 'value': 106}, {'date': '2022-04-22T00:00:00', 'datatype': 'TAVG', 'station': 'GHCND:USW00014732', 'attributes': 'H,,S,', 'value': 146}, {'date': '2022-04-23T00:00:00', 'datatype': 'TAVG', 'station': 'GHCND:USW00014732', 'attributes': 'H,,S,', 'value': 133}, {'date': '2022-04-24T00:00:00', 'datatype': 'TAVG', 'station': 'GHCND:USW00014732', 'attributes': 'H,,S,', 'value': 128}, {'date': '2022-04-25T00:00:00', 'datatype': 'TAVG', 'station': 'GHCND:USW00014732', 'attributes': 'H,,S,', 'value': 104}, {'date': '2022-04-26T00:00:00', 'datatype': 'TAVG', 'station': 'GHCND:USW00014732', 'attributes': 'H,,S,', 'value': 115}, {'date': '2022-04-27T00:00:00', 'datatype': 'TAVG', 'station': 'GHCND:USW00014732', 'attributes': 'H,,S,', 'value': 116}, {'date': '2022-04-28T00:00:00', 'datatype': 'TAVG', 'station': 'GHCND:USW00014732', 'attributes': 'H,,S,', 'value': 82}, {'date': '2022-04-29T00:00:00', 'datatype': 'TAVG', 'station': 'GHCND:USW00014732', 'attributes': 'H,,S,', 'value': 104}, {'date': '2022-04-30T00:00:00', 'datatype': 'TAVG', 'station': 'GHCND:USW00014732', 'attributes': 'H,,S,', 'value': 129}, {'date': '2022-05-01T00:00:00', 'datatype': 'TAVG', 'station': 'GHCND:USW00014732', 'attributes': 'H,,S,', 'value': 136}, {'date': '2022-05-02T00:00:00', 'datatype': 'TAVG', 'station': 'GHCND:USW00014732', 'attributes': 'H,,S,', 'value': 121}, {'date': '2022-05-03T00:00:00', 'datatype': 'TAVG', 'station': 'GHCND:USW00014732', 'attributes': 'H,,S,', 'value': 124}, {'date': '2022-05-04T00:00:00', 'datatype': 'TAVG', 'station': 'GHCND:USW00014732', 'attributes': 'H,,S,', 'value': 120}, {'date': '2022-05-05T00:00:00', 'datatype': 'TAVG', 'station': 'GHCND:USW00014732', 'attributes': 'H,,S,', 'value': 172}, {'date': '2022-05-06T00:00:00', 'datatype': 'TAVG', 'station': 'GHCND:USW00014732', 'attributes': 'H,,S,', 'value': 148}, {'date': '2022-05-07T00:00:00', 'datatype': 'TAVG', 'station': 'GHCND:USW00014732', 'attributes': 'H,,S,', 'value': 100}, {'date': '2022-05-08T00:00:00', 'datatype': 'TAVG', 'station': 'GHCND:USW00014732', 'attributes': 'H,,S,', 'value': 104}, {'date': '2022-05-09T00:00:00', 'datatype': 'TAVG', 'station': 'GHCND:USW00014732', 'attributes': 'H,,S,', 'value': 135}, {'date': '2022-05-10T00:00:00', 'datatype': 'TAVG', 'station': 'GHCND:USW00014732', 'attributes': 'H,,S,', 'value': 154}, {'date': '2022-05-11T00:00:00', 'datatype': 'TAVG', 'station': 'GHCND:USW00014732', 'attributes': 'H,,S,', 'value': 161}, {'date': '2022-05-12T00:00:00', 'datatype': 'TAVG', 'station': 'GHCND:USW00014732', 'attributes': 'H,,S,', 'value': 171}, {'date': '2022-05-13T00:00:00', 'datatype': 'TAVG', 'station': 'GHCND:USW00014732', 'attributes': 'H,,S,', 'value': 160}, {'date': '2022-05-14T00:00:00', 'datatype': 'TAVG', 'station': 'GHCND:USW00014732', 'attributes': 'H,,S,', 'value': 179}, {'date': '2022-05-15T00:00:00', 'datatype': 'TAVG', 'station': 'GHCND:USW00014732', 'attributes': 'H,,S,', 'value': 188}, {'date': '2022-05-16T00:00:00', 'datatype': 'TAVG', 'station': 'GHCND:USW00014732', 'attributes': 'H,,S,', 'value': 204}, {'date': '2022-05-17T00:00:00', 'datatype': 'TAVG', 'station': 'GHCND:USW00014732', 'attributes': 'H,,S,', 'value': 197}, {'date': '2022-05-18T00:00:00', 'datatype': 'TAVG', 'station': 'GHCND:USW00014732', 'attributes': 'H,,S,', 'value': 178}, {'date': '2022-05-19T00:00:00', 'datatype': 'TAVG', 'station': 'GHCND:USW00014732', 'attributes': 'H,,S,', 'value': 155}, {'date': '2022-05-20T00:00:00', 'datatype': 'TAVG', 'station': 'GHCND:USW00014732', 'attributes': 'H,,S,', 'value': 154}, {'date': '2022-05-21T00:00:00', 'datatype': 'TAVG', 'station': 'GHCND:USW00014732', 'attributes': 'H,,S,', 'value': 212}, {'date': '2022-05-22T00:00:00', 'datatype': 'TAVG', 'station': 'GHCND:USW00014732', 'attributes': 'H,,S,', 'value': 278}, {'date': '2022-05-23T00:00:00', 'datatype': 'TAVG', 'station': 'GHCND:USW00014732', 'attributes': 'H,,S,', 'value': 210}, {'date': '2022-05-24T00:00:00', 'datatype': 'TAVG', 'station': 'GHCND:USW00014732', 'attributes': 'H,,S,', 'value': 174}, {'date': '2022-05-25T00:00:00', 'datatype': 'TAVG', 'station': 'GHCND:USW00014732', 'attributes': 'H,,S,', 'value': 162}, {'date': '2022-05-26T00:00:00', 'datatype': 'TAVG', 'station': 'GHCND:USW00014732', 'attributes': 'H,,S,', 'value': 164}, {'date': '2022-05-27T00:00:00', 'datatype': 'TAVG', 'station': 'GHCND:USW00014732', 'attributes': 'H,,S,', 'value': 202}, {'date': '2022-05-28T00:00:00', 'datatype': 'TAVG', 'station': 'GHCND:USW00014732', 'attributes': 'H,,S,', 'value': 204}, {'date': '2022-05-29T00:00:00', 'datatype': 'TAVG', 'station': 'GHCND:USW00014732', 'attributes': 'H,,S,', 'value': 207}, {'date': '2022-05-30T00:00:00', 'datatype': 'TAVG', 'station': 'GHCND:USW00014732', 'attributes': 'H,,S,', 'value': 233}, {'date': '2022-05-31T00:00:00', 'datatype': 'TAVG', 'station': 'GHCND:USW00014732', 'attributes': 'H,,S,', 'value': 283}, {'date': '2022-06-01T00:00:00', 'datatype': 'TAVG', 'station': 'GHCND:USW00014732', 'attributes': 'H,,S,', 'value': 178}, {'date': '2022-06-02T00:00:00', 'datatype': 'TAVG', 'station': 'GHCND:USW00014732', 'attributes': 'H,,S,', 'value': 203}, {'date': '2022-06-03T00:00:00', 'datatype': 'TAVG', 'station': 'GHCND:USW00014732', 'attributes': 'H,,S,', 'value': 195}, {'date': '2022-06-04T00:00:00', 'datatype': 'TAVG', 'station': 'GHCND:USW00014732', 'attributes': 'H,,S,', 'value': 219}, {'date': '2022-06-05T00:00:00', 'datatype': 'TAVG', 'station': 'GHCND:USW00014732', 'attributes': 'H,,S,', 'value': 200}, {'date': '2022-06-06T00:00:00', 'datatype': 'TAVG', 'station': 'GHCND:USW00014732', 'attributes': 'H,,S,', 'value': 222}, {'date': '2022-06-07T00:00:00', 'datatype': 'TAVG', 'station': 'GHCND:USW00014732', 'attributes': 'H,,S,', 'value': 218}, {'date': '2022-06-08T00:00:00', 'datatype': 'TAVG', 'station': 'GHCND:USW00014732', 'attributes': 'H,,S,', 'value': 237}, {'date': '2022-06-09T00:00:00', 'datatype': 'TAVG', 'station': 'GHCND:USW00014732', 'attributes': 'H,,S,', 'value': 244}, {'date': '2022-06-10T00:00:00', 'datatype': 'TAVG', 'station': 'GHCND:USW00014732', 'attributes': 'H,,S,', 'value': 218}, {'date': '2022-06-11T00:00:00', 'datatype': 'TAVG', 'station': 'GHCND:USW00014732', 'attributes': 'H,,S,', 'value': 218}, {'date': '2022-06-12T00:00:00', 'datatype': 'TAVG', 'station': 'GHCND:USW00014732', 'attributes': 'H,,S,', 'value': 205}, {'date': '2022-06-13T00:00:00', 'datatype': 'TAVG', 'station': 'GHCND:USW00014732', 'attributes': 'H,,S,', 'value': 242}, {'date': '2022-06-14T00:00:00', 'datatype': 'TAVG', 'station': 'GHCND:USW00014732', 'attributes': 'H,,S,', 'value': 239}, {'date': '2022-06-15T00:00:00', 'datatype': 'TAVG', 'station': 'GHCND:USW00014732', 'attributes': 'H,,S,', 'value': 233}, {'date': '2022-06-16T00:00:00', 'datatype': 'TAVG', 'station': 'GHCND:USW00014732', 'attributes': 'H,,S,', 'value': 203}, {'date': '2022-06-17T00:00:00', 'datatype': 'TAVG', 'station': 'GHCND:USW00014732', 'attributes': 'H,,S,', 'value': 252}, {'date': '2022-06-18T00:00:00', 'datatype': 'TAVG', 'station': 'GHCND:USW00014732', 'attributes': 'H,,S,', 'value': 217}, {'date': '2022-06-19T00:00:00', 'datatype': 'TAVG', 'station': 'GHCND:USW00014732', 'attributes': 'H,,S,', 'value': 173}, {'date': '2022-06-20T00:00:00', 'datatype': 'TAVG', 'station': 'GHCND:USW00014732', 'attributes': 'H,,S,', 'value': 205}, {'date': '2022-06-21T00:00:00', 'datatype': 'TAVG', 'station': 'GHCND:USW00014732', 'attributes': 'H,,S,', 'value': 221}, {'date': '2022-06-22T00:00:00', 'datatype': 'TAVG', 'station': 'GHCND:USW00014732', 'attributes': 'H,,S,', 'value': 191}, {'date': '2022-06-23T00:00:00', 'datatype': 'TAVG', 'station': 'GHCND:USW00014732', 'attributes': 'H,,S,', 'value': 192}, {'date': '2022-06-24T00:00:00', 'datatype': 'TAVG', 'station': 'GHCND:USW00014732', 'attributes': 'H,,S,', 'value': 219}, {'date': '2022-06-25T00:00:00', 'datatype': 'TAVG', 'station': 'GHCND:USW00014732', 'attributes': 'H,,S,', 'value': 258}, {'date': '2022-06-26T00:00:00', 'datatype': 'TAVG', 'station': 'GHCND:USW00014732', 'attributes': 'H,,S,', 'value': 270}, {'date': '2022-06-27T00:00:00', 'datatype': 'TAVG', 'station': 'GHCND:USW00014732', 'attributes': 'H,,S,', 'value': 243}, {'date': '2022-06-28T00:00:00', 'datatype': 'TAVG', 'station': 'GHCND:USW00014732', 'attributes': 'H,,S,', 'value': 224}, {'date': '2022-06-29T00:00:00', 'datatype': 'TAVG', 'station': 'GHCND:USW00014732', 'attributes': 'H,,S,', 'value': 239}, {'date': '2022-06-30T00:00:00', 'datatype': 'TAVG', 'station': 'GHCND:USW00014732', 'attributes': 'H,,S,', 'value': 254}, {'date': '2022-07-01T00:00:00', 'datatype': 'TAVG', 'station': 'GHCND:USW00014732', 'attributes': 'H,,S,', 'value': 281}, {'date': '2022-07-02T00:00:00', 'datatype': 'TAVG', 'station': 'GHCND:USW00014732', 'attributes': 'H,,S,', 'value': 287}, {'date': '2022-07-03T00:00:00', 'datatype': 'TAVG', 'station': 'GHCND:USW00014732', 'attributes': 'H,,S,', 'value': 269}, {'date': '2022-07-04T00:00:00', 'datatype': 'TAVG', 'station': 'GHCND:USW00014732', 'attributes': 'H,,S,', 'value': 256}, {'date': '2022-07-05T00:00:00', 'datatype': 'TAVG', 'station': 'GHCND:USW00014732', 'attributes': 'H,,S,', 'value': 259}, {'date': '2022-07-06T00:00:00', 'datatype': 'TAVG', 'station': 'GHCND:USW00014732', 'attributes': 'H,,S,', 'value': 260}, {'date': '2022-07-07T00:00:00', 'datatype': 'TAVG', 'station': 'GHCND:USW00014732', 'attributes': 'H,,S,', 'value': 242}, {'date': '2022-07-08T00:00:00', 'datatype': 'TAVG', 'station': 'GHCND:USW00014732', 'attributes': 'H,,S,', 'value': 235}, {'date': '2022-07-09T00:00:00', 'datatype': 'TAVG', 'station': 'GHCND:USW00014732', 'attributes': 'H,,S,', 'value': 247}, {'date': '2022-07-10T00:00:00', 'datatype': 'TAVG', 'station': 'GHCND:USW00014732', 'attributes': 'H,,S,', 'value': 234}, {'date': '2022-07-11T00:00:00', 'datatype': 'TAVG', 'station': 'GHCND:USW00014732', 'attributes': 'H,,S,', 'value': 240}, {'date': '2022-07-12T00:00:00', 'datatype': 'TAVG', 'station': 'GHCND:USW00014732', 'attributes': 'H,,S,', 'value': 258}, {'date': '2022-07-13T00:00:00', 'datatype': 'TAVG', 'station': 'GHCND:USW00014732', 'attributes': 'H,,S,', 'value': 289}, {'date': '2022-07-14T00:00:00', 'datatype': 'TAVG', 'station': 'GHCND:USW00014732', 'attributes': 'H,,S,', 'value': 266}, {'date': '2022-07-15T00:00:00', 'datatype': 'TAVG', 'station': 'GHCND:USW00014732', 'attributes': 'H,,S,', 'value': 261}, {'date': '2022-07-16T00:00:00', 'datatype': 'TAVG', 'station': 'GHCND:USW00014732', 'attributes': 'H,,S,', 'value': 243}, {'date': '2022-07-17T00:00:00', 'datatype': 'TAVG', 'station': 'GHCND:USW00014732', 'attributes': 'H,,S,', 'value': 257}, {'date': '2022-07-18T00:00:00', 'datatype': 'TAVG', 'station': 'GHCND:USW00014732', 'attributes': 'H,,S,', 'value': 262}, {'date': '2022-07-19T00:00:00', 'datatype': 'TAVG', 'station': 'GHCND:USW00014732', 'attributes': 'H,,S,', 'value': 282}, {'date': '2022-07-20T00:00:00', 'datatype': 'TAVG', 'station': 'GHCND:USW00014732', 'attributes': 'H,,S,', 'value': 313}, {'date': '2022-07-21T00:00:00', 'datatype': 'TAVG', 'station': 'GHCND:USW00014732', 'attributes': 'H,,S,', 'value': 298}, {'date': '2022-07-22T00:00:00', 'datatype': 'TAVG', 'station': 'GHCND:USW00014732', 'attributes': 'H,,S,', 'value': 309}, {'date': '2022-07-23T00:00:00', 'datatype': 'TAVG', 'station': 'GHCND:USW00014732', 'attributes': 'H,,S,', 'value': 303}, {'date': '2022-07-24T00:00:00', 'datatype': 'TAVG', 'station': 'GHCND:USW00014732', 'attributes': 'H,,S,', 'value': 311}, {'date': '2022-07-25T00:00:00', 'datatype': 'TAVG', 'station': 'GHCND:USW00014732', 'attributes': 'H,,S,', 'value': 298}, {'date': '2022-07-26T00:00:00', 'datatype': 'TAVG', 'station': 'GHCND:USW00014732', 'attributes': 'H,,S,', 'value': 259}, {'date': '2022-07-27T00:00:00', 'datatype': 'TAVG', 'station': 'GHCND:USW00014732', 'attributes': 'H,,S,', 'value': 255}, {'date': '2022-07-28T00:00:00', 'datatype': 'TAVG', 'station': 'GHCND:USW00014732', 'attributes': 'H,,S,', 'value': 267}, {'date': '2022-07-29T00:00:00', 'datatype': 'TAVG', 'station': 'GHCND:USW00014732', 'attributes': 'H,,S,', 'value': 282}, {'date': '2022-07-30T00:00:00', 'datatype': 'TAVG', 'station': 'GHCND:USW00014732', 'attributes': 'H,,S,', 'value': 267}, {'date': '2022-07-31T00:00:00', 'datatype': 'TAVG', 'station': 'GHCND:USW00014732', 'attributes': 'H,,S,', 'value': 263}, {'date': '2022-08-01T00:00:00', 'datatype': 'TAVG', 'station': 'GHCND:USW00014732', 'attributes': 'H,,S,', 'value': 231}, {'date': '2022-08-02T00:00:00', 'datatype': 'TAVG', 'station': 'GHCND:USW00014732', 'attributes': 'H,,S,', 'value': 264}, {'date': '2022-08-03T00:00:00', 'datatype': 'TAVG', 'station': 'GHCND:USW00014732', 'attributes': 'H,,S,', 'value': 276}, {'date': '2022-08-04T00:00:00', 'datatype': 'TAVG', 'station': 'GHCND:USW00014732', 'attributes': 'H,,S,', 'value': 291}, {'date': '2022-08-05T00:00:00', 'datatype': 'TAVG', 'station': 'GHCND:USW00014732', 'attributes': 'H,,S,', 'value': 293}, {'date': '2022-08-06T00:00:00', 'datatype': 'TAVG', 'station': 'GHCND:USW00014732', 'attributes': 'H,,S,', 'value': 296}, {'date': '2022-08-07T00:00:00', 'datatype': 'TAVG', 'station': 'GHCND:USW00014732', 'attributes': 'H,,S,', 'value': 296}, {'date': '2022-08-08T00:00:00', 'datatype': 'TAVG', 'station': 'GHCND:USW00014732', 'attributes': 'H,,S,', 'value': 303}, {'date': '2022-08-09T00:00:00', 'datatype': 'TAVG', 'station': 'GHCND:USW00014732', 'attributes': 'H,,S,', 'value': 313}, {'date': '2022-08-10T00:00:00', 'datatype': 'TAVG', 'station': 'GHCND:USW00014732', 'attributes': 'H,,S,', 'value': 272}, {'date': '2022-08-11T00:00:00', 'datatype': 'TAVG', 'station': 'GHCND:USW00014732', 'attributes': 'H,,S,', 'value': 266}, {'date': '2022-08-12T00:00:00', 'datatype': 'TAVG', 'station': 'GHCND:USW00014732', 'attributes': 'H,,S,', 'value': 256}, {'date': '2022-08-13T00:00:00', 'datatype': 'TAVG', 'station': 'GHCND:USW00014732', 'attributes': 'H,,S,', 'value': 231}, {'date': '2022-08-14T00:00:00', 'datatype': 'TAVG', 'station': 'GHCND:USW00014732', 'attributes': 'H,,S,', 'value': 240}, {'date': '2022-08-15T00:00:00', 'datatype': 'TAVG', 'station': 'GHCND:USW00014732', 'attributes': 'H,,S,', 'value': 243}, {'date': '2022-08-16T00:00:00', 'datatype': 'TAVG', 'station': 'GHCND:USW00014732', 'attributes': 'H,,S,', 'value': 236}, {'date': '2022-08-17T00:00:00', 'datatype': 'TAVG', 'station': 'GHCND:USW00014732', 'attributes': 'H,,S,', 'value': 236}, {'date': '2022-08-18T00:00:00', 'datatype': 'TAVG', 'station': 'GHCND:USW00014732', 'attributes': 'H,,S,', 'value': 241}, {'date': '2022-08-19T00:00:00', 'datatype': 'TAVG', 'station': 'GHCND:USW00014732', 'attributes': 'H,,S,', 'value': 263}, {'date': '2022-08-20T00:00:00', 'datatype': 'TAVG', 'station': 'GHCND:USW00014732', 'attributes': 'H,,S,', 'value': 279}, {'date': '2022-08-21T00:00:00', 'datatype': 'TAVG', 'station': 'GHCND:USW00014732', 'attributes': 'H,,S,', 'value': 253}, {'date': '2022-08-22T00:00:00', 'datatype': 'TAVG', 'station': 'GHCND:USW00014732', 'attributes': 'H,,S,', 'value': 245}, {'date': '2022-08-23T00:00:00', 'datatype': 'TAVG', 'station': 'GHCND:USW00014732', 'attributes': 'H,,S,', 'value': 259}, {'date': '2022-08-24T00:00:00', 'datatype': 'TAVG', 'station': 'GHCND:USW00014732', 'attributes': 'H,,S,', 'value': 269}, {'date': '2022-08-25T00:00:00', 'datatype': 'TAVG', 'station': 'GHCND:USW00014732', 'attributes': 'H,,S,', 'value': 281}, {'date': '2022-08-26T00:00:00', 'datatype': 'TAVG', 'station': 'GHCND:USW00014732', 'attributes': 'H,,S,', 'value': 274}, {'date': '2022-08-27T00:00:00', 'datatype': 'TAVG', 'station': 'GHCND:USW00014732', 'attributes': 'H,,S,', 'value': 278}, {'date': '2022-08-28T00:00:00', 'datatype': 'TAVG', 'station': 'GHCND:USW00014732', 'attributes': 'H,,S,', 'value': 246}, {'date': '2022-08-29T00:00:00', 'datatype': 'TAVG', 'station': 'GHCND:USW00014732', 'attributes': 'H,,S,', 'value': 260}, {'date': '2022-08-30T00:00:00', 'datatype': 'TAVG', 'station': 'GHCND:USW00014732', 'attributes': 'H,,S,', 'value': 268}, {'date': '2022-08-31T00:00:00', 'datatype': 'TAVG', 'station': 'GHCND:USW00014732', 'attributes': 'H,,S,', 'value': 256}, {'date': '2022-09-01T00:00:00', 'datatype': 'TAVG', 'station': 'GHCND:USW00014732', 'attributes': 'H,,S,', 'value': 259}, {'date': '2022-09-02T00:00:00', 'datatype': 'TAVG', 'station': 'GHCND:USW00014732', 'attributes': 'H,,S,', 'value': 217}, {'date': '2022-09-03T00:00:00', 'datatype': 'TAVG', 'station': 'GHCND:USW00014732', 'attributes': 'H,,S,', 'value': 228}, {'date': '2022-09-04T00:00:00', 'datatype': 'TAVG', 'station': 'GHCND:USW00014732', 'attributes': 'H,,S,', 'value': 253}, {'date': '2022-09-05T00:00:00', 'datatype': 'TAVG', 'station': 'GHCND:USW00014732', 'attributes': 'H,,S,', 'value': 258}, {'date': '2022-09-06T00:00:00', 'datatype': 'TAVG', 'station': 'GHCND:USW00014732', 'attributes': 'H,,S,', 'value': 233}, {'date': '2022-09-07T00:00:00', 'datatype': 'TAVG', 'station': 'GHCND:USW00014732', 'attributes': 'H,,S,', 'value': 208}, {'date': '2022-09-08T00:00:00', 'datatype': 'TAVG', 'station': 'GHCND:USW00014732', 'attributes': 'H,,S,', 'value': 218}, {'date': '2022-09-09T00:00:00', 'datatype': 'TAVG', 'station': 'GHCND:USW00014732', 'attributes': 'H,,S,', 'value': 219}, {'date': '2022-09-10T00:00:00', 'datatype': 'TAVG', 'station': 'GHCND:USW00014732', 'attributes': 'H,,S,', 'value': 236}, {'date': '2022-09-11T00:00:00', 'datatype': 'TAVG', 'station': 'GHCND:USW00014732', 'attributes': 'H,,S,', 'value': 232}, {'date': '2022-09-12T00:00:00', 'datatype': 'TAVG', 'station': 'GHCND:USW00014732', 'attributes': 'H,,S,', 'value': 224}, {'date': '2022-09-13T00:00:00', 'datatype': 'TAVG', 'station': 'GHCND:USW00014732', 'attributes': 'H,,S,', 'value': 247}, {'date': '2022-09-14T00:00:00', 'datatype': 'TAVG', 'station': 'GHCND:USW00014732', 'attributes': 'H,,S,', 'value': 229}, {'date': '2022-09-15T00:00:00', 'datatype': 'TAVG', 'station': 'GHCND:USW00014732', 'attributes': 'H,,S,', 'value': 218}, {'date': '2022-09-16T00:00:00', 'datatype': 'TAVG', 'station': 'GHCND:USW00014732', 'attributes': 'H,,S,', 'value': 196}, {'date': '2022-09-17T00:00:00', 'datatype': 'TAVG', 'station': 'GHCND:USW00014732', 'attributes': 'H,,S,', 'value': 208}, {'date': '2022-09-18T00:00:00', 'datatype': 'TAVG', 'station': 'GHCND:USW00014732', 'attributes': 'H,,S,', 'value': 234}, {'date': '2022-09-19T00:00:00', 'datatype': 'TAVG', 'station': 'GHCND:USW00014732', 'attributes': 'H,,S,', 'value': 256}, {'date': '2022-09-20T00:00:00', 'datatype': 'TAVG', 'station': 'GHCND:USW00014732', 'attributes': 'H,,S,', 'value': 232}, {'date': '2022-09-21T00:00:00', 'datatype': 'TAVG', 'station': 'GHCND:USW00014732', 'attributes': 'H,,S,', 'value': 220}, {'date': '2022-09-22T00:00:00', 'datatype': 'TAVG', 'station': 'GHCND:USW00014732', 'attributes': 'H,,S,', 'value': 218}, {'date': '2022-09-23T00:00:00', 'datatype': 'TAVG', 'station': 'GHCND:USW00014732', 'attributes': 'H,,S,', 'value': 151}, {'date': '2022-09-24T00:00:00', 'datatype': 'TAVG', 'station': 'GHCND:USW00014732', 'attributes': 'H,,S,', 'value': 145}, {'date': '2022-09-25T00:00:00', 'datatype': 'TAVG', 'station': 'GHCND:USW00014732', 'attributes': 'H,,S,', 'value': 192}, {'date': '2022-09-26T00:00:00', 'datatype': 'TAVG', 'station': 'GHCND:USW00014732', 'attributes': 'H,,S,', 'value': 194}, {'date': '2022-09-27T00:00:00', 'datatype': 'TAVG', 'station': 'GHCND:USW00014732', 'attributes': 'H,,S,', 'value': 197}, {'date': '2022-09-28T00:00:00', 'datatype': 'TAVG', 'station': 'GHCND:USW00014732', 'attributes': 'H,,S,', 'value': 172}, {'date': '2022-09-29T00:00:00', 'datatype': 'TAVG', 'station': 'GHCND:USW00014732', 'attributes': 'H,,S,', 'value': 166}, {'date': '2022-09-30T00:00:00', 'datatype': 'TAVG', 'station': 'GHCND:USW00014732', 'attributes': 'H,,S,', 'value': 145}, {'date': '2022-10-01T00:00:00', 'datatype': 'TAVG', 'station': 'GHCND:USW00014732', 'attributes': 'H,,S,', 'value': 148}, {'date': '2022-10-02T00:00:00', 'datatype': 'TAVG', 'station': 'GHCND:USW00014732', 'attributes': 'H,,S,', 'value': 152}, {'date': '2022-10-03T00:00:00', 'datatype': 'TAVG', 'station': 'GHCND:USW00014732', 'attributes': 'H,,S,', 'value': 115}, {'date': '2022-10-04T00:00:00', 'datatype': 'TAVG', 'station': 'GHCND:USW00014732', 'attributes': 'H,,S,', 'value': 103}, {'date': '2022-10-05T00:00:00', 'datatype': 'TAVG', 'station': 'GHCND:USW00014732', 'attributes': 'H,,S,', 'value': 138}, {'date': '2022-10-06T00:00:00', 'datatype': 'TAVG', 'station': 'GHCND:USW00014732', 'attributes': 'H,,S,', 'value': 176}, {'date': '2022-10-07T00:00:00', 'datatype': 'TAVG', 'station': 'GHCND:USW00014732', 'attributes': 'H,,S,', 'value': 203}, {'date': '2022-10-08T00:00:00', 'datatype': 'TAVG', 'station': 'GHCND:USW00014732', 'attributes': 'H,,S,', 'value': 139}, {'date': '2022-10-09T00:00:00', 'datatype': 'TAVG', 'station': 'GHCND:USW00014732', 'attributes': 'H,,S,', 'value': 123}, {'date': '2022-10-10T00:00:00', 'datatype': 'TAVG', 'station': 'GHCND:USW00014732', 'attributes': 'H,,S,', 'value': 158}, {'date': '2022-10-11T00:00:00', 'datatype': 'TAVG', 'station': 'GHCND:USW00014732', 'attributes': 'H,,S,', 'value': 170}, {'date': '2022-10-12T00:00:00', 'datatype': 'TAVG', 'station': 'GHCND:USW00014732', 'attributes': 'H,,S,', 'value': 179}, {'date': '2022-10-13T00:00:00', 'datatype': 'TAVG', 'station': 'GHCND:USW00014732', 'attributes': 'H,,S,', 'value': 187}, {'date': '2022-10-14T00:00:00', 'datatype': 'TAVG', 'station': 'GHCND:USW00014732', 'attributes': 'H,,S,', 'value': 157}, {'date': '2022-10-15T00:00:00', 'datatype': 'TAVG', 'station': 'GHCND:USW00014732', 'attributes': 'H,,S,', 'value': 162}, {'date': '2022-10-16T00:00:00', 'datatype': 'TAVG', 'station': 'GHCND:USW00014732', 'attributes': 'H,,S,', 'value': 161}, {'date': '2022-10-17T00:00:00', 'datatype': 'TAVG', 'station': 'GHCND:USW00014732', 'attributes': 'H,,S,', 'value': 166}, {'date': '2022-10-18T00:00:00', 'datatype': 'TAVG', 'station': 'GHCND:USW00014732', 'attributes': 'H,,S,', 'value': 126}, {'date': '2022-10-19T00:00:00', 'datatype': 'TAVG', 'station': 'GHCND:USW00014732', 'attributes': 'H,,S,', 'value': 100}, {'date': '2022-10-20T00:00:00', 'datatype': 'TAVG', 'station': 'GHCND:USW00014732', 'attributes': 'H,,S,', 'value': 111}, {'date': '2022-10-21T00:00:00', 'datatype': 'TAVG', 'station': 'GHCND:USW00014732', 'attributes': 'H,,S,', 'value': 134}, {'date': '2022-10-22T00:00:00', 'datatype': 'TAVG', 'station': 'GHCND:USW00014732', 'attributes': 'H,,S,', 'value': 144}, {'date': '2022-10-23T00:00:00', 'datatype': 'TAVG', 'station': 'GHCND:USW00014732', 'attributes': 'H,,S,', 'value': 147}, {'date': '2022-10-24T00:00:00', 'datatype': 'TAVG', 'station': 'GHCND:USW00014732', 'attributes': 'H,,S,', 'value': 141}, {'date': '2022-10-25T00:00:00', 'datatype': 'TAVG', 'station': 'GHCND:USW00014732', 'attributes': 'H,,S,', 'value': 169}, {'date': '2022-10-26T00:00:00', 'datatype': 'TAVG', 'station': 'GHCND:USW00014732', 'attributes': 'H,,S,', 'value': 183}, {'date': '2022-10-27T00:00:00', 'datatype': 'TAVG', 'station': 'GHCND:USW00014732', 'attributes': 'H,,S,', 'value': 169}, {'date': '2022-10-28T00:00:00', 'datatype': 'TAVG', 'station': 'GHCND:USW00014732', 'attributes': 'H,,S,', 'value': 113}, {'date': '2022-10-29T00:00:00', 'datatype': 'TAVG', 'station': 'GHCND:USW00014732', 'attributes': 'H,,S,', 'value': 108}, {'date': '2022-10-30T00:00:00', 'datatype': 'TAVG', 'station': 'GHCND:USW00014732', 'attributes': 'H,,S,', 'value': 125}, {'date': '2022-10-31T00:00:00', 'datatype': 'TAVG', 'station': 'GHCND:USW00014732', 'attributes': 'H,,S,', 'value': 144}, {'date': '2022-11-01T00:00:00', 'datatype': 'TAVG', 'station': 'GHCND:USW00014732', 'attributes': 'H,,S,', 'value': 169}, {'date': '2022-11-02T00:00:00', 'datatype': 'TAVG', 'station': 'GHCND:USW00014732', 'attributes': 'H,,S,', 'value': 176}, {'date': '2022-11-03T00:00:00', 'datatype': 'TAVG', 'station': 'GHCND:USW00014732', 'attributes': 'H,,S,', 'value': 157}, {'date': '2022-11-04T00:00:00', 'datatype': 'TAVG', 'station': 'GHCND:USW00014732', 'attributes': 'H,,S,', 'value': 152}, {'date': '2022-11-05T00:00:00', 'datatype': 'TAVG', 'station': 'GHCND:USW00014732', 'attributes': 'H,,S,', 'value': 194}, {'date': '2022-11-06T00:00:00', 'datatype': 'TAVG', 'station': 'GHCND:USW00014732', 'attributes': 'H,,S,', 'value': 198}, {'date': '2022-11-07T00:00:00', 'datatype': 'TAVG', 'station': 'GHCND:USW00014732', 'attributes': 'H,,S,', 'value': 213}, {'date': '2022-11-08T00:00:00', 'datatype': 'TAVG', 'station': 'GHCND:USW00014732', 'attributes': 'H,,S,', 'value': 132}, {'date': '2022-11-09T00:00:00', 'datatype': 'TAVG', 'station': 'GHCND:USW00014732', 'attributes': 'H,,S,', 'value': 87}, {'date': '2022-11-10T00:00:00', 'datatype': 'TAVG', 'station': 'GHCND:USW00014732', 'attributes': 'H,,S,', 'value': 126}, {'date': '2022-11-11T00:00:00', 'datatype': 'TAVG', 'station': 'GHCND:USW00014732', 'attributes': 'H,,S,', 'value': 164}, {'date': '2022-11-12T00:00:00', 'datatype': 'TAVG', 'station': 'GHCND:USW00014732', 'attributes': 'H,,S,', 'value': 197}, {'date': '2022-11-13T00:00:00', 'datatype': 'TAVG', 'station': 'GHCND:USW00014732', 'attributes': 'H,,S,', 'value': 129}, {'date': '2022-11-14T00:00:00', 'datatype': 'TAVG', 'station': 'GHCND:USW00014732', 'attributes': 'H,,S,', 'value': 63}, {'date': '2022-11-15T00:00:00', 'datatype': 'TAVG', 'station': 'GHCND:USW00014732', 'attributes': 'H,,S,', 'value': 49}, {'date': '2022-11-16T00:00:00', 'datatype': 'TAVG', 'station': 'GHCND:USW00014732', 'attributes': 'H,,S,', 'value': 73}, {'date': '2022-11-17T00:00:00', 'datatype': 'TAVG', 'station': 'GHCND:USW00014732', 'attributes': 'H,,S,', 'value': 57}, {'date': '2022-11-18T00:00:00', 'datatype': 'TAVG', 'station': 'GHCND:USW00014732', 'attributes': 'H,,S,', 'value': 45}, {'date': '2022-11-19T00:00:00', 'datatype': 'TAVG', 'station': 'GHCND:USW00014732', 'attributes': 'H,,S,', 'value': 28}, {'date': '2022-11-20T00:00:00', 'datatype': 'TAVG', 'station': 'GHCND:USW00014732', 'attributes': 'H,,S,', 'value': 27}, {'date': '2022-11-21T00:00:00', 'datatype': 'TAVG', 'station': 'GHCND:USW00014732', 'attributes': 'H,,S,', 'value': 11}, {'date': '2022-11-22T00:00:00', 'datatype': 'TAVG', 'station': 'GHCND:USW00014732', 'attributes': 'H,,S,', 'value': 66}, {'date': '2022-11-23T00:00:00', 'datatype': 'TAVG', 'station': 'GHCND:USW00014732', 'attributes': 'H,,S,', 'value': 94}, {'date': '2022-11-24T00:00:00', 'datatype': 'TAVG', 'station': 'GHCND:USW00014732', 'attributes': 'H,,S,', 'value': 81}, {'date': '2022-11-25T00:00:00', 'datatype': 'TAVG', 'station': 'GHCND:USW00014732', 'attributes': 'H,,S,', 'value': 100}, {'date': '2022-11-26T00:00:00', 'datatype': 'TAVG', 'station': 'GHCND:USW00014732', 'attributes': 'H,,S,', 'value': 93}, {'date': '2022-11-27T00:00:00', 'datatype': 'TAVG', 'station': 'GHCND:USW00014732', 'attributes': 'H,,S,', 'value': 107}, {'date': '2022-11-28T00:00:00', 'datatype': 'TAVG', 'station': 'GHCND:USW00014732', 'attributes': 'H,,S,', 'value': 122}, {'date': '2022-11-29T00:00:00', 'datatype': 'TAVG', 'station': 'GHCND:USW00014732', 'attributes': 'H,,S,', 'value': 54}, {'date': '2022-11-30T00:00:00', 'datatype': 'TAVG', 'station': 'GHCND:USW00014732', 'attributes': 'H,,S,', 'value': 84}, {'date': '2022-12-01T00:00:00', 'datatype': 'TAVG', 'station': 'GHCND:USW00014732', 'attributes': 'H,,S,', 'value': 57}, {'date': '2022-12-02T00:00:00', 'datatype': 'TAVG', 'station': 'GHCND:USW00014732', 'attributes': 'H,,S,', 'value': 34}, {'date': '2022-12-03T00:00:00', 'datatype': 'TAVG', 'station': 'GHCND:USW00014732', 'attributes': 'H,,S,', 'value': 106}, {'date': '2022-12-04T00:00:00', 'datatype': 'TAVG', 'station': 'GHCND:USW00014732', 'attributes': 'H,,S,', 'value': 70}, {'date': '2022-12-05T00:00:00', 'datatype': 'TAVG', 'station': 'GHCND:USW00014732', 'attributes': 'H,,S,', 'value': 54}, {'date': '2022-12-06T00:00:00', 'datatype': 'TAVG', 'station': 'GHCND:USW00014732', 'attributes': 'H,,S,', 'value': 93}, {'date': '2022-12-07T00:00:00', 'datatype': 'TAVG', 'station': 'GHCND:USW00014732', 'attributes': 'H,,S,', 'value': 138}, {'date': '2022-12-08T00:00:00', 'datatype': 'TAVG', 'station': 'GHCND:USW00014732', 'attributes': 'H,,S,', 'value': 116}, {'date': '2022-12-09T00:00:00', 'datatype': 'TAVG', 'station': 'GHCND:USW00014732', 'attributes': 'H,,S,', 'value': 53}, {'date': '2022-12-10T00:00:00', 'datatype': 'TAVG', 'station': 'GHCND:USW00014732', 'attributes': 'H,,S,', 'value': 22}, {'date': '2022-12-11T00:00:00', 'datatype': 'TAVG', 'station': 'GHCND:USW00014732', 'attributes': 'H,,S,', 'value': 34}, {'date': '2022-12-12T00:00:00', 'datatype': 'TAVG', 'station': 'GHCND:USW00014732', 'attributes': 'H,,S,', 'value': 16}, {'date': '2022-12-13T00:00:00', 'datatype': 'TAVG', 'station': 'GHCND:USW00014732', 'attributes': 'H,,S,', 'value': 3}, {'date': '2022-12-14T00:00:00', 'datatype': 'TAVG', 'station': 'GHCND:USW00014732', 'attributes': 'H,,S,', 'value': 17}, {'date': '2022-12-15T00:00:00', 'datatype': 'TAVG', 'station': 'GHCND:USW00014732', 'attributes': 'H,,S,', 'value': 27}, {'date': '2022-12-16T00:00:00', 'datatype': 'TAVG', 'station': 'GHCND:USW00014732', 'attributes': 'H,,S,', 'value': 62}, {'date': '2022-12-17T00:00:00', 'datatype': 'TAVG', 'station': 'GHCND:USW00014732', 'attributes': 'H,,S,', 'value': 50}, {'date': '2022-12-18T00:00:00', 'datatype': 'TAVG', 'station': 'GHCND:USW00014732', 'attributes': 'H,,S,', 'value': 31}, {'date': '2022-12-19T00:00:00', 'datatype': 'TAVG', 'station': 'GHCND:USW00014732', 'attributes': 'H,,S,', 'value': 17}, {'date': '2022-12-20T00:00:00', 'datatype': 'TAVG', 'station': 'GHCND:USW00014732', 'attributes': 'H,,S,', 'value': 19}, {'date': '2022-12-21T00:00:00', 'datatype': 'TAVG', 'station': 'GHCND:USW00014732', 'attributes': 'H,,S,', 'value': 10}, {'date': '2022-12-22T00:00:00', 'datatype': 'TAVG', 'station': 'GHCND:USW00014732', 'attributes': 'H,,S,', 'value': 38}, {'date': '2022-12-23T00:00:00', 'datatype': 'TAVG', 'station': 'GHCND:USW00014732', 'attributes': 'H,,S,', 'value': 75}, {'date': '2022-12-24T00:00:00', 'datatype': 'TAVG', 'station': 'GHCND:USW00014732', 'attributes': 'H,,S,', 'value': -117}, {'date': '2022-12-25T00:00:00', 'datatype': 'TAVG', 'station': 'GHCND:USW00014732', 'attributes': 'H,,S,', 'value': -69}, {'date': '2022-12-26T00:00:00', 'datatype': 'TAVG', 'station': 'GHCND:USW00014732', 'attributes': 'H,,S,', 'value': -47}, {'date': '2022-12-27T00:00:00', 'datatype': 'TAVG', 'station': 'GHCND:USW00014732', 'attributes': 'H,,S,', 'value': -7}, {'date': '2022-12-28T00:00:00', 'datatype': 'TAVG', 'station': 'GHCND:USW00014732', 'attributes': 'H,,S,', 'value': 34}, {'date': '2022-12-29T00:00:00', 'datatype': 'TAVG', 'station': 'GHCND:USW00014732', 'attributes': 'H,,S,', 'value': 64}, {'date': '2022-12-30T00:00:00', 'datatype': 'TAVG', 'station': 'GHCND:USW00014732', 'attributes': 'H,,S,', 'value': 93}, {'date': '2022-12-31T00:00:00', 'datatype': 'TAVG', 'station': 'GHCND:USW00014732', 'attributes': 'H,,S,', 'value': 82}]}\n"
     ]
    }
   ],
   "source": [
    "print(type(weather_data))  # check if a dict or list\n",
    "print(weather_data)  # see contents"
   ]
  },
  {
   "cell_type": "code",
   "execution_count": 61,
   "id": "d34e269a-abeb-4d6e-b3bf-3a615752e2f6",
   "metadata": {
    "scrolled": true
   },
   "outputs": [],
   "source": [
    "# convert to DataFrame \n",
    "if isinstance(weather_data, list):  # if list of dicts, proceed normally\n",
    "    weather_df = pd.DataFrame(weather_data)\n",
    "elif isinstance(weather_data, dict):  # if a single dict, wrap in a list\n",
    "    weather_df = pd.DataFrame([weather_data])\n",
    "else:\n",
    "    raise ValueError(\"Unexpected data format in API response\")"
   ]
  },
  {
   "cell_type": "code",
   "execution_count": 63,
   "id": "828b7fa5-756f-42bc-8207-6901588ea314",
   "metadata": {},
   "outputs": [],
   "source": [
    "# save to csv\n",
    "weather_df.to_csv(\"api_noaa_data.csv\", index=False)"
   ]
  },
  {
   "cell_type": "markdown",
   "id": "867e7fdd-66df-4f34-8313-18f96565a9cc",
   "metadata": {},
   "source": [
    "# Clean and Merge Weather Data"
   ]
  },
  {
   "cell_type": "code",
   "execution_count": 68,
   "id": "9c849d1e-9797-4cd0-a9b9-fb369ffe0302",
   "metadata": {},
   "outputs": [],
   "source": [
    "# secure all items in response that correspond to TAVG\n",
    "avg_temps = [item for item in weather_data['results'] if item['datatype']=='TAVG']"
   ]
  },
  {
   "cell_type": "code",
   "execution_count": 71,
   "id": "cc87f0ee-7b63-4910-9b5a-81b6d2a3b6ce",
   "metadata": {},
   "outputs": [],
   "source": [
    "# get only date field from all average temperature readings\n",
    "dates_temp = [item['date'] for item in avg_temps]"
   ]
  },
  {
   "cell_type": "code",
   "execution_count": 74,
   "id": "cb4116eb-0e23-4994-b604-3775fd2ce9a7",
   "metadata": {},
   "outputs": [],
   "source": [
    "# get the temperature from all average temperature readings\n",
    "temps = [item['value'] for item in avg_temps]"
   ]
  },
  {
   "cell_type": "code",
   "execution_count": 78,
   "id": "f7f0a1be-0dc7-430c-ae20-392bf2bc7907",
   "metadata": {},
   "outputs": [],
   "source": [
    "# put the results in a dataframe\n",
    "df_temp = pd.DataFrame()"
   ]
  },
  {
   "cell_type": "code",
   "execution_count": 81,
   "id": "c32715d3-2dd4-4a5d-96fb-eea23f542d12",
   "metadata": {},
   "outputs": [],
   "source": [
    "# get only date and cast it to date time; convert temperature from tenths of Celsius to normal Celsius\n",
    "df_temp['date'] = [datetime.strptime(d, \"%Y-%m-%dT%H:%M:%S\") for d in dates_temp]\n",
    "df_temp['avgTemp'] = [float(v)/10.0 for v in temps]"
   ]
  },
  {
   "cell_type": "code",
   "execution_count": 86,
   "id": "95dffeee-dd53-4e5d-9a65-0c92dae576ec",
   "metadata": {},
   "outputs": [
    {
     "data": {
      "text/html": [
       "<div>\n",
       "<style scoped>\n",
       "    .dataframe tbody tr th:only-of-type {\n",
       "        vertical-align: middle;\n",
       "    }\n",
       "\n",
       "    .dataframe tbody tr th {\n",
       "        vertical-align: top;\n",
       "    }\n",
       "\n",
       "    .dataframe thead th {\n",
       "        text-align: right;\n",
       "    }\n",
       "</style>\n",
       "<table border=\"1\" class=\"dataframe\">\n",
       "  <thead>\n",
       "    <tr style=\"text-align: right;\">\n",
       "      <th></th>\n",
       "      <th>date</th>\n",
       "      <th>avgTemp</th>\n",
       "    </tr>\n",
       "  </thead>\n",
       "  <tbody>\n",
       "    <tr>\n",
       "      <th>0</th>\n",
       "      <td>2022-01-01</td>\n",
       "      <td>11.6</td>\n",
       "    </tr>\n",
       "    <tr>\n",
       "      <th>1</th>\n",
       "      <td>2022-01-02</td>\n",
       "      <td>11.4</td>\n",
       "    </tr>\n",
       "    <tr>\n",
       "      <th>2</th>\n",
       "      <td>2022-01-03</td>\n",
       "      <td>1.4</td>\n",
       "    </tr>\n",
       "    <tr>\n",
       "      <th>3</th>\n",
       "      <td>2022-01-04</td>\n",
       "      <td>-2.7</td>\n",
       "    </tr>\n",
       "    <tr>\n",
       "      <th>4</th>\n",
       "      <td>2022-01-05</td>\n",
       "      <td>3.2</td>\n",
       "    </tr>\n",
       "  </tbody>\n",
       "</table>\n",
       "</div>"
      ],
      "text/plain": [
       "        date  avgTemp\n",
       "0 2022-01-01     11.6\n",
       "1 2022-01-02     11.4\n",
       "2 2022-01-03      1.4\n",
       "3 2022-01-04     -2.7\n",
       "4 2022-01-05      3.2"
      ]
     },
     "execution_count": 86,
     "metadata": {},
     "output_type": "execute_result"
    }
   ],
   "source": [
    "df_temp.head()"
   ]
  },
  {
   "cell_type": "code",
   "execution_count": 88,
   "id": "26c976d3-2809-4f93-9807-c949dac96e3d",
   "metadata": {},
   "outputs": [
    {
     "data": {
      "text/html": [
       "<div>\n",
       "<style scoped>\n",
       "    .dataframe tbody tr th:only-of-type {\n",
       "        vertical-align: middle;\n",
       "    }\n",
       "\n",
       "    .dataframe tbody tr th {\n",
       "        vertical-align: top;\n",
       "    }\n",
       "\n",
       "    .dataframe thead th {\n",
       "        text-align: right;\n",
       "    }\n",
       "</style>\n",
       "<table border=\"1\" class=\"dataframe\">\n",
       "  <thead>\n",
       "    <tr style=\"text-align: right;\">\n",
       "      <th></th>\n",
       "      <th>date</th>\n",
       "      <th>avgTemp</th>\n",
       "    </tr>\n",
       "  </thead>\n",
       "  <tbody>\n",
       "    <tr>\n",
       "      <th>360</th>\n",
       "      <td>2022-12-27</td>\n",
       "      <td>-0.7</td>\n",
       "    </tr>\n",
       "    <tr>\n",
       "      <th>361</th>\n",
       "      <td>2022-12-28</td>\n",
       "      <td>3.4</td>\n",
       "    </tr>\n",
       "    <tr>\n",
       "      <th>362</th>\n",
       "      <td>2022-12-29</td>\n",
       "      <td>6.4</td>\n",
       "    </tr>\n",
       "    <tr>\n",
       "      <th>363</th>\n",
       "      <td>2022-12-30</td>\n",
       "      <td>9.3</td>\n",
       "    </tr>\n",
       "    <tr>\n",
       "      <th>364</th>\n",
       "      <td>2022-12-31</td>\n",
       "      <td>8.2</td>\n",
       "    </tr>\n",
       "  </tbody>\n",
       "</table>\n",
       "</div>"
      ],
      "text/plain": [
       "          date  avgTemp\n",
       "360 2022-12-27     -0.7\n",
       "361 2022-12-28      3.4\n",
       "362 2022-12-29      6.4\n",
       "363 2022-12-30      9.3\n",
       "364 2022-12-31      8.2"
      ]
     },
     "execution_count": 88,
     "metadata": {},
     "output_type": "execute_result"
    }
   ],
   "source": [
    "df_temp.tail()"
   ]
  },
  {
   "cell_type": "code",
   "execution_count": 93,
   "id": "7094bce4-1d61-40aa-800e-accb87d5ff95",
   "metadata": {},
   "outputs": [
    {
     "data": {
      "text/plain": [
       "ride_id                object\n",
       "rideable_type          object\n",
       "started_at             object\n",
       "ended_at               object\n",
       "start_station_name     object\n",
       "start_station_id       object\n",
       "end_station_name       object\n",
       "end_station_id         object\n",
       "start_lat             float64\n",
       "start_lng             float64\n",
       "end_lat               float64\n",
       "end_lng               float64\n",
       "member_casual          object\n",
       "dtype: object"
      ]
     },
     "execution_count": 93,
     "metadata": {},
     "output_type": "execute_result"
    }
   ],
   "source": [
    "df.dtypes"
   ]
  },
  {
   "cell_type": "code",
   "execution_count": 99,
   "id": "32ba4bf5-6afd-48c4-94f5-cbf7f6307080",
   "metadata": {},
   "outputs": [
    {
     "data": {
      "text/plain": [
       "date       datetime64[ns]\n",
       "avgTemp           float64\n",
       "dtype: object"
      ]
     },
     "execution_count": 99,
     "metadata": {},
     "output_type": "execute_result"
    }
   ],
   "source": [
    "df_temp.dtypes"
   ]
  },
  {
   "cell_type": "code",
   "execution_count": 107,
   "id": "42ab3083-9e6c-4922-b5c4-af59cf001504",
   "metadata": {},
   "outputs": [],
   "source": [
    "# separate start time and date\n",
    "df['started_at'] = pd.to_datetime(df['started_at'], dayfirst = True)"
   ]
  },
  {
   "cell_type": "code",
   "execution_count": 110,
   "id": "26ca3f93-db65-47d1-ab2d-17d92dadf85f",
   "metadata": {},
   "outputs": [],
   "source": [
    "df['date'] = pd.to_datetime(df['started_at'], format='%Y-%m-%d').dt.date"
   ]
  },
  {
   "cell_type": "code",
   "execution_count": 113,
   "id": "8575ff7d-9a3b-4b25-8711-aa86ebe9826e",
   "metadata": {},
   "outputs": [],
   "source": [
    "df['date'] = pd.to_datetime(df['date'])"
   ]
  },
  {
   "cell_type": "code",
   "execution_count": 118,
   "id": "aaab516f-f56c-48e5-b3f2-00f4034873a2",
   "metadata": {},
   "outputs": [],
   "source": [
    "# merge Dataframes\n",
    "df_merged = df.merge(df_temp, how = 'left', on = 'date', indicator = True)"
   ]
  },
  {
   "cell_type": "code",
   "execution_count": 123,
   "id": "80fa0f76-a797-4d26-a74c-a7f02e65082c",
   "metadata": {},
   "outputs": [
    {
     "data": {
      "text/html": [
       "<div>\n",
       "<style scoped>\n",
       "    .dataframe tbody tr th:only-of-type {\n",
       "        vertical-align: middle;\n",
       "    }\n",
       "\n",
       "    .dataframe tbody tr th {\n",
       "        vertical-align: top;\n",
       "    }\n",
       "\n",
       "    .dataframe thead th {\n",
       "        text-align: right;\n",
       "    }\n",
       "</style>\n",
       "<table border=\"1\" class=\"dataframe\">\n",
       "  <thead>\n",
       "    <tr style=\"text-align: right;\">\n",
       "      <th></th>\n",
       "      <th>ride_id</th>\n",
       "      <th>rideable_type</th>\n",
       "      <th>started_at</th>\n",
       "      <th>ended_at</th>\n",
       "      <th>start_station_name</th>\n",
       "      <th>start_station_id</th>\n",
       "      <th>end_station_name</th>\n",
       "      <th>end_station_id</th>\n",
       "      <th>start_lat</th>\n",
       "      <th>start_lng</th>\n",
       "      <th>end_lat</th>\n",
       "      <th>end_lng</th>\n",
       "      <th>member_casual</th>\n",
       "      <th>date</th>\n",
       "      <th>avgTemp</th>\n",
       "      <th>_merge</th>\n",
       "    </tr>\n",
       "  </thead>\n",
       "  <tbody>\n",
       "    <tr>\n",
       "      <th>0</th>\n",
       "      <td>BFD29218AB271154</td>\n",
       "      <td>electric_bike</td>\n",
       "      <td>2022-01-21 13:22:31.463</td>\n",
       "      <td>2022-01-21 13:22:31.463</td>\n",
       "      <td>West End Ave &amp; W 107 St</td>\n",
       "      <td>7650.05</td>\n",
       "      <td>Mt Morris Park W &amp; W 120 St</td>\n",
       "      <td>7685.14</td>\n",
       "      <td>40.802117</td>\n",
       "      <td>-73.968181</td>\n",
       "      <td>40.804038</td>\n",
       "      <td>-73.945925</td>\n",
       "      <td>member</td>\n",
       "      <td>2022-01-21</td>\n",
       "      <td>-6.0</td>\n",
       "      <td>both</td>\n",
       "    </tr>\n",
       "    <tr>\n",
       "      <th>1</th>\n",
       "      <td>7C953F2FD7BE1302</td>\n",
       "      <td>classic_bike</td>\n",
       "      <td>2022-01-10 11:41:43.422</td>\n",
       "      <td>2022-01-10 11:41:43.422</td>\n",
       "      <td>4 Ave &amp; 3 St</td>\n",
       "      <td>4028.04</td>\n",
       "      <td>Boerum Pl\\t&amp; Pacific St</td>\n",
       "      <td>4488.09</td>\n",
       "      <td>40.673746</td>\n",
       "      <td>-73.985649</td>\n",
       "      <td>40.688489</td>\n",
       "      <td>-73.991160</td>\n",
       "      <td>member</td>\n",
       "      <td>2022-01-10</td>\n",
       "      <td>1.6</td>\n",
       "      <td>both</td>\n",
       "    </tr>\n",
       "    <tr>\n",
       "      <th>2</th>\n",
       "      <td>95893ABD40CED4B8</td>\n",
       "      <td>electric_bike</td>\n",
       "      <td>2022-01-26 11:06:35.227</td>\n",
       "      <td>2022-01-26 11:06:35.227</td>\n",
       "      <td>1 Ave &amp; E 62 St</td>\n",
       "      <td>6753.08</td>\n",
       "      <td>5 Ave &amp; E 29 St</td>\n",
       "      <td>6248.06</td>\n",
       "      <td>40.761227</td>\n",
       "      <td>-73.960940</td>\n",
       "      <td>40.745168</td>\n",
       "      <td>-73.986831</td>\n",
       "      <td>member</td>\n",
       "      <td>2022-01-26</td>\n",
       "      <td>-2.3</td>\n",
       "      <td>both</td>\n",
       "    </tr>\n",
       "    <tr>\n",
       "      <th>3</th>\n",
       "      <td>F853B50772137378</td>\n",
       "      <td>classic_bike</td>\n",
       "      <td>2022-01-03 09:10:50.475</td>\n",
       "      <td>2022-01-03 09:10:50.475</td>\n",
       "      <td>2 Ave &amp; E 96 St</td>\n",
       "      <td>7338.02</td>\n",
       "      <td>5 Ave &amp; E 29 St</td>\n",
       "      <td>6248.06</td>\n",
       "      <td>40.783964</td>\n",
       "      <td>-73.947167</td>\n",
       "      <td>40.745168</td>\n",
       "      <td>-73.986831</td>\n",
       "      <td>member</td>\n",
       "      <td>2022-01-03</td>\n",
       "      <td>1.4</td>\n",
       "      <td>both</td>\n",
       "    </tr>\n",
       "    <tr>\n",
       "      <th>4</th>\n",
       "      <td>7590ADF834797B4B</td>\n",
       "      <td>classic_bike</td>\n",
       "      <td>2022-01-22 14:34:57.474</td>\n",
       "      <td>2022-01-22 14:34:57.474</td>\n",
       "      <td>6 Ave &amp; W 34 St</td>\n",
       "      <td>6364.10</td>\n",
       "      <td>5 Ave &amp; E 29 St</td>\n",
       "      <td>6248.06</td>\n",
       "      <td>40.749640</td>\n",
       "      <td>-73.988050</td>\n",
       "      <td>40.745168</td>\n",
       "      <td>-73.986831</td>\n",
       "      <td>member</td>\n",
       "      <td>2022-01-22</td>\n",
       "      <td>-5.9</td>\n",
       "      <td>both</td>\n",
       "    </tr>\n",
       "    <tr>\n",
       "      <th>5</th>\n",
       "      <td>F803F9593CEDBB39</td>\n",
       "      <td>electric_bike</td>\n",
       "      <td>2022-01-05 15:54:06.286</td>\n",
       "      <td>2022-01-05 15:54:06.286</td>\n",
       "      <td>Cleveland Pl &amp; Spring St</td>\n",
       "      <td>5492.05</td>\n",
       "      <td>5 Ave &amp; E 29 St</td>\n",
       "      <td>6248.06</td>\n",
       "      <td>40.722104</td>\n",
       "      <td>-73.997249</td>\n",
       "      <td>40.745168</td>\n",
       "      <td>-73.986831</td>\n",
       "      <td>member</td>\n",
       "      <td>2022-01-05</td>\n",
       "      <td>3.2</td>\n",
       "      <td>both</td>\n",
       "    </tr>\n",
       "    <tr>\n",
       "      <th>6</th>\n",
       "      <td>DD92C2F27FF265D0</td>\n",
       "      <td>classic_bike</td>\n",
       "      <td>2022-01-25 16:48:07.593</td>\n",
       "      <td>2022-01-25 16:48:07.593</td>\n",
       "      <td>Cleveland Pl &amp; Spring St</td>\n",
       "      <td>5492.05</td>\n",
       "      <td>Allen St &amp; Rivington St</td>\n",
       "      <td>5414.06</td>\n",
       "      <td>40.722104</td>\n",
       "      <td>-73.997249</td>\n",
       "      <td>40.720196</td>\n",
       "      <td>-73.989978</td>\n",
       "      <td>member</td>\n",
       "      <td>2022-01-25</td>\n",
       "      <td>3.6</td>\n",
       "      <td>both</td>\n",
       "    </tr>\n",
       "    <tr>\n",
       "      <th>7</th>\n",
       "      <td>621225A86D88489F</td>\n",
       "      <td>electric_bike</td>\n",
       "      <td>2022-01-06 15:26:01.858</td>\n",
       "      <td>2022-01-06 15:26:01.858</td>\n",
       "      <td>6 Ave &amp; W 34 St</td>\n",
       "      <td>6364.10</td>\n",
       "      <td>Allen St &amp; Rivington St</td>\n",
       "      <td>5414.06</td>\n",
       "      <td>40.749640</td>\n",
       "      <td>-73.988050</td>\n",
       "      <td>40.720196</td>\n",
       "      <td>-73.989978</td>\n",
       "      <td>member</td>\n",
       "      <td>2022-01-06</td>\n",
       "      <td>4.9</td>\n",
       "      <td>both</td>\n",
       "    </tr>\n",
       "    <tr>\n",
       "      <th>8</th>\n",
       "      <td>F3D0C298E2EBC08A</td>\n",
       "      <td>classic_bike</td>\n",
       "      <td>2022-01-17 16:20:59.671</td>\n",
       "      <td>2022-01-17 16:20:59.671</td>\n",
       "      <td>6 Ave &amp; W 34 St</td>\n",
       "      <td>6364.10</td>\n",
       "      <td>5 Ave &amp; E 29 St</td>\n",
       "      <td>6248.06</td>\n",
       "      <td>40.749640</td>\n",
       "      <td>-73.988050</td>\n",
       "      <td>40.745168</td>\n",
       "      <td>-73.986831</td>\n",
       "      <td>member</td>\n",
       "      <td>2022-01-17</td>\n",
       "      <td>3.9</td>\n",
       "      <td>both</td>\n",
       "    </tr>\n",
       "    <tr>\n",
       "      <th>9</th>\n",
       "      <td>B54404E792CF854A</td>\n",
       "      <td>classic_bike</td>\n",
       "      <td>2022-01-10 18:01:58.560</td>\n",
       "      <td>2022-01-10 18:01:58.560</td>\n",
       "      <td>1 Ave &amp; E 44 St</td>\n",
       "      <td>6379.03</td>\n",
       "      <td>E 55 St &amp; 2 Ave</td>\n",
       "      <td>6650.07</td>\n",
       "      <td>40.750020</td>\n",
       "      <td>-73.969053</td>\n",
       "      <td>40.757973</td>\n",
       "      <td>-73.966033</td>\n",
       "      <td>member</td>\n",
       "      <td>2022-01-10</td>\n",
       "      <td>1.6</td>\n",
       "      <td>both</td>\n",
       "    </tr>\n",
       "  </tbody>\n",
       "</table>\n",
       "</div>"
      ],
      "text/plain": [
       "            ride_id  rideable_type              started_at  \\\n",
       "0  BFD29218AB271154  electric_bike 2022-01-21 13:22:31.463   \n",
       "1  7C953F2FD7BE1302   classic_bike 2022-01-10 11:41:43.422   \n",
       "2  95893ABD40CED4B8  electric_bike 2022-01-26 11:06:35.227   \n",
       "3  F853B50772137378   classic_bike 2022-01-03 09:10:50.475   \n",
       "4  7590ADF834797B4B   classic_bike 2022-01-22 14:34:57.474   \n",
       "5  F803F9593CEDBB39  electric_bike 2022-01-05 15:54:06.286   \n",
       "6  DD92C2F27FF265D0   classic_bike 2022-01-25 16:48:07.593   \n",
       "7  621225A86D88489F  electric_bike 2022-01-06 15:26:01.858   \n",
       "8  F3D0C298E2EBC08A   classic_bike 2022-01-17 16:20:59.671   \n",
       "9  B54404E792CF854A   classic_bike 2022-01-10 18:01:58.560   \n",
       "\n",
       "                  ended_at        start_station_name start_station_id  \\\n",
       "0  2022-01-21 13:22:31.463   West End Ave & W 107 St          7650.05   \n",
       "1  2022-01-10 11:41:43.422              4 Ave & 3 St          4028.04   \n",
       "2  2022-01-26 11:06:35.227           1 Ave & E 62 St          6753.08   \n",
       "3  2022-01-03 09:10:50.475           2 Ave & E 96 St          7338.02   \n",
       "4  2022-01-22 14:34:57.474           6 Ave & W 34 St          6364.10   \n",
       "5  2022-01-05 15:54:06.286  Cleveland Pl & Spring St          5492.05   \n",
       "6  2022-01-25 16:48:07.593  Cleveland Pl & Spring St          5492.05   \n",
       "7  2022-01-06 15:26:01.858           6 Ave & W 34 St          6364.10   \n",
       "8  2022-01-17 16:20:59.671           6 Ave & W 34 St          6364.10   \n",
       "9  2022-01-10 18:01:58.560           1 Ave & E 44 St          6379.03   \n",
       "\n",
       "              end_station_name end_station_id  start_lat  start_lng  \\\n",
       "0  Mt Morris Park W & W 120 St        7685.14  40.802117 -73.968181   \n",
       "1      Boerum Pl\\t& Pacific St        4488.09  40.673746 -73.985649   \n",
       "2              5 Ave & E 29 St        6248.06  40.761227 -73.960940   \n",
       "3              5 Ave & E 29 St        6248.06  40.783964 -73.947167   \n",
       "4              5 Ave & E 29 St        6248.06  40.749640 -73.988050   \n",
       "5              5 Ave & E 29 St        6248.06  40.722104 -73.997249   \n",
       "6      Allen St & Rivington St        5414.06  40.722104 -73.997249   \n",
       "7      Allen St & Rivington St        5414.06  40.749640 -73.988050   \n",
       "8              5 Ave & E 29 St        6248.06  40.749640 -73.988050   \n",
       "9              E 55 St & 2 Ave        6650.07  40.750020 -73.969053   \n",
       "\n",
       "     end_lat    end_lng member_casual       date  avgTemp _merge  \n",
       "0  40.804038 -73.945925        member 2022-01-21     -6.0   both  \n",
       "1  40.688489 -73.991160        member 2022-01-10      1.6   both  \n",
       "2  40.745168 -73.986831        member 2022-01-26     -2.3   both  \n",
       "3  40.745168 -73.986831        member 2022-01-03      1.4   both  \n",
       "4  40.745168 -73.986831        member 2022-01-22     -5.9   both  \n",
       "5  40.745168 -73.986831        member 2022-01-05      3.2   both  \n",
       "6  40.720196 -73.989978        member 2022-01-25      3.6   both  \n",
       "7  40.720196 -73.989978        member 2022-01-06      4.9   both  \n",
       "8  40.745168 -73.986831        member 2022-01-17      3.9   both  \n",
       "9  40.757973 -73.966033        member 2022-01-10      1.6   both  "
      ]
     },
     "execution_count": 123,
     "metadata": {},
     "output_type": "execute_result"
    }
   ],
   "source": [
    "df_merged.head(10)"
   ]
  },
  {
   "cell_type": "code",
   "execution_count": 125,
   "id": "8385afcd-d785-4b10-afbe-218f62e63bef",
   "metadata": {},
   "outputs": [
    {
     "data": {
      "text/plain": [
       "(29838806, 16)"
      ]
     },
     "execution_count": 125,
     "metadata": {},
     "output_type": "execute_result"
    }
   ],
   "source": [
    "df_merged.shape"
   ]
  },
  {
   "cell_type": "code",
   "execution_count": 127,
   "id": "0936f953-83d9-4ce4-af1b-b8144d471e62",
   "metadata": {},
   "outputs": [
    {
     "data": {
      "text/plain": [
       "_merge\n",
       "both          29838806\n",
       "left_only            0\n",
       "right_only           0\n",
       "Name: count, dtype: int64"
      ]
     },
     "execution_count": 127,
     "metadata": {},
     "output_type": "execute_result"
    }
   ],
   "source": [
    "df_merged['_merge'].value_counts(dropna = False)"
   ]
  },
  {
   "cell_type": "code",
   "execution_count": 129,
   "id": "e6d73a0a-ad18-4890-899e-c5c5248826b0",
   "metadata": {},
   "outputs": [],
   "source": [
    "df_merged.to_csv('NY_Citi_Bike_Weather_Data.csv')"
   ]
  },
  {
   "cell_type": "code",
   "execution_count": null,
   "id": "77eb920b-f7af-4046-8350-9bf6317f647e",
   "metadata": {},
   "outputs": [],
   "source": []
  }
 ],
 "metadata": {
  "kernelspec": {
   "display_name": "Python [conda env:env_citi_bike]",
   "language": "python",
   "name": "conda-env-env_citi_bike-py"
  },
  "language_info": {
   "codemirror_mode": {
    "name": "ipython",
    "version": 3
   },
   "file_extension": ".py",
   "mimetype": "text/x-python",
   "name": "python",
   "nbconvert_exporter": "python",
   "pygments_lexer": "ipython3",
   "version": "3.13.2"
  }
 },
 "nbformat": 4,
 "nbformat_minor": 5
}
