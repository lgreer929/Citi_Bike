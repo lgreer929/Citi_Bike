{
 "cells": [
  {
   "cell_type": "markdown",
   "id": "a52a330a-09a4-487f-9829-da3de1e18ec3",
   "metadata": {},
   "source": [
    "# Task 2.3 Visualization Fundamentals"
   ]
  },
  {
   "cell_type": "code",
   "execution_count": 1,
   "id": "a6d868ac-23f5-457c-adef-467fb0795ce6",
   "metadata": {},
   "outputs": [],
   "source": [
    "# import libraries\n",
    "import pandas as pd\n",
    "import matplotlib\n",
    "from matplotlib import pyplot as plt\n",
    "import numpy as np\n",
    "from datetime import datetime as dt"
   ]
  },
  {
   "cell_type": "code",
   "execution_count": 3,
   "id": "d78f64aa-a004-4147-aa65-b74a5d97d82d",
   "metadata": {},
   "outputs": [],
   "source": [
    "# import csv file\n",
    "dtype_mapping = {6: str, 8: str} # force columns as string data types\n",
    "df = pd.read_csv('NY_Citi_Bike_Weather_Data.csv', dtype=dtype_mapping, index_col=0)"
   ]
  },
  {
   "cell_type": "code",
   "execution_count": 7,
   "id": "39fc9869-5013-41f7-9c51-034fc820c2c4",
   "metadata": {
    "scrolled": true
   },
   "outputs": [
    {
     "data": {
      "text/plain": [
       "Index(['ride_id', 'rideable_type', 'started_at', 'ended_at',\n",
       "       'start_station_name', 'start_station_id', 'end_station_name',\n",
       "       'end_station_id', 'start_lat', 'start_lng', 'end_lat', 'end_lng',\n",
       "       'member_casual', 'date', 'avgTemp', '_merge'],\n",
       "      dtype='object')"
      ]
     },
     "execution_count": 7,
     "metadata": {},
     "output_type": "execute_result"
    }
   ],
   "source": [
    "df.columns"
   ]
  },
  {
   "cell_type": "code",
   "execution_count": 10,
   "id": "9dedee14-19c3-4dc7-b0e1-5a0a4c41e546",
   "metadata": {},
   "outputs": [],
   "source": [
    "# drop _merge column\n",
    "df.drop(columns = {'_merge'}, inplace = True)"
   ]
  },
  {
   "cell_type": "code",
   "execution_count": 14,
   "id": "50d1719d-2e5b-4816-84f8-71c21fb97967",
   "metadata": {},
   "outputs": [
    {
     "data": {
      "text/plain": [
       "(29838806, 15)"
      ]
     },
     "execution_count": 14,
     "metadata": {},
     "output_type": "execute_result"
    }
   ],
   "source": [
    "df.shape"
   ]
  },
  {
   "cell_type": "code",
   "execution_count": 16,
   "id": "fedd96cb-a510-4230-b0f5-1a230f180bef",
   "metadata": {},
   "outputs": [
    {
     "data": {
      "text/plain": [
       "ride_id                object\n",
       "rideable_type          object\n",
       "started_at             object\n",
       "ended_at               object\n",
       "start_station_name     object\n",
       "start_station_id       object\n",
       "end_station_name       object\n",
       "end_station_id         object\n",
       "start_lat             float64\n",
       "start_lng             float64\n",
       "end_lat               float64\n",
       "end_lng               float64\n",
       "member_casual          object\n",
       "date                   object\n",
       "avgTemp               float64\n",
       "dtype: object"
      ]
     },
     "execution_count": 16,
     "metadata": {},
     "output_type": "execute_result"
    }
   ],
   "source": [
    "df.dtypes"
   ]
  },
  {
   "cell_type": "code",
   "execution_count": 18,
   "id": "a5a49ab9-fdf2-46b3-ac47-9964b4c9e8b4",
   "metadata": {
    "scrolled": true
   },
   "outputs": [
    {
     "data": {
      "text/html": [
       "<div>\n",
       "<style scoped>\n",
       "    .dataframe tbody tr th:only-of-type {\n",
       "        vertical-align: middle;\n",
       "    }\n",
       "\n",
       "    .dataframe tbody tr th {\n",
       "        vertical-align: top;\n",
       "    }\n",
       "\n",
       "    .dataframe thead th {\n",
       "        text-align: right;\n",
       "    }\n",
       "</style>\n",
       "<table border=\"1\" class=\"dataframe\">\n",
       "  <thead>\n",
       "    <tr style=\"text-align: right;\">\n",
       "      <th></th>\n",
       "      <th>ride_id</th>\n",
       "      <th>rideable_type</th>\n",
       "      <th>started_at</th>\n",
       "      <th>ended_at</th>\n",
       "      <th>start_station_name</th>\n",
       "      <th>start_station_id</th>\n",
       "      <th>end_station_name</th>\n",
       "      <th>end_station_id</th>\n",
       "      <th>start_lat</th>\n",
       "      <th>start_lng</th>\n",
       "      <th>end_lat</th>\n",
       "      <th>end_lng</th>\n",
       "      <th>member_casual</th>\n",
       "      <th>date</th>\n",
       "      <th>avgTemp</th>\n",
       "    </tr>\n",
       "  </thead>\n",
       "  <tbody>\n",
       "    <tr>\n",
       "      <th>0</th>\n",
       "      <td>BFD29218AB271154</td>\n",
       "      <td>electric_bike</td>\n",
       "      <td>2022-01-21 13:22:31.463</td>\n",
       "      <td>2022-01-21 13:22:31.463</td>\n",
       "      <td>West End Ave &amp; W 107 St</td>\n",
       "      <td>7650.05</td>\n",
       "      <td>Mt Morris Park W &amp; W 120 St</td>\n",
       "      <td>7685.14</td>\n",
       "      <td>40.802117</td>\n",
       "      <td>-73.968181</td>\n",
       "      <td>40.804038</td>\n",
       "      <td>-73.945925</td>\n",
       "      <td>member</td>\n",
       "      <td>2022-01-21</td>\n",
       "      <td>-6.0</td>\n",
       "    </tr>\n",
       "    <tr>\n",
       "      <th>1</th>\n",
       "      <td>7C953F2FD7BE1302</td>\n",
       "      <td>classic_bike</td>\n",
       "      <td>2022-01-10 11:41:43.422</td>\n",
       "      <td>2022-01-10 11:41:43.422</td>\n",
       "      <td>4 Ave &amp; 3 St</td>\n",
       "      <td>4028.04</td>\n",
       "      <td>Boerum Pl\\t&amp; Pacific St</td>\n",
       "      <td>4488.09</td>\n",
       "      <td>40.673746</td>\n",
       "      <td>-73.985649</td>\n",
       "      <td>40.688489</td>\n",
       "      <td>-73.991160</td>\n",
       "      <td>member</td>\n",
       "      <td>2022-01-10</td>\n",
       "      <td>1.6</td>\n",
       "    </tr>\n",
       "    <tr>\n",
       "      <th>2</th>\n",
       "      <td>95893ABD40CED4B8</td>\n",
       "      <td>electric_bike</td>\n",
       "      <td>2022-01-26 11:06:35.227</td>\n",
       "      <td>2022-01-26 11:06:35.227</td>\n",
       "      <td>1 Ave &amp; E 62 St</td>\n",
       "      <td>6753.08</td>\n",
       "      <td>5 Ave &amp; E 29 St</td>\n",
       "      <td>6248.06</td>\n",
       "      <td>40.761227</td>\n",
       "      <td>-73.960940</td>\n",
       "      <td>40.745168</td>\n",
       "      <td>-73.986831</td>\n",
       "      <td>member</td>\n",
       "      <td>2022-01-26</td>\n",
       "      <td>-2.3</td>\n",
       "    </tr>\n",
       "    <tr>\n",
       "      <th>3</th>\n",
       "      <td>F853B50772137378</td>\n",
       "      <td>classic_bike</td>\n",
       "      <td>2022-01-03 09:10:50.475</td>\n",
       "      <td>2022-01-03 09:10:50.475</td>\n",
       "      <td>2 Ave &amp; E 96 St</td>\n",
       "      <td>7338.02</td>\n",
       "      <td>5 Ave &amp; E 29 St</td>\n",
       "      <td>6248.06</td>\n",
       "      <td>40.783964</td>\n",
       "      <td>-73.947167</td>\n",
       "      <td>40.745168</td>\n",
       "      <td>-73.986831</td>\n",
       "      <td>member</td>\n",
       "      <td>2022-01-03</td>\n",
       "      <td>1.4</td>\n",
       "    </tr>\n",
       "    <tr>\n",
       "      <th>4</th>\n",
       "      <td>7590ADF834797B4B</td>\n",
       "      <td>classic_bike</td>\n",
       "      <td>2022-01-22 14:34:57.474</td>\n",
       "      <td>2022-01-22 14:34:57.474</td>\n",
       "      <td>6 Ave &amp; W 34 St</td>\n",
       "      <td>6364.10</td>\n",
       "      <td>5 Ave &amp; E 29 St</td>\n",
       "      <td>6248.06</td>\n",
       "      <td>40.749640</td>\n",
       "      <td>-73.988050</td>\n",
       "      <td>40.745168</td>\n",
       "      <td>-73.986831</td>\n",
       "      <td>member</td>\n",
       "      <td>2022-01-22</td>\n",
       "      <td>-5.9</td>\n",
       "    </tr>\n",
       "  </tbody>\n",
       "</table>\n",
       "</div>"
      ],
      "text/plain": [
       "            ride_id  rideable_type               started_at  \\\n",
       "0  BFD29218AB271154  electric_bike  2022-01-21 13:22:31.463   \n",
       "1  7C953F2FD7BE1302   classic_bike  2022-01-10 11:41:43.422   \n",
       "2  95893ABD40CED4B8  electric_bike  2022-01-26 11:06:35.227   \n",
       "3  F853B50772137378   classic_bike  2022-01-03 09:10:50.475   \n",
       "4  7590ADF834797B4B   classic_bike  2022-01-22 14:34:57.474   \n",
       "\n",
       "                  ended_at       start_station_name start_station_id  \\\n",
       "0  2022-01-21 13:22:31.463  West End Ave & W 107 St          7650.05   \n",
       "1  2022-01-10 11:41:43.422             4 Ave & 3 St          4028.04   \n",
       "2  2022-01-26 11:06:35.227          1 Ave & E 62 St          6753.08   \n",
       "3  2022-01-03 09:10:50.475          2 Ave & E 96 St          7338.02   \n",
       "4  2022-01-22 14:34:57.474          6 Ave & W 34 St          6364.10   \n",
       "\n",
       "              end_station_name end_station_id  start_lat  start_lng  \\\n",
       "0  Mt Morris Park W & W 120 St        7685.14  40.802117 -73.968181   \n",
       "1      Boerum Pl\\t& Pacific St        4488.09  40.673746 -73.985649   \n",
       "2              5 Ave & E 29 St        6248.06  40.761227 -73.960940   \n",
       "3              5 Ave & E 29 St        6248.06  40.783964 -73.947167   \n",
       "4              5 Ave & E 29 St        6248.06  40.749640 -73.988050   \n",
       "\n",
       "     end_lat    end_lng member_casual        date  avgTemp  \n",
       "0  40.804038 -73.945925        member  2022-01-21     -6.0  \n",
       "1  40.688489 -73.991160        member  2022-01-10      1.6  \n",
       "2  40.745168 -73.986831        member  2022-01-26     -2.3  \n",
       "3  40.745168 -73.986831        member  2022-01-03      1.4  \n",
       "4  40.745168 -73.986831        member  2022-01-22     -5.9  "
      ]
     },
     "execution_count": 18,
     "metadata": {},
     "output_type": "execute_result"
    }
   ],
   "source": [
    "df.head()"
   ]
  },
  {
   "cell_type": "code",
   "execution_count": 21,
   "id": "70400299-1ab0-4c8d-9843-cb0e95339fdc",
   "metadata": {},
   "outputs": [],
   "source": [
    "df['date'] = pd.to_datetime(df['date'])"
   ]
  },
  {
   "cell_type": "code",
   "execution_count": 80,
   "id": "bcddc1d1-eaa2-455f-8f60-3a6edc6870c0",
   "metadata": {},
   "outputs": [
    {
     "ename": "MemoryError",
     "evalue": "Unable to allocate 2.00 GiB for an array with shape (9, 29838806) and data type object",
     "output_type": "error",
     "traceback": [
      "\u001b[31m---------------------------------------------------------------------------\u001b[39m",
      "\u001b[31mMemoryError\u001b[39m                               Traceback (most recent call last)",
      "\u001b[36mCell\u001b[39m\u001b[36m \u001b[39m\u001b[32mIn[80]\u001b[39m\u001b[32m, line 3\u001b[39m\n\u001b[32m      1\u001b[39m \u001b[38;5;66;03m# ran into too many errors and need a smaller data set\u001b[39;00m\n\u001b[32m      2\u001b[39m \u001b[38;5;66;03m# sample 10% of rows from each date\u001b[39;00m\n\u001b[32m----> \u001b[39m\u001b[32m3\u001b[39m df_sample = \u001b[43mdf\u001b[49m\u001b[43m.\u001b[49m\u001b[43mgroupby\u001b[49m\u001b[43m(\u001b[49m\u001b[33;43m'\u001b[39;49m\u001b[33;43mdate\u001b[39;49m\u001b[33;43m'\u001b[39;49m\u001b[43m,\u001b[49m\u001b[43m \u001b[49m\u001b[43mgroup_keys\u001b[49m\u001b[43m=\u001b[49m\u001b[38;5;28;43;01mFalse\u001b[39;49;00m\u001b[43m)\u001b[49m\u001b[43m.\u001b[49m\u001b[43mapply\u001b[49m\u001b[43m(\u001b[49m\u001b[38;5;28;43;01mlambda\u001b[39;49;00m\u001b[43m \u001b[49m\u001b[43mx\u001b[49m\u001b[43m:\u001b[49m\u001b[43m \u001b[49m\u001b[43mx\u001b[49m\u001b[43m.\u001b[49m\u001b[43msample\u001b[49m\u001b[43m(\u001b[49m\u001b[43mfrac\u001b[49m\u001b[43m=\u001b[49m\u001b[32;43m0.05\u001b[39;49m\u001b[43m,\u001b[49m\u001b[43m \u001b[49m\u001b[43mrandom_state\u001b[49m\u001b[43m=\u001b[49m\u001b[32;43m42\u001b[39;49m\u001b[43m)\u001b[49m\u001b[43m)\u001b[49m\n",
      "\u001b[36mFile \u001b[39m\u001b[32m~\\anaconda3\\envs\\env_citi_bike\\Lib\\site-packages\\pandas\\core\\groupby\\groupby.py:1824\u001b[39m, in \u001b[36mGroupBy.apply\u001b[39m\u001b[34m(self, func, include_groups, *args, **kwargs)\u001b[39m\n\u001b[32m   1822\u001b[39m \u001b[38;5;28;01mwith\u001b[39;00m option_context(\u001b[33m\"\u001b[39m\u001b[33mmode.chained_assignment\u001b[39m\u001b[33m\"\u001b[39m, \u001b[38;5;28;01mNone\u001b[39;00m):\n\u001b[32m   1823\u001b[39m     \u001b[38;5;28;01mtry\u001b[39;00m:\n\u001b[32m-> \u001b[39m\u001b[32m1824\u001b[39m         result = \u001b[38;5;28;43mself\u001b[39;49m\u001b[43m.\u001b[49m\u001b[43m_python_apply_general\u001b[49m\u001b[43m(\u001b[49m\u001b[43mf\u001b[49m\u001b[43m,\u001b[49m\u001b[43m \u001b[49m\u001b[38;5;28;43mself\u001b[39;49m\u001b[43m.\u001b[49m\u001b[43m_selected_obj\u001b[49m\u001b[43m)\u001b[49m\n\u001b[32m   1825\u001b[39m         \u001b[38;5;28;01mif\u001b[39;00m (\n\u001b[32m   1826\u001b[39m             \u001b[38;5;129;01mnot\u001b[39;00m \u001b[38;5;28misinstance\u001b[39m(\u001b[38;5;28mself\u001b[39m.obj, Series)\n\u001b[32m   1827\u001b[39m             \u001b[38;5;129;01mand\u001b[39;00m \u001b[38;5;28mself\u001b[39m._selection \u001b[38;5;129;01mis\u001b[39;00m \u001b[38;5;28;01mNone\u001b[39;00m\n\u001b[32m   1828\u001b[39m             \u001b[38;5;129;01mand\u001b[39;00m \u001b[38;5;28mself\u001b[39m._selected_obj.shape != \u001b[38;5;28mself\u001b[39m._obj_with_exclusions.shape\n\u001b[32m   1829\u001b[39m         ):\n\u001b[32m   1830\u001b[39m             warnings.warn(\n\u001b[32m   1831\u001b[39m                 message=_apply_groupings_depr.format(\n\u001b[32m   1832\u001b[39m                     \u001b[38;5;28mtype\u001b[39m(\u001b[38;5;28mself\u001b[39m).\u001b[34m__name__\u001b[39m, \u001b[33m\"\u001b[39m\u001b[33mapply\u001b[39m\u001b[33m\"\u001b[39m\n\u001b[32m   (...)\u001b[39m\u001b[32m   1835\u001b[39m                 stacklevel=find_stack_level(),\n\u001b[32m   1836\u001b[39m             )\n",
      "\u001b[36mFile \u001b[39m\u001b[32m~\\anaconda3\\envs\\env_citi_bike\\Lib\\site-packages\\pandas\\core\\groupby\\groupby.py:1885\u001b[39m, in \u001b[36mGroupBy._python_apply_general\u001b[39m\u001b[34m(self, f, data, not_indexed_same, is_transform, is_agg)\u001b[39m\n\u001b[32m   1850\u001b[39m \u001b[38;5;129m@final\u001b[39m\n\u001b[32m   1851\u001b[39m \u001b[38;5;28;01mdef\u001b[39;00m\u001b[38;5;250m \u001b[39m\u001b[34m_python_apply_general\u001b[39m(\n\u001b[32m   1852\u001b[39m     \u001b[38;5;28mself\u001b[39m,\n\u001b[32m   (...)\u001b[39m\u001b[32m   1857\u001b[39m     is_agg: \u001b[38;5;28mbool\u001b[39m = \u001b[38;5;28;01mFalse\u001b[39;00m,\n\u001b[32m   1858\u001b[39m ) -> NDFrameT:\n\u001b[32m   1859\u001b[39m \u001b[38;5;250m    \u001b[39m\u001b[33;03m\"\"\"\u001b[39;00m\n\u001b[32m   1860\u001b[39m \u001b[33;03m    Apply function f in python space\u001b[39;00m\n\u001b[32m   1861\u001b[39m \n\u001b[32m   (...)\u001b[39m\u001b[32m   1883\u001b[39m \u001b[33;03m        data after applying f\u001b[39;00m\n\u001b[32m   1884\u001b[39m \u001b[33;03m    \"\"\"\u001b[39;00m\n\u001b[32m-> \u001b[39m\u001b[32m1885\u001b[39m     values, mutated = \u001b[38;5;28;43mself\u001b[39;49m\u001b[43m.\u001b[49m\u001b[43m_grouper\u001b[49m\u001b[43m.\u001b[49m\u001b[43mapply_groupwise\u001b[49m\u001b[43m(\u001b[49m\u001b[43mf\u001b[49m\u001b[43m,\u001b[49m\u001b[43m \u001b[49m\u001b[43mdata\u001b[49m\u001b[43m,\u001b[49m\u001b[43m \u001b[49m\u001b[38;5;28;43mself\u001b[39;49m\u001b[43m.\u001b[49m\u001b[43maxis\u001b[49m\u001b[43m)\u001b[49m\n\u001b[32m   1886\u001b[39m     \u001b[38;5;28;01mif\u001b[39;00m not_indexed_same \u001b[38;5;129;01mis\u001b[39;00m \u001b[38;5;28;01mNone\u001b[39;00m:\n\u001b[32m   1887\u001b[39m         not_indexed_same = mutated\n",
      "\u001b[36mFile \u001b[39m\u001b[32m~\\anaconda3\\envs\\env_citi_bike\\Lib\\site-packages\\pandas\\core\\groupby\\ops.py:909\u001b[39m, in \u001b[36mBaseGrouper.apply_groupwise\u001b[39m\u001b[34m(self, f, data, axis)\u001b[39m\n\u001b[32m    906\u001b[39m \u001b[38;5;66;03m# This calls DataSplitter.__iter__\u001b[39;00m\n\u001b[32m    907\u001b[39m zipped = \u001b[38;5;28mzip\u001b[39m(group_keys, splitter)\n\u001b[32m--> \u001b[39m\u001b[32m909\u001b[39m \u001b[43m\u001b[49m\u001b[38;5;28;43;01mfor\u001b[39;49;00m\u001b[43m \u001b[49m\u001b[43mkey\u001b[49m\u001b[43m,\u001b[49m\u001b[43m \u001b[49m\u001b[43mgroup\u001b[49m\u001b[43m \u001b[49m\u001b[38;5;129;43;01min\u001b[39;49;00m\u001b[43m \u001b[49m\u001b[43mzipped\u001b[49m\u001b[43m:\u001b[49m\n\u001b[32m    910\u001b[39m \u001b[43m    \u001b[49m\u001b[38;5;66;43;03m# Pinning name is needed for\u001b[39;49;00m\n\u001b[32m    911\u001b[39m \u001b[43m    \u001b[49m\u001b[38;5;66;43;03m#  test_group_apply_once_per_group,\u001b[39;49;00m\n\u001b[32m    912\u001b[39m \u001b[43m    \u001b[49m\u001b[38;5;66;43;03m#  test_inconsistent_return_type, test_set_group_name,\u001b[39;49;00m\n\u001b[32m    913\u001b[39m \u001b[43m    \u001b[49m\u001b[38;5;66;43;03m#  test_group_name_available_in_inference_pass,\u001b[39;49;00m\n\u001b[32m    914\u001b[39m \u001b[43m    \u001b[49m\u001b[38;5;66;43;03m#  test_groupby_multi_timezone\u001b[39;49;00m\n\u001b[32m    915\u001b[39m \u001b[43m    \u001b[49m\u001b[38;5;28;43mobject\u001b[39;49m\u001b[43m.\u001b[49m\u001b[34;43m__setattr__\u001b[39;49m\u001b[43m(\u001b[49m\u001b[43mgroup\u001b[49m\u001b[43m,\u001b[49m\u001b[43m \u001b[49m\u001b[33;43m\"\u001b[39;49m\u001b[33;43mname\u001b[39;49m\u001b[33;43m\"\u001b[39;49m\u001b[43m,\u001b[49m\u001b[43m \u001b[49m\u001b[43mkey\u001b[49m\u001b[43m)\u001b[49m\n\u001b[32m    917\u001b[39m \u001b[43m    \u001b[49m\u001b[38;5;66;43;03m# group might be modified\u001b[39;49;00m\n",
      "\u001b[36mFile \u001b[39m\u001b[32m~\\anaconda3\\envs\\env_citi_bike\\Lib\\site-packages\\pandas\\core\\groupby\\ops.py:1150\u001b[39m, in \u001b[36mDataSplitter.__iter__\u001b[39m\u001b[34m(self)\u001b[39m\n\u001b[32m   1149\u001b[39m \u001b[38;5;28;01mdef\u001b[39;00m\u001b[38;5;250m \u001b[39m\u001b[34m__iter__\u001b[39m(\u001b[38;5;28mself\u001b[39m) -> Iterator:\n\u001b[32m-> \u001b[39m\u001b[32m1150\u001b[39m     sdata = \u001b[38;5;28;43mself\u001b[39;49m\u001b[43m.\u001b[49m\u001b[43m_sorted_data\u001b[49m\n\u001b[32m   1152\u001b[39m     \u001b[38;5;28;01mif\u001b[39;00m \u001b[38;5;28mself\u001b[39m.ngroups == \u001b[32m0\u001b[39m:\n\u001b[32m   1153\u001b[39m         \u001b[38;5;66;03m# we are inside a generator, rather than raise StopIteration\u001b[39;00m\n\u001b[32m   1154\u001b[39m         \u001b[38;5;66;03m# we merely return signal the end\u001b[39;00m\n\u001b[32m   1155\u001b[39m         \u001b[38;5;28;01mreturn\u001b[39;00m\n",
      "\u001b[36mFile \u001b[39m\u001b[32mproperties.pyx:36\u001b[39m, in \u001b[36mpandas._libs.properties.CachedProperty.__get__\u001b[39m\u001b[34m()\u001b[39m\n",
      "\u001b[36mFile \u001b[39m\u001b[32m~\\anaconda3\\envs\\env_citi_bike\\Lib\\site-packages\\pandas\\core\\groupby\\ops.py:1164\u001b[39m, in \u001b[36mDataSplitter._sorted_data\u001b[39m\u001b[34m(self)\u001b[39m\n\u001b[32m   1162\u001b[39m \u001b[38;5;129m@cache_readonly\u001b[39m\n\u001b[32m   1163\u001b[39m \u001b[38;5;28;01mdef\u001b[39;00m\u001b[38;5;250m \u001b[39m\u001b[34m_sorted_data\u001b[39m(\u001b[38;5;28mself\u001b[39m) -> NDFrameT:\n\u001b[32m-> \u001b[39m\u001b[32m1164\u001b[39m     \u001b[38;5;28;01mreturn\u001b[39;00m \u001b[38;5;28;43mself\u001b[39;49m\u001b[43m.\u001b[49m\u001b[43mdata\u001b[49m\u001b[43m.\u001b[49m\u001b[43mtake\u001b[49m\u001b[43m(\u001b[49m\u001b[38;5;28;43mself\u001b[39;49m\u001b[43m.\u001b[49m\u001b[43m_sort_idx\u001b[49m\u001b[43m,\u001b[49m\u001b[43m \u001b[49m\u001b[43maxis\u001b[49m\u001b[43m=\u001b[49m\u001b[38;5;28;43mself\u001b[39;49m\u001b[43m.\u001b[49m\u001b[43maxis\u001b[49m\u001b[43m)\u001b[49m\n",
      "\u001b[36mFile \u001b[39m\u001b[32m~\\anaconda3\\envs\\env_citi_bike\\Lib\\site-packages\\pandas\\core\\generic.py:4133\u001b[39m, in \u001b[36mNDFrame.take\u001b[39m\u001b[34m(self, indices, axis, **kwargs)\u001b[39m\n\u001b[32m   4128\u001b[39m     \u001b[38;5;66;03m# We can get here with a slice via DataFrame.__getitem__\u001b[39;00m\n\u001b[32m   4129\u001b[39m     indices = np.arange(\n\u001b[32m   4130\u001b[39m         indices.start, indices.stop, indices.step, dtype=np.intp\n\u001b[32m   4131\u001b[39m     )\n\u001b[32m-> \u001b[39m\u001b[32m4133\u001b[39m new_data = \u001b[38;5;28;43mself\u001b[39;49m\u001b[43m.\u001b[49m\u001b[43m_mgr\u001b[49m\u001b[43m.\u001b[49m\u001b[43mtake\u001b[49m\u001b[43m(\u001b[49m\n\u001b[32m   4134\u001b[39m \u001b[43m    \u001b[49m\u001b[43mindices\u001b[49m\u001b[43m,\u001b[49m\n\u001b[32m   4135\u001b[39m \u001b[43m    \u001b[49m\u001b[43maxis\u001b[49m\u001b[43m=\u001b[49m\u001b[38;5;28;43mself\u001b[39;49m\u001b[43m.\u001b[49m\u001b[43m_get_block_manager_axis\u001b[49m\u001b[43m(\u001b[49m\u001b[43maxis\u001b[49m\u001b[43m)\u001b[49m\u001b[43m,\u001b[49m\n\u001b[32m   4136\u001b[39m \u001b[43m    \u001b[49m\u001b[43mverify\u001b[49m\u001b[43m=\u001b[49m\u001b[38;5;28;43;01mTrue\u001b[39;49;00m\u001b[43m,\u001b[49m\n\u001b[32m   4137\u001b[39m \u001b[43m\u001b[49m\u001b[43m)\u001b[49m\n\u001b[32m   4138\u001b[39m \u001b[38;5;28;01mreturn\u001b[39;00m \u001b[38;5;28mself\u001b[39m._constructor_from_mgr(new_data, axes=new_data.axes).__finalize__(\n\u001b[32m   4139\u001b[39m     \u001b[38;5;28mself\u001b[39m, method=\u001b[33m\"\u001b[39m\u001b[33mtake\u001b[39m\u001b[33m\"\u001b[39m\n\u001b[32m   4140\u001b[39m )\n",
      "\u001b[36mFile \u001b[39m\u001b[32m~\\anaconda3\\envs\\env_citi_bike\\Lib\\site-packages\\pandas\\core\\internals\\managers.py:894\u001b[39m, in \u001b[36mBaseBlockManager.take\u001b[39m\u001b[34m(self, indexer, axis, verify)\u001b[39m\n\u001b[32m    891\u001b[39m indexer = maybe_convert_indices(indexer, n, verify=verify)\n\u001b[32m    893\u001b[39m new_labels = \u001b[38;5;28mself\u001b[39m.axes[axis].take(indexer)\n\u001b[32m--> \u001b[39m\u001b[32m894\u001b[39m \u001b[38;5;28;01mreturn\u001b[39;00m \u001b[38;5;28;43mself\u001b[39;49m\u001b[43m.\u001b[49m\u001b[43mreindex_indexer\u001b[49m\u001b[43m(\u001b[49m\n\u001b[32m    895\u001b[39m \u001b[43m    \u001b[49m\u001b[43mnew_axis\u001b[49m\u001b[43m=\u001b[49m\u001b[43mnew_labels\u001b[49m\u001b[43m,\u001b[49m\n\u001b[32m    896\u001b[39m \u001b[43m    \u001b[49m\u001b[43mindexer\u001b[49m\u001b[43m=\u001b[49m\u001b[43mindexer\u001b[49m\u001b[43m,\u001b[49m\n\u001b[32m    897\u001b[39m \u001b[43m    \u001b[49m\u001b[43maxis\u001b[49m\u001b[43m=\u001b[49m\u001b[43maxis\u001b[49m\u001b[43m,\u001b[49m\n\u001b[32m    898\u001b[39m \u001b[43m    \u001b[49m\u001b[43mallow_dups\u001b[49m\u001b[43m=\u001b[49m\u001b[38;5;28;43;01mTrue\u001b[39;49;00m\u001b[43m,\u001b[49m\n\u001b[32m    899\u001b[39m \u001b[43m    \u001b[49m\u001b[43mcopy\u001b[49m\u001b[43m=\u001b[49m\u001b[38;5;28;43;01mNone\u001b[39;49;00m\u001b[43m,\u001b[49m\n\u001b[32m    900\u001b[39m \u001b[43m\u001b[49m\u001b[43m)\u001b[49m\n",
      "\u001b[36mFile \u001b[39m\u001b[32m~\\anaconda3\\envs\\env_citi_bike\\Lib\\site-packages\\pandas\\core\\internals\\managers.py:688\u001b[39m, in \u001b[36mBaseBlockManager.reindex_indexer\u001b[39m\u001b[34m(self, new_axis, indexer, axis, fill_value, allow_dups, copy, only_slice, use_na_proxy)\u001b[39m\n\u001b[32m    680\u001b[39m     new_blocks = \u001b[38;5;28mself\u001b[39m._slice_take_blocks_ax0(\n\u001b[32m    681\u001b[39m         indexer,\n\u001b[32m    682\u001b[39m         fill_value=fill_value,\n\u001b[32m    683\u001b[39m         only_slice=only_slice,\n\u001b[32m    684\u001b[39m         use_na_proxy=use_na_proxy,\n\u001b[32m    685\u001b[39m     )\n\u001b[32m    686\u001b[39m \u001b[38;5;28;01melse\u001b[39;00m:\n\u001b[32m    687\u001b[39m     new_blocks = [\n\u001b[32m--> \u001b[39m\u001b[32m688\u001b[39m         \u001b[43mblk\u001b[49m\u001b[43m.\u001b[49m\u001b[43mtake_nd\u001b[49m\u001b[43m(\u001b[49m\n\u001b[32m    689\u001b[39m \u001b[43m            \u001b[49m\u001b[43mindexer\u001b[49m\u001b[43m,\u001b[49m\n\u001b[32m    690\u001b[39m \u001b[43m            \u001b[49m\u001b[43maxis\u001b[49m\u001b[43m=\u001b[49m\u001b[32;43m1\u001b[39;49m\u001b[43m,\u001b[49m\n\u001b[32m    691\u001b[39m \u001b[43m            \u001b[49m\u001b[43mfill_value\u001b[49m\u001b[43m=\u001b[49m\u001b[43m(\u001b[49m\n\u001b[32m    692\u001b[39m \u001b[43m                \u001b[49m\u001b[43mfill_value\u001b[49m\u001b[43m \u001b[49m\u001b[38;5;28;43;01mif\u001b[39;49;00m\u001b[43m \u001b[49m\u001b[43mfill_value\u001b[49m\u001b[43m \u001b[49m\u001b[38;5;129;43;01mis\u001b[39;49;00m\u001b[43m \u001b[49m\u001b[38;5;129;43;01mnot\u001b[39;49;00m\u001b[43m \u001b[49m\u001b[38;5;28;43;01mNone\u001b[39;49;00m\u001b[43m \u001b[49m\u001b[38;5;28;43;01melse\u001b[39;49;00m\u001b[43m \u001b[49m\u001b[43mblk\u001b[49m\u001b[43m.\u001b[49m\u001b[43mfill_value\u001b[49m\n\u001b[32m    693\u001b[39m \u001b[43m            \u001b[49m\u001b[43m)\u001b[49m\u001b[43m,\u001b[49m\n\u001b[32m    694\u001b[39m \u001b[43m        \u001b[49m\u001b[43m)\u001b[49m\n\u001b[32m    695\u001b[39m         \u001b[38;5;28;01mfor\u001b[39;00m blk \u001b[38;5;129;01min\u001b[39;00m \u001b[38;5;28mself\u001b[39m.blocks\n\u001b[32m    696\u001b[39m     ]\n\u001b[32m    698\u001b[39m new_axes = \u001b[38;5;28mlist\u001b[39m(\u001b[38;5;28mself\u001b[39m.axes)\n\u001b[32m    699\u001b[39m new_axes[axis] = new_axis\n",
      "\u001b[36mFile \u001b[39m\u001b[32m~\\anaconda3\\envs\\env_citi_bike\\Lib\\site-packages\\pandas\\core\\internals\\blocks.py:1307\u001b[39m, in \u001b[36mBlock.take_nd\u001b[39m\u001b[34m(self, indexer, axis, new_mgr_locs, fill_value)\u001b[39m\n\u001b[32m   1304\u001b[39m     allow_fill = \u001b[38;5;28;01mTrue\u001b[39;00m\n\u001b[32m   1306\u001b[39m \u001b[38;5;66;03m# Note: algos.take_nd has upcast logic similar to coerce_to_target_dtype\u001b[39;00m\n\u001b[32m-> \u001b[39m\u001b[32m1307\u001b[39m new_values = \u001b[43malgos\u001b[49m\u001b[43m.\u001b[49m\u001b[43mtake_nd\u001b[49m\u001b[43m(\u001b[49m\n\u001b[32m   1308\u001b[39m \u001b[43m    \u001b[49m\u001b[43mvalues\u001b[49m\u001b[43m,\u001b[49m\u001b[43m \u001b[49m\u001b[43mindexer\u001b[49m\u001b[43m,\u001b[49m\u001b[43m \u001b[49m\u001b[43maxis\u001b[49m\u001b[43m=\u001b[49m\u001b[43maxis\u001b[49m\u001b[43m,\u001b[49m\u001b[43m \u001b[49m\u001b[43mallow_fill\u001b[49m\u001b[43m=\u001b[49m\u001b[43mallow_fill\u001b[49m\u001b[43m,\u001b[49m\u001b[43m \u001b[49m\u001b[43mfill_value\u001b[49m\u001b[43m=\u001b[49m\u001b[43mfill_value\u001b[49m\n\u001b[32m   1309\u001b[39m \u001b[43m\u001b[49m\u001b[43m)\u001b[49m\n\u001b[32m   1311\u001b[39m \u001b[38;5;66;03m# Called from three places in managers, all of which satisfy\u001b[39;00m\n\u001b[32m   1312\u001b[39m \u001b[38;5;66;03m#  these assertions\u001b[39;00m\n\u001b[32m   1313\u001b[39m \u001b[38;5;28;01mif\u001b[39;00m \u001b[38;5;28misinstance\u001b[39m(\u001b[38;5;28mself\u001b[39m, ExtensionBlock):\n\u001b[32m   1314\u001b[39m     \u001b[38;5;66;03m# NB: in this case, the 'axis' kwarg will be ignored in the\u001b[39;00m\n\u001b[32m   1315\u001b[39m     \u001b[38;5;66;03m#  algos.take_nd call above.\u001b[39;00m\n",
      "\u001b[36mFile \u001b[39m\u001b[32m~\\anaconda3\\envs\\env_citi_bike\\Lib\\site-packages\\pandas\\core\\array_algos\\take.py:117\u001b[39m, in \u001b[36mtake_nd\u001b[39m\u001b[34m(arr, indexer, axis, fill_value, allow_fill)\u001b[39m\n\u001b[32m    114\u001b[39m     \u001b[38;5;28;01mreturn\u001b[39;00m arr.take(indexer, fill_value=fill_value, allow_fill=allow_fill)\n\u001b[32m    116\u001b[39m arr = np.asarray(arr)\n\u001b[32m--> \u001b[39m\u001b[32m117\u001b[39m \u001b[38;5;28;01mreturn\u001b[39;00m \u001b[43m_take_nd_ndarray\u001b[49m\u001b[43m(\u001b[49m\u001b[43marr\u001b[49m\u001b[43m,\u001b[49m\u001b[43m \u001b[49m\u001b[43mindexer\u001b[49m\u001b[43m,\u001b[49m\u001b[43m \u001b[49m\u001b[43maxis\u001b[49m\u001b[43m,\u001b[49m\u001b[43m \u001b[49m\u001b[43mfill_value\u001b[49m\u001b[43m,\u001b[49m\u001b[43m \u001b[49m\u001b[43mallow_fill\u001b[49m\u001b[43m)\u001b[49m\n",
      "\u001b[36mFile \u001b[39m\u001b[32m~\\anaconda3\\envs\\env_citi_bike\\Lib\\site-packages\\pandas\\core\\array_algos\\take.py:157\u001b[39m, in \u001b[36m_take_nd_ndarray\u001b[39m\u001b[34m(arr, indexer, axis, fill_value, allow_fill)\u001b[39m\n\u001b[32m    155\u001b[39m     out = np.empty(out_shape, dtype=dtype, order=\u001b[33m\"\u001b[39m\u001b[33mF\u001b[39m\u001b[33m\"\u001b[39m)\n\u001b[32m    156\u001b[39m \u001b[38;5;28;01melse\u001b[39;00m:\n\u001b[32m--> \u001b[39m\u001b[32m157\u001b[39m     out = \u001b[43mnp\u001b[49m\u001b[43m.\u001b[49m\u001b[43mempty\u001b[49m\u001b[43m(\u001b[49m\u001b[43mout_shape\u001b[49m\u001b[43m,\u001b[49m\u001b[43m \u001b[49m\u001b[43mdtype\u001b[49m\u001b[43m=\u001b[49m\u001b[43mdtype\u001b[49m\u001b[43m)\u001b[49m\n\u001b[32m    159\u001b[39m func = _get_take_nd_function(\n\u001b[32m    160\u001b[39m     arr.ndim, arr.dtype, out.dtype, axis=axis, mask_info=mask_info\n\u001b[32m    161\u001b[39m )\n\u001b[32m    162\u001b[39m func(arr, indexer, out, fill_value)\n",
      "\u001b[31mMemoryError\u001b[39m: Unable to allocate 2.00 GiB for an array with shape (9, 29838806) and data type object"
     ]
    }
   ],
   "source": [
    "# ran into too many errors and need a smaller data set\n",
    "# sample 10% of rows from each date\n",
    "df_sample = df.groupby('date', group_keys=False).apply(lambda x: x.sample(frac=0.05, random_state=42))"
   ]
  },
  {
   "cell_type": "markdown",
   "id": "7bf1fefe-285d-4b30-8e1a-aa46a4b88c25",
   "metadata": {},
   "source": [
    "### Pandas Plot of 2022 Weather"
   ]
  },
  {
   "cell_type": "code",
   "execution_count": 24,
   "id": "9f7485fe-d02e-4b71-9361-15a19e836168",
   "metadata": {},
   "outputs": [],
   "source": [
    "# create data subset\n",
    "df_day_temp = df[['date', 'avgTemp']]"
   ]
  },
  {
   "cell_type": "code",
   "execution_count": 27,
   "id": "967907eb-5604-478e-b735-b3f0acd49a6a",
   "metadata": {},
   "outputs": [],
   "source": [
    "df_day_temp = df.set_index('date')"
   ]
  },
  {
   "cell_type": "code",
   "execution_count": 74,
   "id": "435900c9-664d-4a0a-8119-0cb88f28ae4a",
   "metadata": {},
   "outputs": [
    {
     "data": {
      "text/plain": [
       "ride_id                object\n",
       "rideable_type          object\n",
       "started_at             object\n",
       "ended_at               object\n",
       "start_station_name     object\n",
       "start_station_id       object\n",
       "end_station_name       object\n",
       "end_station_id         object\n",
       "start_lat             float64\n",
       "start_lng             float64\n",
       "end_lat               float64\n",
       "end_lng               float64\n",
       "member_casual          object\n",
       "avgTemp               float64\n",
       "dtype: object"
      ]
     },
     "execution_count": 74,
     "metadata": {},
     "output_type": "execute_result"
    }
   ],
   "source": [
    "df_day_temp.dtypes"
   ]
  },
  {
   "cell_type": "code",
   "execution_count": 33,
   "id": "a53aa6a7-f058-4b46-bcd9-fc3616b61dce",
   "metadata": {},
   "outputs": [],
   "source": [
    "# set data limit, it is too much to plot (this step is plt and not pd)\n",
    "plt.rcParams['agg.path.chunksize'] = 10000"
   ]
  },
  {
   "cell_type": "code",
   "execution_count": 47,
   "id": "92201b78-5d3e-4775-b5de-65f928409505",
   "metadata": {},
   "outputs": [],
   "source": [
    "# set threshold limit, data limit was not enough\n",
    "plt.rcParams['path.simplify_threshold'] = 0.5"
   ]
  },
  {
   "cell_type": "code",
   "execution_count": 49,
   "id": "a1888aab-7414-437f-9502-00943f022e31",
   "metadata": {},
   "outputs": [
    {
     "data": {
      "text/plain": [
       "<Axes: xlabel='date'>"
      ]
     },
     "execution_count": 49,
     "metadata": {},
     "output_type": "execute_result"
    },
    {
     "data": {
      "image/png": "[encoded data removed]",
      "text/plain": [
       "<Figure size 640x480 with 1 Axes>"
      ]
     },
     "metadata": {},
     "output_type": "display_data"
    }
   ],
   "source": [
    "df_day_temp['avgTemp'].plot()"
   ]
  },
  {
   "cell_type": "markdown",
   "id": "f4ccedf6-fde8-40a7-b5da-58cb2144031f",
   "metadata": {},
   "source": [
    "#### This looks strange but it is because of the data limit and my comupter's limited processing power. The pattern is still very visible."
   ]
  },
  {
   "cell_type": "markdown",
   "id": "d80b65fc-ab61-448f-a02b-7204cfd339af",
   "metadata": {},
   "source": [
    "# Aggregate Trip Data"
   ]
  },
  {
   "cell_type": "code",
   "execution_count": 45,
   "id": "2a9c7d35-17ed-4aed-8aa6-911ff06111b7",
   "metadata": {},
   "outputs": [],
   "source": [
    "# add new column of total trip counts by date\n",
    "df['trip_count'] = df.groupby('date')['ride_id'].transform('count')"
   ]
  },
  {
   "cell_type": "code",
   "execution_count": 53,
   "id": "923bc848-efd9-45dc-a6a7-75769e386ed5",
   "metadata": {},
   "outputs": [
    {
     "data": {
      "text/html": [
       "<div>\n",
       "<style scoped>\n",
       "    .dataframe tbody tr th:only-of-type {\n",
       "        vertical-align: middle;\n",
       "    }\n",
       "\n",
       "    .dataframe tbody tr th {\n",
       "        vertical-align: top;\n",
       "    }\n",
       "\n",
       "    .dataframe thead th {\n",
       "        text-align: right;\n",
       "    }\n",
       "</style>\n",
       "<table border=\"1\" class=\"dataframe\">\n",
       "  <thead>\n",
       "    <tr style=\"text-align: right;\">\n",
       "      <th></th>\n",
       "      <th>ride_id</th>\n",
       "      <th>rideable_type</th>\n",
       "      <th>started_at</th>\n",
       "      <th>ended_at</th>\n",
       "      <th>start_station_name</th>\n",
       "      <th>start_station_id</th>\n",
       "      <th>end_station_name</th>\n",
       "      <th>end_station_id</th>\n",
       "      <th>start_lat</th>\n",
       "      <th>start_lng</th>\n",
       "      <th>end_lat</th>\n",
       "      <th>end_lng</th>\n",
       "      <th>member_casual</th>\n",
       "      <th>date</th>\n",
       "      <th>avgTemp</th>\n",
       "      <th>trip_count</th>\n",
       "    </tr>\n",
       "  </thead>\n",
       "  <tbody>\n",
       "    <tr>\n",
       "      <th>0</th>\n",
       "      <td>BFD29218AB271154</td>\n",
       "      <td>electric_bike</td>\n",
       "      <td>2022-01-21 13:22:31.463</td>\n",
       "      <td>2022-01-21 13:22:31.463</td>\n",
       "      <td>West End Ave &amp; W 107 St</td>\n",
       "      <td>7650.05</td>\n",
       "      <td>Mt Morris Park W &amp; W 120 St</td>\n",
       "      <td>7685.14</td>\n",
       "      <td>40.802117</td>\n",
       "      <td>-73.968181</td>\n",
       "      <td>40.804038</td>\n",
       "      <td>-73.945925</td>\n",
       "      <td>member</td>\n",
       "      <td>2022-01-21</td>\n",
       "      <td>-6.0</td>\n",
       "      <td>33587</td>\n",
       "    </tr>\n",
       "    <tr>\n",
       "      <th>1</th>\n",
       "      <td>7C953F2FD7BE1302</td>\n",
       "      <td>classic_bike</td>\n",
       "      <td>2022-01-10 11:41:43.422</td>\n",
       "      <td>2022-01-10 11:41:43.422</td>\n",
       "      <td>4 Ave &amp; 3 St</td>\n",
       "      <td>4028.04</td>\n",
       "      <td>Boerum Pl\\t&amp; Pacific St</td>\n",
       "      <td>4488.09</td>\n",
       "      <td>40.673746</td>\n",
       "      <td>-73.985649</td>\n",
       "      <td>40.688489</td>\n",
       "      <td>-73.991160</td>\n",
       "      <td>member</td>\n",
       "      <td>2022-01-10</td>\n",
       "      <td>1.6</td>\n",
       "      <td>34607</td>\n",
       "    </tr>\n",
       "    <tr>\n",
       "      <th>2</th>\n",
       "      <td>95893ABD40CED4B8</td>\n",
       "      <td>electric_bike</td>\n",
       "      <td>2022-01-26 11:06:35.227</td>\n",
       "      <td>2022-01-26 11:06:35.227</td>\n",
       "      <td>1 Ave &amp; E 62 St</td>\n",
       "      <td>6753.08</td>\n",
       "      <td>5 Ave &amp; E 29 St</td>\n",
       "      <td>6248.06</td>\n",
       "      <td>40.761227</td>\n",
       "      <td>-73.960940</td>\n",
       "      <td>40.745168</td>\n",
       "      <td>-73.986831</td>\n",
       "      <td>member</td>\n",
       "      <td>2022-01-26</td>\n",
       "      <td>-2.3</td>\n",
       "      <td>41997</td>\n",
       "    </tr>\n",
       "    <tr>\n",
       "      <th>3</th>\n",
       "      <td>F853B50772137378</td>\n",
       "      <td>classic_bike</td>\n",
       "      <td>2022-01-03 09:10:50.475</td>\n",
       "      <td>2022-01-03 09:10:50.475</td>\n",
       "      <td>2 Ave &amp; E 96 St</td>\n",
       "      <td>7338.02</td>\n",
       "      <td>5 Ave &amp; E 29 St</td>\n",
       "      <td>6248.06</td>\n",
       "      <td>40.783964</td>\n",
       "      <td>-73.947167</td>\n",
       "      <td>40.745168</td>\n",
       "      <td>-73.986831</td>\n",
       "      <td>member</td>\n",
       "      <td>2022-01-03</td>\n",
       "      <td>1.4</td>\n",
       "      <td>33201</td>\n",
       "    </tr>\n",
       "    <tr>\n",
       "      <th>4</th>\n",
       "      <td>7590ADF834797B4B</td>\n",
       "      <td>classic_bike</td>\n",
       "      <td>2022-01-22 14:34:57.474</td>\n",
       "      <td>2022-01-22 14:34:57.474</td>\n",
       "      <td>6 Ave &amp; W 34 St</td>\n",
       "      <td>6364.10</td>\n",
       "      <td>5 Ave &amp; E 29 St</td>\n",
       "      <td>6248.06</td>\n",
       "      <td>40.749640</td>\n",
       "      <td>-73.988050</td>\n",
       "      <td>40.745168</td>\n",
       "      <td>-73.986831</td>\n",
       "      <td>member</td>\n",
       "      <td>2022-01-22</td>\n",
       "      <td>-5.9</td>\n",
       "      <td>31907</td>\n",
       "    </tr>\n",
       "  </tbody>\n",
       "</table>\n",
       "</div>"
      ],
      "text/plain": [
       "            ride_id  rideable_type               started_at  \\\n",
       "0  BFD29218AB271154  electric_bike  2022-01-21 13:22:31.463   \n",
       "1  7C953F2FD7BE1302   classic_bike  2022-01-10 11:41:43.422   \n",
       "2  95893ABD40CED4B8  electric_bike  2022-01-26 11:06:35.227   \n",
       "3  F853B50772137378   classic_bike  2022-01-03 09:10:50.475   \n",
       "4  7590ADF834797B4B   classic_bike  2022-01-22 14:34:57.474   \n",
       "\n",
       "                  ended_at       start_station_name start_station_id  \\\n",
       "0  2022-01-21 13:22:31.463  West End Ave & W 107 St          7650.05   \n",
       "1  2022-01-10 11:41:43.422             4 Ave & 3 St          4028.04   \n",
       "2  2022-01-26 11:06:35.227          1 Ave & E 62 St          6753.08   \n",
       "3  2022-01-03 09:10:50.475          2 Ave & E 96 St          7338.02   \n",
       "4  2022-01-22 14:34:57.474          6 Ave & W 34 St          6364.10   \n",
       "\n",
       "              end_station_name end_station_id  start_lat  start_lng  \\\n",
       "0  Mt Morris Park W & W 120 St        7685.14  40.802117 -73.968181   \n",
       "1      Boerum Pl\\t& Pacific St        4488.09  40.673746 -73.985649   \n",
       "2              5 Ave & E 29 St        6248.06  40.761227 -73.960940   \n",
       "3              5 Ave & E 29 St        6248.06  40.783964 -73.947167   \n",
       "4              5 Ave & E 29 St        6248.06  40.749640 -73.988050   \n",
       "\n",
       "     end_lat    end_lng member_casual       date  avgTemp  trip_count  \n",
       "0  40.804038 -73.945925        member 2022-01-21     -6.0       33587  \n",
       "1  40.688489 -73.991160        member 2022-01-10      1.6       34607  \n",
       "2  40.745168 -73.986831        member 2022-01-26     -2.3       41997  \n",
       "3  40.745168 -73.986831        member 2022-01-03      1.4       33201  \n",
       "4  40.745168 -73.986831        member 2022-01-22     -5.9       31907  "
      ]
     },
     "execution_count": 53,
     "metadata": {},
     "output_type": "execute_result"
    }
   ],
   "source": [
    "df.head()"
   ]
  },
  {
   "cell_type": "code",
   "execution_count": 56,
   "id": "fabff40c-2270-460e-8472-39cc582492c3",
   "metadata": {},
   "outputs": [],
   "source": [
    "# create data subset\n",
    "df_day_rides = df[['date', 'trip_count']]"
   ]
  },
  {
   "cell_type": "code",
   "execution_count": 58,
   "id": "2bd3bf3f-8d8b-4218-be9e-c169b7cfce31",
   "metadata": {},
   "outputs": [],
   "source": [
    "df_day_rides = df.set_index('date')"
   ]
  },
  {
   "cell_type": "markdown",
   "id": "c42d67bc-5d30-4ced-b110-106ebe060acc",
   "metadata": {},
   "source": [
    "# Dual Axis Graph with Matplotlib"
   ]
  },
  {
   "cell_type": "code",
   "execution_count": 66,
   "id": "8c6f7b0d-6562-4c4d-9be4-509d26bc95a4",
   "metadata": {},
   "outputs": [],
   "source": [
    "# create sample sizes\n",
    "df_sample_temp = df_day_temp.sample(100000)"
   ]
  },
  {
   "cell_type": "code",
   "execution_count": 67,
   "id": "fb35b2a5-b59e-46e4-b7fe-bed0a798575b",
   "metadata": {},
   "outputs": [],
   "source": [
    "df_sample_rides = df_day_rides.sample(100000)"
   ]
  },
  {
   "cell_type": "code",
   "execution_count": 72,
   "id": "84ae69d3-8d63-4e26-9573-a7e1d1e1aa4a",
   "metadata": {},
   "outputs": [
    {
     "data": {
      "image/png": "[encoded data removed]",
      "text/plain": [
       "<Figure size 1000x500 with 2 Axes>"
      ]
     },
     "metadata": {},
     "output_type": "display_data"
    }
   ],
   "source": [
    "# create figure and axis objects with subplots()\n",
    "fig, ax = plt.subplots(figsize=(10, 5))\n",
    "\n",
    "# make plot of the bike rides\n",
    "ax.plot(df_sample_rides['trip_count'], color = \"blue\")\n",
    "\n",
    "# initialize a twin object for two different y-axis on the sample plot\n",
    "ax2 = ax.twinx()\n",
    "\n",
    "# make plot with the temperatues on the y-axis using second axis object\n",
    "ax2.plot(df_sample_temp[\"avgTemp\"], color = \"red\")\n",
    "plt.show()"
   ]
  },
  {
   "cell_type": "code",
   "execution_count": null,
   "id": "7f1c4758-21b6-476b-936e-93497a7fe272",
   "metadata": {},
   "outputs": [],
   "source": []
  }
 ],
 "metadata": {
  "kernelspec": {
   "display_name": "Python [conda env:env_citi_bike]",
   "language": "python",
   "name": "conda-env-env_citi_bike-py"
  },
  "language_info": {
   "codemirror_mode": {
    "name": "ipython",
    "version": 3
   },
   "file_extension": ".py",
   "mimetype": "text/x-python",
   "name": "python",
   "nbconvert_exporter": "python",
   "pygments_lexer": "ipython3",
   "version": "3.13.2"
  }
 },
 "nbformat": 4,
 "nbformat_minor": 5
}
