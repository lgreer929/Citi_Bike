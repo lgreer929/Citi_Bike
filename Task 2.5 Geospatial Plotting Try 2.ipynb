{
 "cells": [
  {
   "cell_type": "markdown",
   "id": "e0ba190d-cc8f-42b8-84f0-d91216452120",
   "metadata": {},
   "source": [
    "# Task 2.5 Geospatial Plotting Try 2"
   ]
  },
  {
   "cell_type": "code",
   "execution_count": 3,
   "id": "942bf17f-82f1-4182-a116-a2d4d92945d8",
   "metadata": {},
   "outputs": [],
   "source": [
    "# import libraries\n",
    "import pandas as pd\n",
    "import os\n",
    "from keplergl import KeplerGl\n",
    "from pyproj import CRS\n",
    "import numpy as np\n",
    "from matplotlib import pyplot as plt"
   ]
  },
  {
   "cell_type": "code",
   "execution_count": 6,
   "id": "e3687fc2-0dfe-4826-b558-1d03aa0a3ca6",
   "metadata": {},
   "outputs": [],
   "source": [
    "# import necessary columns from csv file\n",
    "dtype_mapping = {6: str} # force column as string data types\n",
    "df = pd.read_csv('NY_Citi_Bike_Weather_Data.csv', usecols=['start_station_name', 'end_station_name', 'start_lat', 'start_lng', 'end_lat', 'end_lng'], dtype=dtype_mapping)"
   ]
  },
  {
   "cell_type": "code",
   "execution_count": 8,
   "id": "63505c83-ff0b-42bf-a5a6-5c6682821d28",
   "metadata": {},
   "outputs": [
    {
     "data": {
      "text/plain": [
       "start_station_name     object\n",
       "end_station_name       object\n",
       "start_lat             float64\n",
       "start_lng             float64\n",
       "end_lat               float64\n",
       "end_lng               float64\n",
       "dtype: object"
      ]
     },
     "execution_count": 8,
     "metadata": {},
     "output_type": "execute_result"
    }
   ],
   "source": [
    "df.dtypes"
   ]
  },
  {
   "cell_type": "code",
   "execution_count": 10,
   "id": "667ccf0d-6f04-4a83-9d54-c8c30007964f",
   "metadata": {},
   "outputs": [
    {
     "data": {
      "text/html": [
       "<div>\n",
       "<style scoped>\n",
       "    .dataframe tbody tr th:only-of-type {\n",
       "        vertical-align: middle;\n",
       "    }\n",
       "\n",
       "    .dataframe tbody tr th {\n",
       "        vertical-align: top;\n",
       "    }\n",
       "\n",
       "    .dataframe thead th {\n",
       "        text-align: right;\n",
       "    }\n",
       "</style>\n",
       "<table border=\"1\" class=\"dataframe\">\n",
       "  <thead>\n",
       "    <tr style=\"text-align: right;\">\n",
       "      <th></th>\n",
       "      <th>start_station_name</th>\n",
       "      <th>end_station_name</th>\n",
       "      <th>start_lat</th>\n",
       "      <th>start_lng</th>\n",
       "      <th>end_lat</th>\n",
       "      <th>end_lng</th>\n",
       "    </tr>\n",
       "  </thead>\n",
       "  <tbody>\n",
       "    <tr>\n",
       "      <th>0</th>\n",
       "      <td>West End Ave &amp; W 107 St</td>\n",
       "      <td>Mt Morris Park W &amp; W 120 St</td>\n",
       "      <td>40.802117</td>\n",
       "      <td>-73.968181</td>\n",
       "      <td>40.804038</td>\n",
       "      <td>-73.945925</td>\n",
       "    </tr>\n",
       "    <tr>\n",
       "      <th>1</th>\n",
       "      <td>4 Ave &amp; 3 St</td>\n",
       "      <td>Boerum Pl\\t&amp; Pacific St</td>\n",
       "      <td>40.673746</td>\n",
       "      <td>-73.985649</td>\n",
       "      <td>40.688489</td>\n",
       "      <td>-73.991160</td>\n",
       "    </tr>\n",
       "    <tr>\n",
       "      <th>2</th>\n",
       "      <td>1 Ave &amp; E 62 St</td>\n",
       "      <td>5 Ave &amp; E 29 St</td>\n",
       "      <td>40.761227</td>\n",
       "      <td>-73.960940</td>\n",
       "      <td>40.745168</td>\n",
       "      <td>-73.986831</td>\n",
       "    </tr>\n",
       "    <tr>\n",
       "      <th>3</th>\n",
       "      <td>2 Ave &amp; E 96 St</td>\n",
       "      <td>5 Ave &amp; E 29 St</td>\n",
       "      <td>40.783964</td>\n",
       "      <td>-73.947167</td>\n",
       "      <td>40.745168</td>\n",
       "      <td>-73.986831</td>\n",
       "    </tr>\n",
       "    <tr>\n",
       "      <th>4</th>\n",
       "      <td>6 Ave &amp; W 34 St</td>\n",
       "      <td>5 Ave &amp; E 29 St</td>\n",
       "      <td>40.749640</td>\n",
       "      <td>-73.988050</td>\n",
       "      <td>40.745168</td>\n",
       "      <td>-73.986831</td>\n",
       "    </tr>\n",
       "  </tbody>\n",
       "</table>\n",
       "</div>"
      ],
      "text/plain": [
       "        start_station_name             end_station_name  start_lat  start_lng  \\\n",
       "0  West End Ave & W 107 St  Mt Morris Park W & W 120 St  40.802117 -73.968181   \n",
       "1             4 Ave & 3 St      Boerum Pl\\t& Pacific St  40.673746 -73.985649   \n",
       "2          1 Ave & E 62 St              5 Ave & E 29 St  40.761227 -73.960940   \n",
       "3          2 Ave & E 96 St              5 Ave & E 29 St  40.783964 -73.947167   \n",
       "4          6 Ave & W 34 St              5 Ave & E 29 St  40.749640 -73.988050   \n",
       "\n",
       "     end_lat    end_lng  \n",
       "0  40.804038 -73.945925  \n",
       "1  40.688489 -73.991160  \n",
       "2  40.745168 -73.986831  \n",
       "3  40.745168 -73.986831  \n",
       "4  40.745168 -73.986831  "
      ]
     },
     "execution_count": 10,
     "metadata": {},
     "output_type": "execute_result"
    }
   ],
   "source": [
    "df.head()"
   ]
  },
  {
   "cell_type": "code",
   "execution_count": 12,
   "id": "4de7a5c6-b00f-4f16-a9d0-aeab4bf271c5",
   "metadata": {},
   "outputs": [],
   "source": [
    "# create a value column and group by start and end station \n",
    "df['value'] = 1\n",
    "df = df.groupby(['start_station_name', 'end_station_name']).agg({\n",
    "    'value': 'count',\n",
    "    'start_lat': 'first',\n",
    "    'start_lng': 'first',\n",
    "    'end_lat': 'first',\n",
    "    'end_lng': 'first'\n",
    "}).reset_index()"
   ]
  },
  {
   "cell_type": "code",
   "execution_count": 14,
   "id": "7381bd4c-29ba-4c69-a1f5-87323d357fda",
   "metadata": {},
   "outputs": [
    {
     "data": {
      "text/html": [
       "<div>\n",
       "<style scoped>\n",
       "    .dataframe tbody tr th:only-of-type {\n",
       "        vertical-align: middle;\n",
       "    }\n",
       "\n",
       "    .dataframe tbody tr th {\n",
       "        vertical-align: top;\n",
       "    }\n",
       "\n",
       "    .dataframe thead th {\n",
       "        text-align: right;\n",
       "    }\n",
       "</style>\n",
       "<table border=\"1\" class=\"dataframe\">\n",
       "  <thead>\n",
       "    <tr style=\"text-align: right;\">\n",
       "      <th></th>\n",
       "      <th>start_station_name</th>\n",
       "      <th>end_station_name</th>\n",
       "      <th>value</th>\n",
       "      <th>start_lat</th>\n",
       "      <th>start_lng</th>\n",
       "      <th>end_lat</th>\n",
       "      <th>end_lng</th>\n",
       "    </tr>\n",
       "  </thead>\n",
       "  <tbody>\n",
       "    <tr>\n",
       "      <th>0</th>\n",
       "      <td>1 Ave &amp; E 110 St</td>\n",
       "      <td>1 Ave &amp; E 110 St</td>\n",
       "      <td>791</td>\n",
       "      <td>40.792327</td>\n",
       "      <td>-73.9383</td>\n",
       "      <td>40.792327</td>\n",
       "      <td>-73.938300</td>\n",
       "    </tr>\n",
       "    <tr>\n",
       "      <th>1</th>\n",
       "      <td>1 Ave &amp; E 110 St</td>\n",
       "      <td>1 Ave &amp; E 18 St</td>\n",
       "      <td>2</td>\n",
       "      <td>40.792327</td>\n",
       "      <td>-73.9383</td>\n",
       "      <td>40.733812</td>\n",
       "      <td>-73.980544</td>\n",
       "    </tr>\n",
       "    <tr>\n",
       "      <th>2</th>\n",
       "      <td>1 Ave &amp; E 110 St</td>\n",
       "      <td>1 Ave &amp; E 30 St</td>\n",
       "      <td>4</td>\n",
       "      <td>40.792327</td>\n",
       "      <td>-73.9383</td>\n",
       "      <td>40.741444</td>\n",
       "      <td>-73.975361</td>\n",
       "    </tr>\n",
       "    <tr>\n",
       "      <th>3</th>\n",
       "      <td>1 Ave &amp; E 110 St</td>\n",
       "      <td>1 Ave &amp; E 39 St</td>\n",
       "      <td>1</td>\n",
       "      <td>40.792327</td>\n",
       "      <td>-73.9383</td>\n",
       "      <td>40.747140</td>\n",
       "      <td>-73.971130</td>\n",
       "    </tr>\n",
       "    <tr>\n",
       "      <th>4</th>\n",
       "      <td>1 Ave &amp; E 110 St</td>\n",
       "      <td>1 Ave &amp; E 44 St</td>\n",
       "      <td>12</td>\n",
       "      <td>40.792327</td>\n",
       "      <td>-73.9383</td>\n",
       "      <td>40.750020</td>\n",
       "      <td>-73.969053</td>\n",
       "    </tr>\n",
       "  </tbody>\n",
       "</table>\n",
       "</div>"
      ],
      "text/plain": [
       "  start_station_name  end_station_name  value  start_lat  start_lng  \\\n",
       "0   1 Ave & E 110 St  1 Ave & E 110 St    791  40.792327   -73.9383   \n",
       "1   1 Ave & E 110 St   1 Ave & E 18 St      2  40.792327   -73.9383   \n",
       "2   1 Ave & E 110 St   1 Ave & E 30 St      4  40.792327   -73.9383   \n",
       "3   1 Ave & E 110 St   1 Ave & E 39 St      1  40.792327   -73.9383   \n",
       "4   1 Ave & E 110 St   1 Ave & E 44 St     12  40.792327   -73.9383   \n",
       "\n",
       "     end_lat    end_lng  \n",
       "0  40.792327 -73.938300  \n",
       "1  40.733812 -73.980544  \n",
       "2  40.741444 -73.975361  \n",
       "3  40.747140 -73.971130  \n",
       "4  40.750020 -73.969053  "
      ]
     },
     "execution_count": 14,
     "metadata": {},
     "output_type": "execute_result"
    }
   ],
   "source": [
    "df.head()"
   ]
  },
  {
   "cell_type": "code",
   "execution_count": 16,
   "id": "a97786d8-24a3-4f37-ba57-fe5c1f95804a",
   "metadata": {},
   "outputs": [
    {
     "name": "stdout",
     "output_type": "stream",
     "text": [
      "29768714\n",
      "(1013422, 7)\n"
     ]
    }
   ],
   "source": [
    "print(df['value'].sum())\n",
    "print(df.shape)"
   ]
  },
  {
   "cell_type": "markdown",
   "id": "cf495fc1-f62e-4645-bee6-834e4b2c61aa",
   "metadata": {},
   "source": [
    "#### The numbers no longer match because like values of start and stop stations have now been condensed to a single row."
   ]
  },
  {
   "cell_type": "code",
   "execution_count": 20,
   "id": "06095754-d2ff-457a-b265-7125e1443f38",
   "metadata": {},
   "outputs": [
    {
     "data": {
      "text/plain": [
       "count    1013422.00\n",
       "mean          29.37\n",
       "std           99.25\n",
       "min            1.00\n",
       "25%            1.00\n",
       "50%            4.00\n",
       "75%           17.00\n",
       "max        12041.00\n",
       "Name: value, dtype: float64"
      ]
     },
     "execution_count": 20,
     "metadata": {},
     "output_type": "execute_result"
    }
   ],
   "source": [
    "df['value'].describe().round(2)"
   ]
  },
  {
   "cell_type": "code",
   "execution_count": 22,
   "id": "aa968f5a-86f1-4edd-8c38-bbc99c304001",
   "metadata": {},
   "outputs": [],
   "source": [
    "df.rename(columns = {'start_station_name':'start_station','end_station_name' : 'end_station',\n",
    "                    'value': 'trip_counts', 'start_lat': 'lat_x', 'start_lng': 'lng_x',\n",
    "                    'end_lat': 'lat_y', 'end_lng': 'lng_y'}, inplace = True)"
   ]
  },
  {
   "cell_type": "markdown",
   "id": "1ca60d15-3558-4c85-8236-3541a9f24969",
   "metadata": {},
   "source": [
    "# Creating a Map"
   ]
  },
  {
   "cell_type": "code",
   "execution_count": 34,
   "id": "02440de9-abdf-4f6b-adb8-d962fcaf22dd",
   "metadata": {},
   "outputs": [
    {
     "data": {
      "text/html": [
       "<div>\n",
       "<style scoped>\n",
       "    .dataframe tbody tr th:only-of-type {\n",
       "        vertical-align: middle;\n",
       "    }\n",
       "\n",
       "    .dataframe tbody tr th {\n",
       "        vertical-align: top;\n",
       "    }\n",
       "\n",
       "    .dataframe thead th {\n",
       "        text-align: right;\n",
       "    }\n",
       "</style>\n",
       "<table border=\"1\" class=\"dataframe\">\n",
       "  <thead>\n",
       "    <tr style=\"text-align: right;\">\n",
       "      <th></th>\n",
       "      <th>start_station</th>\n",
       "      <th>end_station</th>\n",
       "      <th>trip_counts</th>\n",
       "      <th>lat_x</th>\n",
       "      <th>lng_x</th>\n",
       "      <th>lat_y</th>\n",
       "      <th>lng_y</th>\n",
       "    </tr>\n",
       "  </thead>\n",
       "  <tbody>\n",
       "    <tr>\n",
       "      <th>0</th>\n",
       "      <td>1 Ave &amp; E 110 St</td>\n",
       "      <td>1 Ave &amp; E 110 St</td>\n",
       "      <td>791</td>\n",
       "      <td>40.792327</td>\n",
       "      <td>-73.9383</td>\n",
       "      <td>40.792327</td>\n",
       "      <td>-73.938300</td>\n",
       "    </tr>\n",
       "    <tr>\n",
       "      <th>1</th>\n",
       "      <td>1 Ave &amp; E 110 St</td>\n",
       "      <td>1 Ave &amp; E 18 St</td>\n",
       "      <td>2</td>\n",
       "      <td>40.792327</td>\n",
       "      <td>-73.9383</td>\n",
       "      <td>40.733812</td>\n",
       "      <td>-73.980544</td>\n",
       "    </tr>\n",
       "    <tr>\n",
       "      <th>2</th>\n",
       "      <td>1 Ave &amp; E 110 St</td>\n",
       "      <td>1 Ave &amp; E 30 St</td>\n",
       "      <td>4</td>\n",
       "      <td>40.792327</td>\n",
       "      <td>-73.9383</td>\n",
       "      <td>40.741444</td>\n",
       "      <td>-73.975361</td>\n",
       "    </tr>\n",
       "    <tr>\n",
       "      <th>3</th>\n",
       "      <td>1 Ave &amp; E 110 St</td>\n",
       "      <td>1 Ave &amp; E 39 St</td>\n",
       "      <td>1</td>\n",
       "      <td>40.792327</td>\n",
       "      <td>-73.9383</td>\n",
       "      <td>40.747140</td>\n",
       "      <td>-73.971130</td>\n",
       "    </tr>\n",
       "    <tr>\n",
       "      <th>4</th>\n",
       "      <td>1 Ave &amp; E 110 St</td>\n",
       "      <td>1 Ave &amp; E 44 St</td>\n",
       "      <td>12</td>\n",
       "      <td>40.792327</td>\n",
       "      <td>-73.9383</td>\n",
       "      <td>40.750020</td>\n",
       "      <td>-73.969053</td>\n",
       "    </tr>\n",
       "  </tbody>\n",
       "</table>\n",
       "</div>"
      ],
      "text/plain": [
       "      start_station       end_station  trip_counts      lat_x    lng_x  \\\n",
       "0  1 Ave & E 110 St  1 Ave & E 110 St          791  40.792327 -73.9383   \n",
       "1  1 Ave & E 110 St   1 Ave & E 18 St            2  40.792327 -73.9383   \n",
       "2  1 Ave & E 110 St   1 Ave & E 30 St            4  40.792327 -73.9383   \n",
       "3  1 Ave & E 110 St   1 Ave & E 39 St            1  40.792327 -73.9383   \n",
       "4  1 Ave & E 110 St   1 Ave & E 44 St           12  40.792327 -73.9383   \n",
       "\n",
       "       lat_y      lng_y  \n",
       "0  40.792327 -73.938300  \n",
       "1  40.733812 -73.980544  \n",
       "2  40.741444 -73.975361  \n",
       "3  40.747140 -73.971130  \n",
       "4  40.750020 -73.969053  "
      ]
     },
     "execution_count": 34,
     "metadata": {},
     "output_type": "execute_result"
    }
   ],
   "source": [
    "df.head()"
   ]
  },
  {
   "cell_type": "code",
   "execution_count": 37,
   "id": "646b7f8f-146c-403d-b822-a1e5bf15738d",
   "metadata": {},
   "outputs": [
    {
     "data": {
      "text/plain": [
       "start_station     object\n",
       "end_station       object\n",
       "trip_counts        int64\n",
       "lat_x            float64\n",
       "lng_x            float64\n",
       "lat_y            float64\n",
       "lng_y            float64\n",
       "dtype: object"
      ]
     },
     "execution_count": 37,
     "metadata": {},
     "output_type": "execute_result"
    }
   ],
   "source": [
    "df.dtypes"
   ]
  },
  {
   "cell_type": "code",
   "execution_count": 40,
   "id": "b710d4b5-cf68-4475-8672-16d931b598c5",
   "metadata": {},
   "outputs": [
    {
     "name": "stderr",
     "output_type": "stream",
     "text": [
      "C:\\Users\\lisag\\AppData\\Local\\Temp\\ipykernel_5796\\596251311.py:2: DeprecationWarning: DataFrameGroupBy.apply operated on the grouping columns. This behavior is deprecated, and in a future version of pandas the grouping columns will be excluded from the operation. Either pass `include_groups=False` to exclude the groupings or explicitly select the grouping columns after groupby to silence this warning.\n",
      "  df_sample = df.groupby('start_station', group_keys=False).apply(\n"
     ]
    }
   ],
   "source": [
    "# create another smaller df for processing reasons\n",
    "df_sample = df.groupby('start_station', group_keys=False).apply(\n",
    "    lambda x: x.sample(frac=0.02, random_state=42)\n",
    ").reset_index(drop=True)"
   ]
  },
  {
   "cell_type": "code",
   "execution_count": 43,
   "id": "a4cc60fa-0de2-459a-a8d3-5866978c7dda",
   "metadata": {},
   "outputs": [
    {
     "data": {
      "text/plain": [
       "(20245, 7)"
      ]
     },
     "execution_count": 43,
     "metadata": {},
     "output_type": "execute_result"
    }
   ],
   "source": [
    "df_sample.shape"
   ]
  },
  {
   "cell_type": "code",
   "execution_count": 46,
   "id": "15e9e6c5-c014-4dfa-9823-8af36bf3fa66",
   "metadata": {},
   "outputs": [],
   "source": [
    "# make sure all string data is properly handled\n",
    "for col in df_sample.select_dtypes(include=['object']).columns:\n",
    "    df_sample[col] = df_sample[col].astype(str)"
   ]
  },
  {
   "cell_type": "code",
   "execution_count": 68,
   "id": "232d7ec4-c0ce-46cb-8fdd-2f54d72b7f42",
   "metadata": {},
   "outputs": [
    {
     "name": "stdout",
     "output_type": "stream",
     "text": [
      "User Guide: https://docs.kepler.gl/docs/keplergl-jupyter\n",
      "Map saved to kepler_map.html!\n"
     ]
    }
   ],
   "source": [
    "# save map to an HTML file with data\n",
    "m = KeplerGl(height=700)\n",
    "m.add_data(data=df_sample, name=\"bike_trips\")\n",
    "m.save_to_html(file_name='kepler_map.html', read_only=False)"
   ]
  },
  {
   "cell_type": "code",
   "execution_count": 70,
   "id": "9f7e7f69-25d5-44b1-a486-8312aa954124",
   "metadata": {},
   "outputs": [
    {
     "data": {
      "text/html": [
       "\n",
       "        <iframe\n",
       "            width=\"800\"\n",
       "            height=\"700\"\n",
       "            src=\"kepler_map.html\"\n",
       "            frameborder=\"0\"\n",
       "            allowfullscreen\n",
       "            \n",
       "        ></iframe>\n",
       "        "
      ],
      "text/plain": [
       "<IPython.lib.display.IFrame at 0x26284caaea0>"
      ]
     },
     "execution_count": 70,
     "metadata": {},
     "output_type": "execute_result"
    }
   ],
   "source": [
    "# display HTML file\n",
    "from IPython.display import IFrame\n",
    "IFrame(src='kepler_map.html', width=800, height=700)"
   ]
  },
  {
   "cell_type": "code",
   "execution_count": 72,
   "id": "709d4f28-9919-4bde-9cec-514c5a26d8ad",
   "metadata": {},
   "outputs": [
    {
     "name": "stdout",
     "output_type": "stream",
     "text": [
      "User Guide: https://docs.kepler.gl/docs/keplergl-jupyter\n",
      "Map saved to bike_routes_map.html!\n"
     ]
    }
   ],
   "source": [
    "# point-to-point data so need to configure the map properly\n",
    "map_1 = KeplerGl(height=700)\n",
    "map_1.add_data(data=df_sample, name=\"bike_trips\")\n",
    "\n",
    "# add specific configuration for point-to-point lines\n",
    "map_config = {\n",
    "    \"version\": \"v1\",\n",
    "    \"config\": {\n",
    "        \"visState\": {\n",
    "            \"layers\": [\n",
    "                {\n",
    "                    \"id\": \"line_layer\",\n",
    "                    \"type\": \"line\",\n",
    "                    \"config\": {\n",
    "                        \"dataId\": \"bike_trips\",\n",
    "                        \"columns\": {\n",
    "                            \"lat0\": \"lat_x\",\n",
    "                            \"lng0\": \"lng_x\",\n",
    "                            \"lat1\": \"lat_y\",\n",
    "                            \"lng1\": \"lng_y\"\n",
    "                        },\n",
    "                        \"isVisible\": True\n",
    "                    }\n",
    "                }\n",
    "            ]\n",
    "        }\n",
    "    }\n",
    "}\n",
    "\n",
    "map_1.config = map_config\n",
    "map_1.save_to_html(file_name='bike_routes_map.html')"
   ]
  },
  {
   "cell_type": "code",
   "execution_count": 74,
   "id": "130fcf9b-ec89-46ef-b6f6-f6d584394a94",
   "metadata": {},
   "outputs": [
    {
     "data": {
      "text/html": [
       "\n",
       "        <iframe\n",
       "            width=\"800\"\n",
       "            height=\"700\"\n",
       "            src=\"bike_routes_map.html\"\n",
       "            frameborder=\"0\"\n",
       "            allowfullscreen\n",
       "            \n",
       "        ></iframe>\n",
       "        "
      ],
      "text/plain": [
       "<IPython.lib.display.IFrame at 0x26284cab5c0>"
      ]
     },
     "execution_count": 74,
     "metadata": {},
     "output_type": "execute_result"
    }
   ],
   "source": [
    "# display HTML file\n",
    "IFrame(src='bike_routes_map.html', width=800, height=700)"
   ]
  },
  {
   "cell_type": "markdown",
   "id": "efff93aa-ee85-40e3-afab-298dd1684024",
   "metadata": {},
   "source": [
    "#### After looking at the map a pattern is clear that the most used routes are in the center and most population dense parts of the city. This makes sense additionally with the landmarks and tourist destinations in the area. If I were to do this exercise again or refine it. I would put the parameters I was looking for in the dataset before mapping it. For instance, filter the top 20 and bottom 20 routes and then map it for a clearer picture instead of random sampling. "
   ]
  },
  {
   "cell_type": "code",
   "execution_count": 84,
   "id": "083d5dcb-1d1b-4033-b48e-052b594186c8",
   "metadata": {},
   "outputs": [
    {
     "name": "stdout",
     "output_type": "stream",
     "text": [
      "Map saved to bike_routes_map.html!\n"
     ]
    }
   ],
   "source": [
    "map_1.save_to_html(file_name='bike_routes_map.html')"
   ]
  },
  {
   "cell_type": "code",
   "execution_count": null,
   "id": "24f400c7-82a9-42ef-8d99-0e00de7970a8",
   "metadata": {},
   "outputs": [],
   "source": []
  }
 ],
 "metadata": {
  "kernelspec": {
   "display_name": "Python [conda env:env_citi_bike]",
   "language": "python",
   "name": "conda-env-env_citi_bike-py"
  },
  "language_info": {
   "codemirror_mode": {
    "name": "ipython",
    "version": 3
   },
   "file_extension": ".py",
   "mimetype": "text/x-python",
   "name": "python",
   "nbconvert_exporter": "python",
   "pygments_lexer": "ipython3",
   "version": "3.13.2"
  }
 },
 "nbformat": 4,
 "nbformat_minor": 5
}
