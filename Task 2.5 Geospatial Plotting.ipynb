{
 "cells": [
  {
   "cell_type": "markdown",
   "id": "d95eb667-b68e-4a74-9d18-c808c9c9630c",
   "metadata": {},
   "source": [
    "# Task 2.5 Geospatial Plotting"
   ]
  },
  {
   "cell_type": "code",
   "execution_count": null,
   "id": "9ebe122f-a32a-4d1b-a87c-8cd22040008a",
   "metadata": {},
   "outputs": [],
   "source": [
    "# import libraries\n",
    "import pandas as pd\n",
    "import os\n",
    "from keplergl import KeplerGl\n",
    "from pyproj import CRS\n",
    "import numpy as np\n",
    "from matplotlib import pyplot as plt"
   ]
  },
  {
   "cell_type": "code",
   "execution_count": null,
   "id": "f025241c-00c9-4392-b0b0-25e815c3553f",
   "metadata": {},
   "outputs": [],
   "source": [
    "# import necessary columns from csv file\n",
    "dtype_mapping = {6: str} # force column as string data types\n",
    "df = pd.read_csv('NY_Citi_Bike_Weather_Data.csv', usecols=['start_station_name', 'end_station_name', 'start_lat', 'start_lng', 'end_lat', 'end_lng'], dtype=dtype_mapping)"
   ]
  },
  {
   "cell_type": "code",
   "execution_count": null,
   "id": "8c370ef9-8e2f-496e-ad23-bed5fcfb6d6d",
   "metadata": {
    "scrolled": true
   },
   "outputs": [],
   "source": [
    "df.dtypes"
   ]
  },
  {
   "cell_type": "code",
   "execution_count": null,
   "id": "27fe27bc-f433-428a-92ab-d6cb81ae3877",
   "metadata": {},
   "outputs": [],
   "source": [
    "df.head()"
   ]
  },
  {
   "cell_type": "code",
   "execution_count": null,
   "id": "3b6f4689-ab81-4f5e-93ea-bc361451707b",
   "metadata": {},
   "outputs": [],
   "source": [
    "# create a value column and group by start and end station \n",
    "df['value'] = 1\n",
    "df = df.groupby(['start_station_name', 'end_station_name']).agg({\n",
    "    'value': 'count',\n",
    "    'start_lat': 'first',\n",
    "    'start_lng': 'first',\n",
    "    'end_lat': 'first',\n",
    "    'end_lng': 'first'\n",
    "}).reset_index()"
   ]
  },
  {
   "cell_type": "code",
   "execution_count": null,
   "id": "ebb8d0ec-2581-4102-b732-3da1102a1fdc",
   "metadata": {},
   "outputs": [],
   "source": [
    "df.head()"
   ]
  },
  {
   "cell_type": "code",
   "execution_count": null,
   "id": "3cfba881-a064-43f3-877a-8b8e01d5328e",
   "metadata": {},
   "outputs": [],
   "source": [
    "print(df['value'].sum())\n",
    "print(df.shape)"
   ]
  },
  {
   "cell_type": "markdown",
   "id": "a74dbf54-d029-4023-85ea-9499612619e8",
   "metadata": {},
   "source": [
    "#### The numbers no longer match because like values of start and stop stations have now been condensed to a single row."
   ]
  },
  {
   "cell_type": "code",
   "execution_count": null,
   "id": "1ae6ae30-c8aa-47ce-bc46-703c518d32cb",
   "metadata": {},
   "outputs": [],
   "source": [
    "df['value'].describe().round(2)"
   ]
  },
  {
   "cell_type": "code",
   "execution_count": null,
   "id": "d4b2d0da-177f-4b2b-84b1-5fd8373cb910",
   "metadata": {},
   "outputs": [],
   "source": [
    "df.rename(columns = {'start_station_name':'start_station','end_station_name' : 'end_station',\n",
    "                    'value': 'trip_counts', 'start_lat': 'lat_x', 'start_lng': 'lng_x',\n",
    "                    'end_lat': 'lat_y', 'end_lng': 'lng_y'}, inplace = True)"
   ]
  },
  {
   "cell_type": "markdown",
   "id": "5db99868-44a1-4f53-beb7-e99289f39df9",
   "metadata": {},
   "source": [
    "# Creating a Map"
   ]
  },
  {
   "cell_type": "code",
   "execution_count": null,
   "id": "068aede2-4d52-4b16-aee9-9f4ecf14c855",
   "metadata": {
    "scrolled": true
   },
   "outputs": [],
   "source": [
    "df.head()"
   ]
  },
  {
   "cell_type": "code",
   "execution_count": null,
   "id": "50fbc6f0-5019-47a5-bf69-16428bb46911",
   "metadata": {
    "scrolled": true
   },
   "outputs": [],
   "source": [
    "df.dtypes"
   ]
  },
  {
   "cell_type": "code",
   "execution_count": null,
   "id": "d5315fcf-7176-40c6-950a-0c47698d96e6",
   "metadata": {},
   "outputs": [],
   "source": [
    "# ensure numerical columns are float\n",
    "df[['lat_x', 'lng_x', 'lat_y', 'lng_y']] = df[\n",
    "    ['lat_x', 'lng_x', 'lat_y', 'lng_y']].astype(float)"
   ]
  },
  {
   "cell_type": "code",
   "execution_count": null,
   "id": "7d7dd31a-8a6e-4d20-ac35-211ef9dfdda7",
   "metadata": {},
   "outputs": [],
   "source": [
    "df.apply(lambda x: x.decode('utf-8') if isinstance(x, bytes) else x)"
   ]
  },
  {
   "cell_type": "code",
   "execution_count": null,
   "id": "94d0a96f-e4a9-4618-bdd9-880e75854758",
   "metadata": {},
   "outputs": [],
   "source": [
    "# create another smaller df for processing reasons\n",
    "df_sample = df.groupby('start_station', group_keys=False).apply(\n",
    "    lambda x: x.sample(frac=0.02, random_state=42)\n",
    ").reset_index(drop=True)"
   ]
  },
  {
   "cell_type": "code",
   "execution_count": null,
   "id": "b5e7dadc-a7af-4e9b-83b8-72453fd7c7d1",
   "metadata": {},
   "outputs": [],
   "source": [
    "df_sample.shape"
   ]
  },
  {
   "cell_type": "code",
   "execution_count": null,
   "id": "17748659-0188-4f0d-8ea0-4d62941b92c2",
   "metadata": {},
   "outputs": [],
   "source": [
    "df_sample = df_sample.map(lambda x: x.decode() if isinstance(x, bytes) else x)"
   ]
  },
  {
   "cell_type": "code",
   "execution_count": null,
   "id": "63fc0972-7727-4381-ad97-f97686dd3356",
   "metadata": {},
   "outputs": [],
   "source": [
    "for col in df_sample.select_dtypes(include=['object']).columns:\n",
    "    df_sample[col] = df_sample[col].astype(str)"
   ]
  },
  {
   "cell_type": "code",
   "execution_count": null,
   "id": "c1b0f74d-2d92-46fd-b1e3-a9887a17d1e1",
   "metadata": {
    "scrolled": true
   },
   "outputs": [],
   "source": [
    "df_sample.dtypes"
   ]
  },
  {
   "cell_type": "code",
   "execution_count": null,
   "id": "8dbdd73f-ca1e-44ad-b24f-a7d11849fcbf",
   "metadata": {},
   "outputs": [],
   "source": [
    "from IPython.display import display\n",
    "display(m)"
   ]
  },
  {
   "cell_type": "code",
   "execution_count": null,
   "id": "7b1da4a7-9d88-4d85-9556-75fbcb909250",
   "metadata": {},
   "outputs": [],
   "source": [
    "# create KeplerGl instance\n",
    "m = KeplerGl(height = 700, data={\"data_1\": df_sample})\n",
    "m"
   ]
  },
  {
   "cell_type": "code",
   "execution_count": null,
   "id": "632764c1-8e1c-4f2a-9117-a9f8a1338f1f",
   "metadata": {},
   "outputs": [],
   "source": [
    "config = m.config"
   ]
  },
  {
   "cell_type": "code",
   "execution_count": null,
   "id": "ef8619e1-383c-4dd4-95fd-f664b1369ba2",
   "metadata": {},
   "outputs": [],
   "source": [
    "config"
   ]
  },
  {
   "cell_type": "code",
   "execution_count": null,
   "id": "91891342-3c9e-4ff8-849f-767c994c79b0",
   "metadata": {},
   "outputs": [],
   "source": []
  }
 ],
 "metadata": {
  "kernelspec": {
   "display_name": "Python [conda env:env_citi_bike]",
   "language": "python",
   "name": "conda-env-env_citi_bike-py"
  },
  "language_info": {
   "codemirror_mode": {
    "name": "ipython",
    "version": 3
   },
   "file_extension": ".py",
   "mimetype": "text/x-python",
   "name": "python",
   "nbconvert_exporter": "python",
   "pygments_lexer": "ipython3",
   "version": "3.13.2"
  }
 },
 "nbformat": 4,
 "nbformat_minor": 5
}
